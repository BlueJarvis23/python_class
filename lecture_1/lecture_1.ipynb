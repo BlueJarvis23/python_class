{
 "cells": [
  {
   "cell_type": "markdown",
   "metadata": {},
   "source": [
    "# Beginning Python Class -- Lecture 1"
   ]
  },
  {
   "cell_type": "markdown",
   "metadata": {},
   "source": [
    "## Class Expectations\n",
    "\n",
    "- There is too much to cover in a class and effort will need to be put in outside of class to master concepts\n",
    "- Do Practice Exercises\n",
    "- If questions are off topic please ask me outside of lecture or during the practice lab time\n",
    "- Google is your friend - Learning to find answers to problems on your own is an essential part of scripting\n",
    "\n",
    "- Making fun of my Typos is not accepted -- :-)\n"
   ]
  },
  {
   "cell_type": "markdown",
   "metadata": {},
   "source": [
    "## Class Setup\n",
    "I will lecture for about 30-40 minutes and allow between 15-25 min for us to practice what we have talked about during lab time. During this time all questions will be accepted and students will be able to get a start on the homework problems.\n"
   ]
  },
  {
   "cell_type": "markdown",
   "metadata": {},
   "source": [
    "## Useful Links"
   ]
  },
  {
   "cell_type": "markdown",
   "metadata": {},
   "source": [
    "### SkillSoft\n",
    "Micron Employees have access to the skillsoft learning website. This can be used as supplemental help if a topic is not understood from my lectures. \n",
    "    - In a browser type: \"skillsoft/\" to go to the skillsoft home page\n",
    "        - I found that Chrome didn't seem to work for videos and I needed to use Internet Explorer\n",
    "    - Search for \"python\"\n",
    "    - Click on the \"Python: The Basics\"\n",
    "We will be covering many of the same things that are covered in this online lecture."
   ]
  },
  {
   "cell_type": "markdown",
   "metadata": {},
   "source": [
    "### Optional free Textbook\n",
    "The following link is to a free Kindle Python textbook. You can use a free Kindle reader from your amazon account to read this book.\n",
    "<https://www.amazon.com/gp/product/B01N1ZXVPL?ref_=pe_2601450_224568940_em_ti&redirect=true&pldnSite=1>"
   ]
  },
  {
   "cell_type": "markdown",
   "metadata": {},
   "source": [
    "### PEP8 Style Guide\n",
    "PEP8 style guide should be used as a reference for styling decisions. This document (<http://legacy.python.org/dev/peps/pep-0008/>) covers topics like:\n",
    "    - Indentation\n",
    "    - Comments\n",
    "    - Line Length\n",
    "These are a set of standards that allow python developers to easily work on each others code and avoid nasty syntax bugs caused by white space inconsistencies."
   ]
  },
  {
   "cell_type": "markdown",
   "metadata": {},
   "source": [
    "The Zen of Python is a guide line for Python design aphorisms."
   ]
  },
  {
   "cell_type": "code",
   "execution_count": 1,
   "metadata": {
    "collapsed": false
   },
   "outputs": [
    {
     "name": "stdout",
     "output_type": "stream",
     "text": [
      "The Zen of Python, by Tim Peters\n",
      "\n",
      "Beautiful is better than ugly.\n",
      "Explicit is better than implicit.\n",
      "Simple is better than complex.\n",
      "Complex is better than complicated.\n",
      "Flat is better than nested.\n",
      "Sparse is better than dense.\n",
      "Readability counts.\n",
      "Special cases aren't special enough to break the rules.\n",
      "Although practicality beats purity.\n",
      "Errors should never pass silently.\n",
      "Unless explicitly silenced.\n",
      "In the face of ambiguity, refuse the temptation to guess.\n",
      "There should be one-- and preferably only one --obvious way to do it.\n",
      "Although that way may not be obvious at first unless you're Dutch.\n",
      "Now is better than never.\n",
      "Although never is often better than *right* now.\n",
      "If the implementation is hard to explain, it's a bad idea.\n",
      "If the implementation is easy to explain, it may be a good idea.\n",
      "Namespaces are one honking great idea -- let's do more of those!\n"
     ]
    }
   ],
   "source": [
    "import this"
   ]
  },
  {
   "cell_type": "markdown",
   "metadata": {},
   "source": [
    "## Running Python in the Lab\n",
    "Not everyone has a dedicated Windows machine that they can remote into, and not everyone has their own Linux account. Therefore we are going to use an online Python Interpreter to run our Python code for this class. This way we can practice in the lab and students can practice at home without having to install python on their PC. I will run python from my machine during the lecture so that the process of running python from the command line is understood.\n",
    "\n",
    "Here is the link to the online Python Interpreter -- <https://repl.it/languages/python3>"
   ]
  },
  {
   "cell_type": "markdown",
   "metadata": {},
   "source": [
    "## Python and Python3 are Different\n",
    "For the purposes of this class we will be primarily using Python3 version 3.5. Just know that code from python2.X and python3.X are not compatible. They are not super different from a syntax or data structure perspective but are quite different in the way that they internally manage data. Some differences are shown below from Python2.X to Python3.X:\n",
    "    - print() needs parentheses - it's a function\n",
    "    - iterate over dictionaries using dict.items()\n",
    "    - strings and bytestrings are explicitly different, and strings by default are typically Unicode\n",
    "    - different syntax for exception handling\n",
    "    - many functions return iterable objects/generators, not lists (map, zip, etc)\n",
    "    - xrange() has been replaced with range()\n",
    "\n",
    "At Micron the version of python that is used as the default is Python version 2.6. To follow along with this class you can launch python3 by typing ```/u/qaeng/anaconda3/bin/python``` into the terminal.\n",
    "\n",
    "If you ever need to know what version of python you are currently running you can use the following python snippet."
   ]
  },
  {
   "cell_type": "code",
   "execution_count": 2,
   "metadata": {
    "collapsed": false,
    "scrolled": true
   },
   "outputs": [
    {
     "name": "stdout",
     "output_type": "stream",
     "text": [
      "3.6.0 (default, Dec 24 2016, 08:01:42) \n",
      "[GCC 4.2.1 Compatible Apple LLVM 8.0.0 (clang-800.0.42.1)]\n"
     ]
    }
   ],
   "source": [
    "import sys\n",
    "print( sys.version )"
   ]
  },
  {
   "cell_type": "markdown",
   "metadata": {},
   "source": [
    "The snippet above says that I am currently running python version 3.6.0 at the time of creating these lecture documents."
   ]
  },
  {
   "cell_type": "markdown",
   "metadata": {},
   "source": [
    "# Motivation\n",
    "Computers are very good and happy to do the same thing over and over. Automation of tasks is the main reason that I started working with computers. I wanted to learn how to make the computer work for me and do things automatically that I needed. "
   ]
  },
  {
   "cell_type": "markdown",
   "metadata": {},
   "source": [
    "# Getting Started with Python\n",
    "\n",
    "Code or Source Code in the context of this class will be defined as a sequence of instructions that the computer can interpret/compile into a useable/understandable instruction.\n",
    "\n",
    "## Syntax\n",
    "Syntax in the context of computer code is the set of rules that defines the combinations of symbols that are considered to be a correctly structured document or fragment in that language.\n",
    "\n",
    "Python was designed to have a very clean look to the code. The compromise is that to correctly interpret the code python elected to use whitespace as a syntactical character. The last language to use syntactical whitespace was Fortran which was created by IBM in 1957.\n",
    "\n",
    "Languages such as Perl and C ignore whitespace and rely on other special characters that often mean different things in different contexts. This allowed the programmer to develop their own style independent of the format of the code.\n",
    "\n",
    "A quick example is shown below:\n",
    "\n",
    "```\n",
    "foreach my $a (@list_of_numbers){\n",
    "    print \"value of a: $a\\n\";\n",
    "}\n",
    "```\n",
    "\n",
    "The exact same Perl code could be written like:\n",
    "\n",
    "```\n",
    "foreach my $a (@list_of_numbers){ print \"value of a: $a\\n\"; }\n",
    "```\n",
    "\n",
    "This is because one of the characters that Perl uses to group instructions are \"{}\" (brackets).\n",
    "\n",
    "Python avoids this type of problem by requiring whitespace syntax to group sequences of instruction:\n",
    "```python\n",
    "for a in list_of_numbers:\n",
    "    print( \"Value of a: \" + str(a))\n",
    "```\n",
    "\n",
    "Since the 'print' statement is executed during the loop it is nested/grouped inside the loop with 4 spaces. (More on loops later in Lecture 2)\n"
   ]
  },
  {
   "cell_type": "markdown",
   "metadata": {},
   "source": [
    "## Read, Evaluate, Print, Loop (REPL) -- Playing directly with the Interpreter\n",
    "The Python Interpreter can be launched from the command line in Linux simply by typing: ```python``` or in our case for python3 ```/u/qaeng/anaconda3/bin/python```. This starts the interpreter which will wait for us to run commands. This allows us to play with commands one line at a time. When we press the 'Enter' key the interpreter 'Reads' what we input, 'Evaluates' what we input, and 'Prints' the result, and then waits for the next input."
   ]
  },
  {
   "cell_type": "markdown",
   "metadata": {},
   "source": [
    "## Data Types, Variables, and Comments\n",
    "- A Data Type is a particular kind of data and defines the values that it can take in a program.\n",
    "- A variable is a storage location associated with a symbolic name or identifier.\n",
    "- A comment is text that is added to a program that is not executed in order to add notes to the code.\n",
    "    - Comments are denoted with the ```#``` character.\n",
    "    \n",
    "Mastering the predefined data types is a fundamental part of learning to program because it allows you to take advantage of built-in functionality of Python. We will not be covering member functions that are associated with the more complex data types this lecture but I will hint at them."
   ]
  },
  {
   "cell_type": "markdown",
   "metadata": {},
   "source": [
    "## Basic Data Types ( Primitives )\n",
    "\n",
    "There are other data types that will not be covered in this lecture such as 'bytearray' but the Data Types which are covered are by far the most common."
   ]
  },
  {
   "cell_type": "markdown",
   "metadata": {},
   "source": [
    "### int\n",
    "'int' means integer. A whole number positive or negative including zero. Python defaults most calculations to avoid some interesting behaviors, but it is good to understand what is going on so let's explore those now."
   ]
  },
  {
   "cell_type": "code",
   "execution_count": 3,
   "metadata": {
    "collapsed": false
   },
   "outputs": [
    {
     "name": "stdout",
     "output_type": "stream",
     "text": [
      "5 <class 'int'>\n",
      "2\n"
     ]
    }
   ],
   "source": [
    "x = 5\n",
    "# type is a function that will give us the data type of what it recieves\n",
    "# Print is a function that will output to the console, (print what we want to see)\n",
    "print( x, type(x) ) \n",
    "print( int(x/2) )"
   ]
  },
  {
   "cell_type": "markdown",
   "metadata": {},
   "source": [
    "We all know that 5 divided by 2 is 2.5 but integers can only store whole numbers and therefore the computer truncates 2.5 to 2 as shown above."
   ]
  },
  {
   "cell_type": "markdown",
   "metadata": {},
   "source": [
    "### Float\n",
    "'float' means a floating point number. A floating point number is a number with a decimal point. Python tries to be smart when determining what kind of data something is as demonstrated below."
   ]
  },
  {
   "cell_type": "code",
   "execution_count": 4,
   "metadata": {
    "collapsed": false
   },
   "outputs": [
    {
     "name": "stdout",
     "output_type": "stream",
     "text": [
      "5 <class 'int'>\n",
      "2.5 <class 'float'>\n"
     ]
    }
   ],
   "source": [
    "x = 5\n",
    "print( x, type( x ))\n",
    "y = x/2\n",
    "print( y, type( y ))"
   ]
  },
  {
   "cell_type": "markdown",
   "metadata": {},
   "source": [
    "What is x = 10? Will I get a int or a float?"
   ]
  },
  {
   "cell_type": "markdown",
   "metadata": {},
   "source": [
    "### Bool\n",
    "'bool' is a boolean value, meaning that it can be either true or false. There are keywords in python for True and False that are of type 'bool'. In python: 0, the keyword None, and empty sets, are considered to be false and all other values are considered true.\n"
   ]
  },
  {
   "cell_type": "code",
   "execution_count": 5,
   "metadata": {
    "collapsed": false
   },
   "outputs": [
    {
     "name": "stdout",
     "output_type": "stream",
     "text": [
      "<class 'bool'> <class 'bool'>\n",
      "True True True False False False True\n"
     ]
    }
   ],
   "source": [
    "print( type(True), type(False))\n",
    "print( bool(1), bool(2), bool(-1), bool(0), bool(None), bool([]), bool(['a']))\n"
   ]
  },
  {
   "cell_type": "markdown",
   "metadata": {},
   "source": [
    "## Sequence Data Types\n",
    "Sequence Data Types can be a whole structure or individually look at the parts with an index. An index is just a number that tells the data type which little piece inside we want to look at."
   ]
  },
  {
   "cell_type": "markdown",
   "metadata": {},
   "source": [
    "### String\n",
    "String is a sequence of characters. This is the common way to store and manipulate text. Strings can contain: letters, numerals, symbols, and punctuation marks. Python can also be used to store Unicode characters. Unicode characters have the ability to encode many more characters than the ones available on the keyboard. \n",
    "\n",
    "Unicode characters can be looked up here: <http://www.rapidtables.com/code/text/unicode-characters.htm>"
   ]
  },
  {
   "cell_type": "code",
   "execution_count": 6,
   "metadata": {
    "collapsed": false
   },
   "outputs": [
    {
     "name": "stdout",
     "output_type": "stream",
     "text": [
      "<class 'str'> Dallin Marshall\n",
      "<class 'str'> This is a sentence with numbers (3.14) and special characters (?.,<>&).\n",
      "<class 'str'> ₩, ₪, α, β\n"
     ]
    }
   ],
   "source": [
    "x = \"Dallin Marshall\"\n",
    "print( type(x), x )\n",
    "y = \"This is a sentence with numbers (3.14) and special characters (?.,<>&).\"\n",
    "print( type(y), y )\n",
    "# These are Unicode characters, see print out below\n",
    "z = \"\\u20A9, \\u20AA, \\u03B1, \\u03B2\" \n",
    "print( type(z), z )"
   ]
  },
  {
   "cell_type": "markdown",
   "metadata": {},
   "source": [
    "Python uses two characters to denote strings, single quotes (```'```) and double quotes (```\"```). To split strings on to multiple lines you can either do so by explicitly using the ```\\n``` character with regular quotes (',\") or with the ```\"\"\"``` multi-line string quotes. In multi-line string quote can span multiple lines of code ```\"\"\"``` and print out the same way. "
   ]
  },
  {
   "cell_type": "code",
   "execution_count": 7,
   "metadata": {
    "collapsed": false
   },
   "outputs": [
    {
     "name": "stdout",
     "output_type": "stream",
     "text": [
      "Dallin Marshall Dallin Marshall\n",
      "₩, ₪, α, β ₩, ₪, α, β\n",
      "Dallin\n",
      "Marshall\n",
      "Dallin\n",
      "Marshall\n"
     ]
    }
   ],
   "source": [
    "x = \"Dallin Marshall\" # double quotes\n",
    "x1 = 'Dallin Marshall' # single quotes\n",
    "print( x, x1 )\n",
    "\n",
    "y = \"\\u20A9, \\u20AA, \\u03B1, \\u03B2\"\n",
    "y1 = '\\u20A9, \\u20AA, \\u03B1, \\u03B2'\n",
    "print( y, y1 )\n",
    "\n",
    "z = \"Dallin\\nMarshall\" # \\n is the escape character to denote new line\n",
    "z1 = \"\"\"Dallin\n",
    "Marshall\"\"\"\n",
    "print( z )\n",
    "print( z1 )"
   ]
  },
  {
   "cell_type": "markdown",
   "metadata": {},
   "source": [
    "There is a built-in function that can convert data types to strings. This function can come in handy when receiving the input from a user, manipulating the data, and then converting it back to a string. "
   ]
  },
  {
   "cell_type": "code",
   "execution_count": 8,
   "metadata": {
    "collapsed": false
   },
   "outputs": [
    {
     "ename": "TypeError",
     "evalue": "unsupported operand type(s) for /: 'str' and 'int'",
     "output_type": "error",
     "traceback": [
      "\u001b[0;31m---------------------------------------------------------------------------\u001b[0m",
      "\u001b[0;31mTypeError\u001b[0m                                 Traceback (most recent call last)",
      "\u001b[0;32m<ipython-input-8-87ba7c8a6868>\u001b[0m in \u001b[0;36m<module>\u001b[0;34m()\u001b[0m\n\u001b[1;32m      1\u001b[0m \u001b[0;31m# This is what does not work\u001b[0m\u001b[0;34m\u001b[0m\u001b[0;34m\u001b[0m\u001b[0m\n\u001b[1;32m      2\u001b[0m \u001b[0mx\u001b[0m \u001b[0;34m=\u001b[0m \u001b[0;34m\"26\"\u001b[0m\u001b[0;34m\u001b[0m\u001b[0m\n\u001b[0;32m----> 3\u001b[0;31m \u001b[0mprint\u001b[0m\u001b[0;34m(\u001b[0m \u001b[0mx\u001b[0m \u001b[0;34m/\u001b[0m \u001b[0;36m2\u001b[0m \u001b[0;34m)\u001b[0m\u001b[0;34m\u001b[0m\u001b[0m\n\u001b[0m",
      "\u001b[0;31mTypeError\u001b[0m: unsupported operand type(s) for /: 'str' and 'int'"
     ]
    }
   ],
   "source": [
    "# This is what does not work\n",
    "x = \"26\"\n",
    "print( x / 2 )"
   ]
  },
  {
   "cell_type": "code",
   "execution_count": 9,
   "metadata": {
    "collapsed": false
   },
   "outputs": [
    {
     "name": "stdout",
     "output_type": "stream",
     "text": [
      "<class 'str'>\n",
      "<class 'int'>\n",
      "<class 'str'>\n",
      "13.0\n"
     ]
    }
   ],
   "source": [
    "# This is how to convert from a string to a number\n",
    "x = \"26\"\n",
    "print( type(x) )\n",
    "x = int(x)\n",
    "print( type(x) )\n",
    "# This is the string function. It converts things to strings\n",
    "x = str(x/2)\n",
    "print( type( x ) )\n",
    "print( x )"
   ]
  },
  {
   "cell_type": "markdown",
   "metadata": {},
   "source": [
    "The reason that strings are a sequence data type is because the individual elements that make up the string can be referenced independently. Don't worry too much if you don't understand all of what is going on with the indexes. There will be much more on indexing in the list section. For now this is just a quick look to show you can we can look at the individual characters of a string."
   ]
  },
  {
   "cell_type": "code",
   "execution_count": 10,
   "metadata": {
    "collapsed": false
   },
   "outputs": [
    {
     "name": "stdout",
     "output_type": "stream",
     "text": [
      "D\n",
      "i\n",
      "h\n",
      "Marshall\n",
      "Dallin Marshall\n",
      "llahsraM nillaD\n",
      "Dli asal\n"
     ]
    }
   ],
   "source": [
    "x = \"Dallin Marshall\"\n",
    "print( x[0] ) # First Character of x. Remember that Python counts starting at 0\n",
    "print( x[4] )\n",
    "print( x[-4] )\n",
    "print( x[7:] ) # Print location 7 to the end\n",
    "print( x[::] ) # Print whole string\n",
    "print( x[::-1] ) # Print the string moving one space at a time backwards\n",
    "print( x[0::2] ) # start with 0, do the whole string, moving at a step of 2"
   ]
  },
  {
   "cell_type": "markdown",
   "metadata": {},
   "source": [
    "Strings have many member functions which we will talk about later in the class. Member functions are other functionality that certain data types provide to the user. More information about strings can be found here: <https://docs.python.org/3/library/stdtypes.html#string-methods>\n",
    "\n",
    "Strings have the following member functions:"
   ]
  },
  {
   "cell_type": "code",
   "execution_count": 11,
   "metadata": {
    "collapsed": false
   },
   "outputs": [
    {
     "data": {
      "text/plain": [
       "['capitalize',\n",
       " 'casefold',\n",
       " 'center',\n",
       " 'count',\n",
       " 'encode',\n",
       " 'endswith',\n",
       " 'expandtabs',\n",
       " 'find',\n",
       " 'format',\n",
       " 'format_map',\n",
       " 'index',\n",
       " 'isalnum',\n",
       " 'isalpha',\n",
       " 'isdecimal',\n",
       " 'isdigit',\n",
       " 'isidentifier',\n",
       " 'islower',\n",
       " 'isnumeric',\n",
       " 'isprintable',\n",
       " 'isspace',\n",
       " 'istitle',\n",
       " 'isupper',\n",
       " 'join',\n",
       " 'ljust',\n",
       " 'lower',\n",
       " 'lstrip',\n",
       " 'maketrans',\n",
       " 'partition',\n",
       " 'replace',\n",
       " 'rfind',\n",
       " 'rindex',\n",
       " 'rjust',\n",
       " 'rpartition',\n",
       " 'rsplit',\n",
       " 'rstrip',\n",
       " 'split',\n",
       " 'splitlines',\n",
       " 'startswith',\n",
       " 'strip',\n",
       " 'swapcase',\n",
       " 'title',\n",
       " 'translate',\n",
       " 'upper',\n",
       " 'zfill']"
      ]
     },
     "execution_count": 11,
     "metadata": {},
     "output_type": "execute_result"
    }
   ],
   "source": [
    "x = str\n",
    "[method for method in dir(x) if callable(getattr(x, method)) \n",
    "        and not method.startswith( '__' )]"
   ]
  },
  {
   "cell_type": "markdown",
   "metadata": {},
   "source": [
    "### List\n",
    "Lists in python are special objects that store groups of items. Lists are denoted with the ```[]``` characters. Keep in mind that python is what is called a zero-based language. Therefore the first item in a list is the 0th element. \n",
    "\n",
    "Lists can also be used to store collections of data that are not of the same data types. "
   ]
  },
  {
   "cell_type": "code",
   "execution_count": 12,
   "metadata": {
    "collapsed": false
   },
   "outputs": [
    {
     "name": "stdout",
     "output_type": "stream",
     "text": [
      "<class 'list'>\n",
      "4\n",
      "8\n",
      "['Dallin Marshall', 26, 'Engineer', [1, 2, 3, 4]]\n"
     ]
    }
   ],
   "source": [
    "x = [1, 2, 3, 4, 5, 6, 7, 8 ,9, 0]\n",
    "print( type( x ) )\n",
    "print( x[3] )\n",
    "print( x[7] )\n",
    "\n",
    "# y could be a structure that stores data about a person:\n",
    "#     Name             age   JobTitle   favNumbers\n",
    "y = [\"Dallin Marshall\", 26, \"Engineer\", [1,2,3,4]]\n",
    "print( y )"
   ]
  },
  {
   "cell_type": "markdown",
   "metadata": {},
   "source": [
    "Lists can be indexed in many ways: Backwards, Forwards, with a particular increment, or partition. A partition is just a smaller window of the data type.\n",
    "\n",
    "Indexes are used to tell python what element we want to look at in the same way as strings. Indexes have the form of ```[begin:end:increment]```. If a value is not given then python assumes the maximum value.\n",
    "\n",
    "List elements can also be changed."
   ]
  },
  {
   "cell_type": "code",
   "execution_count": 13,
   "metadata": {
    "collapsed": false
   },
   "outputs": [
    {
     "name": "stdout",
     "output_type": "stream",
     "text": [
      "[0, 1, 2, 3, 4, 5, 6, 7, 8, 9, 10, 11, 12, 13, 14, 15, 16, 17, 18, 19]\n",
      "5\n",
      "9\n",
      "[2, 3, 4, 5, 6, 7]\n",
      "[0, 1, 2, 3, 4, 5, 6, 7, 8, 9]\n",
      "[0, 2, 4, 6, 8, 10, 12, 14, 16, 18]\n",
      "[0, 3, 6, 9, 12, 15, 18]\n",
      "[0, 1, 2, 3, 4, 5, 6, 7, 8, 9, 'Dallin Marshall', 11, 12, 13, 14, 15, 16, 17, 18, 19]\n"
     ]
    }
   ],
   "source": [
    "x = [0,1,2,3,4,5,6,7,8,9,10,11,12,13,14,15,16,17,18,19]\n",
    "print( x )\n",
    "print( x[5] ) # print 5th element\n",
    "print( x[-11] ) # print the negative 11th element\n",
    "# Everything below this point is considered a partition of x ( a sub-set of x )\n",
    "print( x[2:8] ) # print from element 2 to right before element 8.\n",
    "print( x[:10] ) # print elements 0 to 9\n",
    "print( x[::2] ) # print every other element of x\n",
    "print( x[::3] ) # print every third element of x\n",
    "\n",
    "x[10] = \"Dallin Marshall\"\n",
    "print( x )"
   ]
  },
  {
   "cell_type": "markdown",
   "metadata": {},
   "source": [
    "Lists have many member functions which we will talk about later in the class. Member functions are other functionality that certain data types provide to the user. More information about lists can be found here: <https://docs.python.org/3.5/tutorial/datastructures.html#>\n",
    "\n",
    "We will cover more advanced list creation such as list comprehension in a future lecture.\n",
    "\n",
    "Lists have the following member functions:"
   ]
  },
  {
   "cell_type": "code",
   "execution_count": 14,
   "metadata": {
    "collapsed": false
   },
   "outputs": [
    {
     "data": {
      "text/plain": [
       "['append',\n",
       " 'clear',\n",
       " 'copy',\n",
       " 'count',\n",
       " 'extend',\n",
       " 'index',\n",
       " 'insert',\n",
       " 'pop',\n",
       " 'remove',\n",
       " 'reverse',\n",
       " 'sort']"
      ]
     },
     "execution_count": 14,
     "metadata": {},
     "output_type": "execute_result"
    }
   ],
   "source": [
    "x = list\n",
    "[method for method in dir(x) if callable(getattr(x, method))\n",
    "        and not method.startswith( '__' )]"
   ]
  },
  {
   "cell_type": "markdown",
   "metadata": {},
   "source": [
    "### Tuple\n",
    "Tuples are like lists except that they are immutable. This means that you can't change the elements once the tuple is assigned to a variable. Tuples are denoted with the ```()``` characters."
   ]
  },
  {
   "cell_type": "code",
   "execution_count": 15,
   "metadata": {
    "collapsed": false
   },
   "outputs": [
    {
     "name": "stdout",
     "output_type": "stream",
     "text": [
      "<class 'tuple'>\n"
     ]
    },
    {
     "ename": "TypeError",
     "evalue": "'tuple' object does not support item assignment",
     "output_type": "error",
     "traceback": [
      "\u001b[0;31m---------------------------------------------------------------------------\u001b[0m",
      "\u001b[0;31mTypeError\u001b[0m                                 Traceback (most recent call last)",
      "\u001b[0;32m<ipython-input-15-f4cb124ea3e9>\u001b[0m in \u001b[0;36m<module>\u001b[0;34m()\u001b[0m\n\u001b[1;32m      1\u001b[0m \u001b[0mx\u001b[0m \u001b[0;34m=\u001b[0m \u001b[0;34m(\u001b[0m\u001b[0;36m0\u001b[0m\u001b[0;34m,\u001b[0m\u001b[0;36m1\u001b[0m\u001b[0;34m,\u001b[0m\u001b[0;36m2\u001b[0m\u001b[0;34m,\u001b[0m\u001b[0;36m3\u001b[0m\u001b[0;34m,\u001b[0m\u001b[0;36m4\u001b[0m\u001b[0;34m,\u001b[0m\u001b[0;36m5\u001b[0m\u001b[0;34m,\u001b[0m\u001b[0;36m6\u001b[0m\u001b[0;34m,\u001b[0m\u001b[0;36m7\u001b[0m\u001b[0;34m,\u001b[0m\u001b[0;36m8\u001b[0m\u001b[0;34m,\u001b[0m\u001b[0;36m9\u001b[0m\u001b[0;34m)\u001b[0m\u001b[0;34m\u001b[0m\u001b[0m\n\u001b[1;32m      2\u001b[0m \u001b[0mprint\u001b[0m\u001b[0;34m(\u001b[0m \u001b[0mtype\u001b[0m\u001b[0;34m(\u001b[0m \u001b[0mx\u001b[0m \u001b[0;34m)\u001b[0m \u001b[0;34m)\u001b[0m\u001b[0;34m\u001b[0m\u001b[0m\n\u001b[0;32m----> 3\u001b[0;31m \u001b[0mx\u001b[0m\u001b[0;34m[\u001b[0m\u001b[0;36m4\u001b[0m\u001b[0;34m]\u001b[0m \u001b[0;34m=\u001b[0m \u001b[0;36m100\u001b[0m\u001b[0;34m\u001b[0m\u001b[0m\n\u001b[0m",
      "\u001b[0;31mTypeError\u001b[0m: 'tuple' object does not support item assignment"
     ]
    }
   ],
   "source": [
    "x = (0,1,2,3,4,5,6,7,8,9)\n",
    "print( type( x ) )\n",
    "x[4] = 100"
   ]
  },
  {
   "cell_type": "markdown",
   "metadata": {},
   "source": [
    "Tuples have many member functions which we will talk about later in the class. Member functions are other functionality that certain data types provide to the user. Tuples have relatively few methods associated with them. This is because of their immutable nature.\n",
    "\n",
    "Tuples have the following member functions:"
   ]
  },
  {
   "cell_type": "code",
   "execution_count": 16,
   "metadata": {
    "collapsed": false
   },
   "outputs": [
    {
     "data": {
      "text/plain": [
       "['count', 'index']"
      ]
     },
     "execution_count": 16,
     "metadata": {},
     "output_type": "execute_result"
    }
   ],
   "source": [
    "x = tuple\n",
    "[method for method in dir(x) if callable(getattr(x, method))\n",
    "        and not method.startswith( '__' )]"
   ]
  },
  {
   "cell_type": "markdown",
   "metadata": {},
   "source": [
    "## Collection and Mapping Data Types"
   ]
  },
  {
   "cell_type": "markdown",
   "metadata": {
    "collapsed": true
   },
   "source": [
    "### Dictionary\n",
    "Dictionaries are one of the most useful data types that Python provides to the users. These structures are known by different names in other languages. For example in C++ these are Maps and in Perl these are Hashes.\n",
    "\n",
    "Essentially a Dictionary is a way to point one value to another. This could be very handy in many applications where data relates to other data. For example where I want to relate some information about myself. Dictionaries are denoted with the ```{}``` characters."
   ]
  },
  {
   "cell_type": "code",
   "execution_count": 17,
   "metadata": {
    "collapsed": false
   },
   "outputs": [
    {
     "name": "stdout",
     "output_type": "stream",
     "text": [
      "<class 'dict'>\n",
      "Dallin's Age is: 26\n",
      "Dallin's Email is: dmarshall@micron.com\n"
     ]
    }
   ],
   "source": [
    "dallin = {'age': 26, \n",
    "          'college_team': 'USU', \n",
    "          'favColor': 'Blue', \n",
    "          'email': 'dmarshall@micron.com'}\n",
    "print( type( dallin ) )\n",
    "print( \"Dallin's Age is: \" + str(dallin['age']))\n",
    "print( \"Dallin's Email is: \" + dallin['email']) \n",
    "# why did I not need to use the str function here."
   ]
  },
  {
   "cell_type": "markdown",
   "metadata": {},
   "source": [
    "Dictionaries have many member functions which we will talk about later in the class. Member functions are other functionality that certain data types provide to the user. More information about dictionaries can be found here: <https://docs.python.org/3/tutorial/datastructures.html#dictionaries>\n",
    "\n",
    "Dictionaries have the following member functions:"
   ]
  },
  {
   "cell_type": "code",
   "execution_count": 18,
   "metadata": {
    "collapsed": false
   },
   "outputs": [
    {
     "data": {
      "text/plain": [
       "['clear',\n",
       " 'copy',\n",
       " 'fromkeys',\n",
       " 'get',\n",
       " 'items',\n",
       " 'keys',\n",
       " 'pop',\n",
       " 'popitem',\n",
       " 'setdefault',\n",
       " 'update',\n",
       " 'values']"
      ]
     },
     "execution_count": 18,
     "metadata": {},
     "output_type": "execute_result"
    }
   ],
   "source": [
    "x = dict\n",
    "[method for method in dir(x) if callable(getattr(x, method))\n",
    "        and not method.startswith( '__' )]"
   ]
  },
  {
   "cell_type": "markdown",
   "metadata": {},
   "source": [
    "# Practice Problems\n",
    "There is one more function that I will introduce this week that will allow your programs to be a little more flexible and accept user input. The input function stores a string of the value input by the user into the assigned variable."
   ]
  },
  {
   "cell_type": "code",
   "execution_count": 19,
   "metadata": {
    "collapsed": false
   },
   "outputs": [
    {
     "name": "stdout",
     "output_type": "stream",
     "text": [
      "Please give me a number: 3.1415\n",
      "<class 'str'>\n",
      "The number that you gave me is: 3.1415\n"
     ]
    }
   ],
   "source": [
    "# input waits for the user to type in a value. I typed in 3.1415\n",
    "x = input( \"Please give me a number: \") \n",
    "print( type( x ) )\n",
    "print( \"The number that you gave me is: \" + x )"
   ]
  },
  {
   "cell_type": "markdown",
   "metadata": {},
   "source": [
    "## Practice Problem 1\n",
    "Accept input from the user and then reverse the string and print it back to the user.\n"
   ]
  },
  {
   "cell_type": "markdown",
   "metadata": {},
   "source": [
    "## Practice Problem 2\n",
    "Practice making a dictionary of dictionaries that follows the same format as I demonstrated in the dictionary section for each member.\n",
    "\n",
    "```python\n",
    "{'age': 26, \n",
    " 'college_team': 'USU', \n",
    " 'favColor': 'Blue', \n",
    " 'email': 'dmarshall@micron.com'}\n",
    "```\n",
    "\n",
    "Add entries for yourself, me (dallin), and your supervisor.\n",
    "\n",
    "Once the dictionary or dictionaries is complete you should be able to access elements as follows:\n",
    "```python\n",
    "x['dallin']['age']\n",
    "```"
   ]
  },
  {
   "cell_type": "markdown",
   "metadata": {},
   "source": [
    "## Practice Problem 3\n",
    "An industrious USU freshman wishes to conduct an experiment wherein a 0.065 Kg raw egg is to be launched over the top of Old Main Hall using a slingshot with ideal elastics and delivered to an otherwise preoccupied professor travelling across campus.\n",
    "\n",
    "![title](problem3.png)\n",
    "\n",
    "Create a program that accepts two arguments (inputs) corresponding to Theta(degrees) and D(meters) in the diagram above which will tell us how far we will need to pull back our slingshot to hit our professor with an egg.\n",
    "\n",
    "Hint you can make use of the math library to facilitate solving this problem. Add the ```import math``` line at the top of your file and you will have access to math function. More info on the math module here: <https://docs.python.org/3.5/library/math.html>"
   ]
  },
  {
   "cell_type": "code",
   "execution_count": 20,
   "metadata": {
    "collapsed": false
   },
   "outputs": [
    {
     "name": "stdout",
     "output_type": "stream",
     "text": [
      "10.0 0.7071067811865475\n"
     ]
    }
   ],
   "source": [
    "import math\n",
    "x = math.sqrt(100)\n",
    "# The Sin function requires it's argument to be in radians\n",
    "# Therefore we can use the math.radians function to convert degrees to radians.\n",
    "y = math.sin( math.radians(45) )\n",
    "\n",
    "print( x, y )"
   ]
  },
  {
   "cell_type": "markdown",
   "metadata": {},
   "source": [
    "Please format your result in the following way - \"You need to pull the slingshot back ### meters to hit the Professor.\""
   ]
  }
 ],
 "metadata": {
  "kernelspec": {
   "display_name": "Python 3",
   "language": "python",
   "name": "python3"
  },
  "language_info": {
   "codemirror_mode": {
    "name": "ipython",
    "version": 3
   },
   "file_extension": ".py",
   "mimetype": "text/x-python",
   "name": "python",
   "nbconvert_exporter": "python",
   "pygments_lexer": "ipython3",
   "version": "3.6.0"
  }
 },
 "nbformat": 4,
 "nbformat_minor": 0
}
