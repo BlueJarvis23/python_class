{
 "cells": [
  {
   "cell_type": "markdown",
   "metadata": {},
   "source": [
    "# Beginning Python Class -- Lecture 4"
   ]
  },
  {
   "cell_type": "markdown",
   "metadata": {},
   "source": [
    "## Expected Understanding\n",
    "At this point in the class it is very important that you have a good understanding of the topics in previous lectures. The topics today will build directly on the previous topics such as:\n",
    "\n",
    "    - Basic Data Types\n",
    "    - Conditionals\n",
    "    - Loops\n",
    "    - Functions\n",
    "\n",
    "Today's lecture we touch on User Defined Datatypes. This an advanced topic that usually encompasses multiple college Computer Science courses. Usually this leads to discussions of Object Oriented Programming (OOP) which we are going to try and avoid for the purposes of this class. I only want to describe objects with member attributed and methods not the use of OOP design patterns."
   ]
  },
  {
   "cell_type": "markdown",
   "metadata": {},
   "source": [
    "### Running Python in the Lab\n",
    "Not everyone has a dedicated Windows machine that they can remote into, and not everyone has their own Linux account. Therefore we are going to use an online Python Interpreter to run our Python code for this class. This way we can practice in the lab and students can practice at home without having to install python on their PC. I will run python from my machine during the lecture so that the process of running python from the command line is understood.\n",
    "\n",
    "Here is the link to the online Python Interpreter -- <https://repl.it/languages/python3>"
   ]
  },
  {
   "cell_type": "markdown",
   "metadata": {},
   "source": [
    "### PEP8 Style Guide\n",
    "PEP8 style guide should be used as a reference for styling decisions. This document (<http://legacy.python.org/dev/peps/pep-0008/>) covers topics like:\n",
    "    - Indentation\n",
    "    - Comments\n",
    "    - Line Length\n",
    "These are a set of standards that allow python developers to easily work on each others code and avoid nasty syntax bugs caused by white space inconsistencies."
   ]
  },
  {
   "cell_type": "markdown",
   "metadata": {},
   "source": [
    "### Syntax\n",
    "Syntax in the context of computer code is the set of rules that defines the combinations of symbols that are considered to be a correctly structured document or fragment in that language.\n",
    "\n",
    "Python was designed to have a very clean look to the code. The compromise is that to correctly interpret the code python elected to use white space as a syntactical character. The last language to use syntactical white space was Fortran which was created by IBM in 1957.\n",
    "\n",
    "Languages such as Perl and C ignore white space and rely on other special characters that often mean different things in different contexts. This allowed the programmer to develop their own style independent of the format of the code.\n",
    "\n",
    "A quick example is shown below:\n",
    "\n",
    "```\n",
    "foreach my $a (@list_of_numbers){\n",
    "    print \"value of a: $a\\n\";\n",
    "}\n",
    "```\n",
    "\n",
    "The exact same Perl code could be written like:\n",
    "\n",
    "```\n",
    "foreach my $a (@list_of_numbers){ print \"value of a: $a\\n\"; }\n",
    "```\n",
    "\n",
    "This is because one of the characters that Perl uses to group instructions are \"{}\" (brackets).\n",
    "\n",
    "Python avoids this type of problem by requiring white space syntax to group sequences of instruction:\n",
    "```python\n",
    "for a in list_of_numbers:\n",
    "    print( \"Value of a: \" + str(a))\n",
    "```\n",
    "\n",
    "Since the 'print' statement is executed during the loop it is nested/grouped inside the loop with 4 spaces. (More on loops later in Lecture 2)\n"
   ]
  },
  {
   "cell_type": "markdown",
   "metadata": {},
   "source": [
    "## User Defined Datatypes\n",
    "Lecture 1 of this class covered Basic/Built-in Datatypes such as `list` and `string`. Python allows the programmer to define their own datatypes. User defined datatypes as well as built-in datatypes, excluding `int`, `float`, and `bool`, are called classes/objects. The general form for defining a class is:\n",
    "\n",
    "```python\n",
    "class CLASS_NAME:\n",
    "    ATTRIBUTE = SOME_VALUE\n",
    "    def __init__():\n",
    "        pass\n",
    "    def OTHER_MEMBER_FUNCTION():\n",
    "        pass\n",
    "```\n",
    "\n",
    "For example we could define an shape datatype if we wanted to model some sort of geometry program. We will use some basic examples using squares and rectangles."
   ]
  },
  {
   "cell_type": "code",
   "execution_count": 1,
   "metadata": {
    "collapsed": false
   },
   "outputs": [
    {
     "name": "stdout",
     "output_type": "stream",
     "text": [
      "Rectangle 30 50\n",
      "Square 28 49\n"
     ]
    }
   ],
   "source": [
    "import math\n",
    "class shape:\n",
    "    pass\n",
    "\n",
    "class rectangle(shape):\n",
    "    name = \"Rectangle\"\n",
    "    def __init__(self, length, width):\n",
    "        self.length = length\n",
    "        self.width = width\n",
    "    def get_perimeter(self):\n",
    "        self.perimeter = self.length*2 + self.width*2\n",
    "        return self.perimeter\n",
    "    def get_area(self):\n",
    "        self.area = self.length * self.width\n",
    "        return self.area\n",
    "    \n",
    "class square(rectangle):\n",
    "    name = \"Square\"\n",
    "    def __init__(self, length):\n",
    "        self.length = length\n",
    "        self.width = length\n",
    "    \n",
    "x = rectangle(10,5)\n",
    "print( x.name, x.get_perimeter(), x.get_area() )\n",
    "\n",
    "y = square(7)\n",
    "print( y.name, y.get_perimeter(), y.get_area() )\n",
    "    "
   ]
  },
  {
   "cell_type": "markdown",
   "metadata": {},
   "source": [
    "In the example above we created three classes, `shape`, `rectangle`, and `square`. I defined these classes to show basic functionality of member attributes and member functions. Member functions and attributes are accessed using the '.' operator. To access the `name` attribute of the object in `x` we do so like `x.name`. We will also talk briefly about _inheritance_.\n",
    "\n",
    "`self.name`, `self.length`, and `self.width` are all member attributes. Member attributes can be thought of as data that pertains to the class itself. `self` is a special way to tell Python that we are talking about the data that is part of the particular object.\n",
    "\n",
    "`get_perimeter` and `get_area` are examples of member functions. Member functions are functions that are defined for a particular object. In our case we know that each of our shapes will have a perimeter and an area associated with them. To acess a member function we use the '.' operator but also put the '()' at the end because it is a function.\n",
    "\n",
    "The last item that I would like to bring to your intention from the code above is that a `rectangle` is a `shape` and _inherits_ from the `shape` class. In our case I didn't define anything for the `shape` class but I could. Next since every `square` is a `rectangle` we _inherit_ the `square` class from the `rectangle`. We redefine the `__init__` function for the `square` class because we only need the length of a single side for a `square`. The `get_perimeter` and `get_area` functions are still available for use in the `square` class because they are _inherited_ from the `rectangle` class."
   ]
  },
  {
   "cell_type": "markdown",
   "metadata": {},
   "source": [
    "### Terminology\n",
    "We are going to continue talking about our shapes and rectangles to introduce some terminology that you will find when learning about class/objects.\n",
    "\n",
    "#### Sub-class/Child\n",
    "- `rectangle` is a _sub-class_ of `shape`.\n",
    "- `square` is a _sub-class_ of `rectangle`.\n",
    "\n",
    "- `rectangle` is a _child_ of `shape`.\n",
    "- `square` is a _child_ of `rectangle`.\n",
    "\n",
    "#### Super-class/Parent\n",
    "- `shape` is a _super-class_ of `rectangle`.\n",
    "- `rectangle` is a _super-class_ of `square`.\n",
    "\n",
    "- `shape` is a _parent_ of `rectangle`.\n",
    "- `rectangle` is a _parent_ of `square`.\n",
    "\n",
    "#### Inherit\n",
    "- `square` _inherits_ from `rectangle` which in turn _inherits_ from `shape`."
   ]
  },
  {
   "cell_type": "markdown",
   "metadata": {},
   "source": [
    "### One More Shape\n",
    "Let's add one more type of `shape` to our collection of classes."
   ]
  },
  {
   "cell_type": "code",
   "execution_count": 2,
   "metadata": {
    "collapsed": false
   },
   "outputs": [
    {
     "name": "stdout",
     "output_type": "stream",
     "text": [
      "Triangle 12 6.0\n"
     ]
    }
   ],
   "source": [
    "class triangle(shape):\n",
    "    name = \"Triangle\"\n",
    "    def __init__(self, s1, s2, s3):\n",
    "        self.side1 = s1\n",
    "        self.side2 = s2\n",
    "        self.side3 = s3\n",
    "        self.get_perimeter()\n",
    "        self.get_area()\n",
    "    def get_perimeter(self):\n",
    "        self.perimeter = self.side1 + self.side2 + self.side3\n",
    "        return self.perimeter\n",
    "    def get_area(self):\n",
    "        self.semiperimeter = self.perimeter / 2\n",
    "        s = self.semiperimeter\n",
    "        a = self.side1\n",
    "        b = self.side2\n",
    "        c = self.side3\n",
    "        # Heron's Formula\n",
    "        self.area = 0.25 * math.sqrt( 4*pow(a,2)*pow(b,2) - pow( (pow(a,2) + pow(b,2) - pow(c,2)), 2) )\n",
    "        \n",
    "z = triangle( 3,4,5 )\n",
    "print( z.name, z.perimeter, z.area )"
   ]
  },
  {
   "cell_type": "markdown",
   "metadata": {},
   "source": [
    "In the example above we created another _subclass_ of `shape` called `triangle`. `triangle` has been set up to give us the same information about perimeter and area as we setup for the `rectangle` class. \n",
    "\n",
    "NOTE: I didn't do any error checking to make sure that the triangle was actually a valid triangle. I leave it to the user to pass real valid line lengths to the object otherwise it will crash Python."
   ]
  },
  {
   "cell_type": "markdown",
   "metadata": {},
   "source": [
    "# Motivation for this Lecture\n",
    "_Inheritance_ and _Classes_ can quickly become quite complex but they allow the programmer a flexible way of modeling a wide variety of problems. The reason that I wanted to cover a brief over-view of classes/objects is because built-in datatypes like `list` and `string` are objects. Both `list` and `string` have their own member functions that can be used when working on these built-in datatypes. See lecture_1 for more information of the available members for other built-in datatypes."
   ]
  },
  {
   "cell_type": "markdown",
   "metadata": {},
   "source": [
    "## String\n",
    "Let me go over a quick explanation of the available methods and attributes for strings. Strings have the following attributes and methods associated with them."
   ]
  },
  {
   "cell_type": "code",
   "execution_count": 3,
   "metadata": {
    "collapsed": false
   },
   "outputs": [
    {
     "data": {
      "text/plain": [
       "['capitalize',\n",
       " 'casefold',\n",
       " 'center',\n",
       " 'count',\n",
       " 'encode',\n",
       " 'endswith',\n",
       " 'expandtabs',\n",
       " 'find',\n",
       " 'format',\n",
       " 'format_map',\n",
       " 'index',\n",
       " 'isalnum',\n",
       " 'isalpha',\n",
       " 'isdecimal',\n",
       " 'isdigit',\n",
       " 'isidentifier',\n",
       " 'islower',\n",
       " 'isnumeric',\n",
       " 'isprintable',\n",
       " 'isspace',\n",
       " 'istitle',\n",
       " 'isupper',\n",
       " 'join',\n",
       " 'ljust',\n",
       " 'lower',\n",
       " 'lstrip',\n",
       " 'maketrans',\n",
       " 'partition',\n",
       " 'replace',\n",
       " 'rfind',\n",
       " 'rindex',\n",
       " 'rjust',\n",
       " 'rpartition',\n",
       " 'rsplit',\n",
       " 'rstrip',\n",
       " 'split',\n",
       " 'splitlines',\n",
       " 'startswith',\n",
       " 'strip',\n",
       " 'swapcase',\n",
       " 'title',\n",
       " 'translate',\n",
       " 'upper',\n",
       " 'zfill']"
      ]
     },
     "execution_count": 3,
     "metadata": {},
     "output_type": "execute_result"
    }
   ],
   "source": [
    "x = str\n",
    "[method for method in dir(x) if callable(getattr(x, method)) \n",
    "        and not method.startswith( '__' )]"
   ]
  },
  {
   "cell_type": "markdown",
   "metadata": {},
   "source": [
    "We can take a look at some of these to see how they work. More information can be found about these methods at the following link <https://docs.python.org/3.5/library/stdtypes.html#string-methods>. "
   ]
  },
  {
   "cell_type": "code",
   "execution_count": 4,
   "metadata": {
    "collapsed": false
   },
   "outputs": [
    {
     "name": "stdout",
     "output_type": "stream",
     "text": [
      "Dallin\n",
      "MARSHALL\n",
      "mARSHALL\n",
      "|       dallin       |\n",
      "False\n",
      "1 2\n"
     ]
    }
   ],
   "source": [
    "first = \"dallin\"\n",
    "last = \"marshall\"\n",
    "\n",
    "print( first.capitalize() )\n",
    "print( last.upper() )\n",
    "print( last.title().swapcase() )\n",
    "\n",
    "print( '|' + first.center( 20 ) + '|' )\n",
    "print( last.isupper() )\n",
    "print( first.count('a'), last.count('l') )"
   ]
  },
  {
   "cell_type": "markdown",
   "metadata": {},
   "source": [
    "## Practice Problem 1\n",
    "In a while loop continue asking the user for strings until the user enters an empty string. Each time they give a string add it to the end of a list of strings and print out the list. Make use of the `append` method of the `list` object."
   ]
  },
  {
   "cell_type": "markdown",
   "metadata": {},
   "source": [
    "## Practice Problem 2\n",
    "Create a `class` for one more shape that describes a circle. Allow the user access to the same functions of `get_perimeter` and `get_area`.\n",
    "\n",
    "The perimeter of a circle is `2 * pi * r`, where r is the radius.\n",
    "\n",
    "The area of a circle is `pi * r * r`.\n",
    "\n",
    "By using the math library we can easily get the value for pi."
   ]
  },
  {
   "cell_type": "code",
   "execution_count": 5,
   "metadata": {
    "collapsed": false
   },
   "outputs": [
    {
     "name": "stdout",
     "output_type": "stream",
     "text": [
      "3.141592653589793\n"
     ]
    }
   ],
   "source": [
    "import math\n",
    "print( math.pi )"
   ]
  },
  {
   "cell_type": "markdown",
   "metadata": {},
   "source": [
    "## Challenge Problem\n",
    "I would like you to create a class that could be used to help us model a card game. Create a `class` card that has the attributes: `suit`, `symbol`, and `value`. `value` being the numerical value of the card in Black Jack. `symbol` would be the character in the corner of the card. 'K' would be the symbol for a card representing a King. Create a `class` deck that contains all 52 cards of a standard deck."
   ]
  }
 ],
 "metadata": {
  "kernelspec": {
   "display_name": "Python 3",
   "language": "python",
   "name": "python3"
  },
  "language_info": {
   "codemirror_mode": {
    "name": "ipython",
    "version": 3
   },
   "file_extension": ".py",
   "mimetype": "text/x-python",
   "name": "python",
   "nbconvert_exporter": "python",
   "pygments_lexer": "ipython3",
   "version": "3.6.0"
  }
 },
 "nbformat": 4,
 "nbformat_minor": 0
}
