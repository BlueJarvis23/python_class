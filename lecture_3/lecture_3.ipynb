{
 "cells": [
  {
   "cell_type": "markdown",
   "metadata": {},
   "source": [
    "# Beginning Python Class -- Lecture 3"
   ]
  },
  {
   "cell_type": "markdown",
   "metadata": {},
   "source": [
    "## Expected Understanding\n",
    "At this point in the class it is very important that you have a good understanding of the topics in Lecture_1 and Lecture_2. The topics today will build directly on the previous topics such as:\n",
    "    - Basic Data Types\n",
    "    - Conditionals\n",
    "    - Loops\n",
    "\n",
    "This week we will begin to talk about Functions. Functions are a way to compartmentalize code that performs a single job/function. Functions are one of the most useful concepts that we will cover in this class. We will spend this entire lecture examining functions and the application of functions in our code.\n",
    "\n",
    "When we talk about functions we will be required to have a discussion about _Scope_. Scope is an important topic because it determines where/which variables are accessible to our code. Understanding the rules of _Scope_ will help us avoid errors and trouble-shoot problems with our code.\n",
    "\n",
    "Indentation and Syntax will be increasingly important this week and therefore I will leave the sections about `Style` and `Syntax` in this lecture for easy reference."
   ]
  },
  {
   "cell_type": "markdown",
   "metadata": {},
   "source": [
    "### Running Python in the Lab\n",
    "Not everyone has a dedicated Windows machine that they can remote into, and not everyone has their own Linux account. Therefore we are going to use an online Python Interpreter to run our Python code for this class. This way we can practice in the lab and students can practice at home without having to install python on their PC. I will run python from my machine during the lecture so that the process of running python from the command line is understood.\n",
    "\n",
    "Here is the link to the online Python Interpreter -- <https://repl.it/languages/python3>"
   ]
  },
  {
   "cell_type": "markdown",
   "metadata": {},
   "source": [
    "### PEP8 Style Guide\n",
    "PEP8 style guide should be used as a reference for styling decisions. This document (<http://legacy.python.org/dev/peps/pep-0008/>) covers topics like:\n",
    "    - Indentation\n",
    "    - Comments\n",
    "    - Line Length\n",
    "These are a set of standards that allow python developers to easily work on each others code and avoid nasty syntax bugs caused by white space inconsistencies."
   ]
  },
  {
   "cell_type": "markdown",
   "metadata": {},
   "source": [
    "### Syntax\n",
    "Syntax in the context of computer code is the set of rules that defines the combinations of symbols that are considered to be a correctly structured document or fragment in that language.\n",
    "\n",
    "Python was designed to have a very clean look to the code. The compromise is that to correctly interpret the code python elected to use white space as a syntactical character. The last language to use syntactical white space was Fortran which was created by IBM in 1957.\n",
    "\n",
    "Languages such as Perl and C ignore white space and rely on other special characters that often mean different things in different contexts. This allowed the programmer to develop their own style independent of the format of the code.\n",
    "\n",
    "A quick example is shown below:\n",
    "\n",
    "```\n",
    "foreach my $a (@list_of_numbers){\n",
    "    print \"value of a: $a\\n\";\n",
    "}\n",
    "```\n",
    "\n",
    "The exact same Perl code could be written like:\n",
    "\n",
    "```\n",
    "foreach my $a (@list_of_numbers){ print \"value of a: $a\\n\"; }\n",
    "```\n",
    "\n",
    "This is because one of the characters that Perl uses to group instructions are \"{}\" (brackets).\n",
    "\n",
    "Python avoids this type of problem by requiring white space syntax to group sequences of instruction:\n",
    "```python\n",
    "for a in list_of_numbers:\n",
    "    print( \"Value of a: \" + str(a))\n",
    "```\n",
    "\n",
    "Since the 'print' statement is executed during the loop it is nested/grouped inside the loop with 4 spaces. (More on loops later in Lecture 2)\n"
   ]
  },
  {
   "cell_type": "markdown",
   "metadata": {},
   "source": [
    "## Functions\n",
    "A function is a named section of the program that performs a specific task. In general, functions take inputs then perform actions on them and return a new value to the part of the program that called the function. Functions allow us to write code in a way that can be written one time and execute it whenever we want using the inputs we desire. This allows us to write less code. We could use the same code with different inputs to generate different outputs."
   ]
  },
  {
   "cell_type": "markdown",
   "metadata": {},
   "source": [
    "The general form for defining a function is shown below:\n",
    "\n",
    "```python\n",
    "def FUNCTION_NAME(INPUT1,INPUT2): # We can add as many inputs as we would like\n",
    "    STATEMENTS\n",
    "    STATEMENTS\n",
    "    return VALUE # A return value is not required\n",
    "```\n",
    "\n",
    "Functions, just like variables, can be named almost anything that we would like. The keyword `def` is the word we use to start the declaration of a function. Let's look at an example."
   ]
  },
  {
   "cell_type": "code",
   "execution_count": 1,
   "metadata": {
    "collapsed": false
   },
   "outputs": [
    {
     "name": "stdout",
     "output_type": "stream",
     "text": [
      "24\n",
      "72\n"
     ]
    }
   ],
   "source": [
    "def multiply_3( x, y, z ): # Take 3 numbers and multiply them all together\n",
    "    return x * y * z # return the solution.\n",
    "\n",
    "print( multiply_3( 2,3,4 ) )\n",
    "print( multiply_3( 9,2,4 ) )"
   ]
  },
  {
   "cell_type": "markdown",
   "metadata": {},
   "source": [
    "In the example above we created a function named `multiply_3`. This function took three values: `x`, `y`, and `z`. In the function definition line `x`, `y`, and `z` are called _parameters_ to the function `multiply_3`. The `2`, `3`, `4` and the `9`, `2`, `4` in the lines where we call the function are all called _arguments_. This is only a slight distinction but if we keep this nomenclature it will make explaining functions quite a bit easier. The _return value_ of the function is what the function gives back to us. In our case the function gives us back the product of the 3 arguments that we pass to the function. "
   ]
  },
  {
   "cell_type": "markdown",
   "metadata": {},
   "source": [
    "The `print` function is probably the function that we have used more than any other in the previous lectures. We have used it to allow us to see the state of variables in our code. We have kind of accepted that the way that we use the `print` function is by putting the variable/string we want to print inside parenthesis. \n",
    "\n",
    "```python\n",
    "print(\"Hello World\")\n",
    "\n",
    "x = 42\n",
    "print( \"A good number is: \" + str(x) )\n",
    "```\n",
    "\n",
    "What I didn't explain in previous lectures is that `print` is a function, and the way we invoke functions is by using the parenthesis attached to the function name. Another example that we used is the `str` function, which we have used to turn non-strings into their string representation. Both `str` and `print` are examples or built-in functions that are available to the user by using parenthesis and the name of the function to call/invoke a function."
   ]
  },
  {
   "cell_type": "markdown",
   "metadata": {},
   "source": [
    "### Return Values\n",
    "An explicit return value for a function is optional, but they are very common. Let me show you examples of functions that do and don't have explicit return values. It should be noted that functions that don't have explicit return values still return a value, that value is `None`. `None` is a special value that means empty data."
   ]
  },
  {
   "cell_type": "code",
   "execution_count": 4,
   "metadata": {
    "collapsed": false
   },
   "outputs": [
    {
     "name": "stdout",
     "output_type": "stream",
     "text": [
      "1\n",
      "None\n",
      "4\n",
      "None\n",
      "9\n",
      "None\n",
      "16\n",
      "None\n",
      "25\n",
      "None\n",
      "36\n",
      "None\n",
      "49\n",
      "None\n",
      "\n",
      "A very special welcome to lecture_3 by a greeting function.\n",
      "A very special welcome to lecture_3 by a greeting function.\n",
      "A very special welcome to lecture_3 by a greeting function.\n"
     ]
    }
   ],
   "source": [
    "def get_square_of_value( x ):\n",
    "    return x ** 2 # ** means exponent or raised to.\n",
    "\n",
    "def square_value( x ):\n",
    "    value = x ** 2\n",
    "\n",
    "def print_general_greeting():\n",
    "    print( \"A very special welcome to lecture_3 by a greeting function.\")\n",
    "    \n",
    "for y in [1,2,3,4,5,6,7]:\n",
    "    print( get_square_of_value(y) )\n",
    "    print( square_value(y) )\n",
    "\n",
    "print()\n",
    "    \n",
    "print_general_greeting() # easier than typing out the greeting each time.\n",
    "print_general_greeting()\n",
    "print_general_greeting()"
   ]
  },
  {
   "cell_type": "markdown",
   "metadata": {},
   "source": [
    "There is one more piece of information that I would like to cover about return values. Only one data structure can be returned from a function. This could be a `number`, a `string`, a `list`, or any other data type. If you feel that you need to return more than one value you can wrap those values in a structure like a `list` or a `tuple`."
   ]
  },
  {
   "cell_type": "markdown",
   "metadata": {},
   "source": [
    "## Rules of Scope\n",
    "Scope is defined as the location of code in which variables are valid and accessible. Scope is quite a large topic but very important when dealing with functions and nested code."
   ]
  },
  {
   "cell_type": "code",
   "execution_count": 3,
   "metadata": {
    "collapsed": false
   },
   "outputs": [
    {
     "name": "stdout",
     "output_type": "stream",
     "text": [
      "179\n",
      "127\n",
      "30\n"
     ]
    },
    {
     "ename": "NameError",
     "evalue": "name 'func_var' is not defined",
     "output_type": "error",
     "traceback": [
      "\u001b[0;31m---------------------------------------------------------------------------\u001b[0m",
      "\u001b[0;31mNameError\u001b[0m                                 Traceback (most recent call last)",
      "\u001b[0;32m<ipython-input-3-0e86da238b59>\u001b[0m in \u001b[0;36m<module>\u001b[0;34m()\u001b[0m\n\u001b[1;32m      9\u001b[0m \u001b[0;34m\u001b[0m\u001b[0m\n\u001b[1;32m     10\u001b[0m \u001b[0mprint\u001b[0m\u001b[0;34m(\u001b[0m \u001b[0mx\u001b[0m \u001b[0;34m)\u001b[0m\u001b[0;34m\u001b[0m\u001b[0m\n\u001b[0;32m---> 11\u001b[0;31m \u001b[0mprint\u001b[0m\u001b[0;34m(\u001b[0m \u001b[0mfunc_var\u001b[0m \u001b[0;34m)\u001b[0m\u001b[0;34m\u001b[0m\u001b[0m\n\u001b[0m",
      "\u001b[0;31mNameError\u001b[0m: name 'func_var' is not defined"
     ]
    }
   ],
   "source": [
    "x = 30\n",
    "\n",
    "def new_func( y, z ):\n",
    "    func_var = y*y + z*z + x # x still accessible here\n",
    "    return func_var\n",
    "\n",
    "print( new_func( 10, 7) )\n",
    "print( new_func( 4, 9) )\n",
    "    \n",
    "print( x )\n",
    "print( func_var )"
   ]
  },
  {
   "cell_type": "markdown",
   "metadata": {},
   "source": [
    "The variable `x` is considered to be in global scope. Global scope means that `x` is available to all functions and code below where `x` is defined. The function `new_func` has a variable `func_var` declared in side of it. This variable is only accessible to that function. If we try and use a function that is out of scope we get some nasty errors from python because it doesn't know where to look for that variable."
   ]
  },
  {
   "cell_type": "markdown",
   "metadata": {},
   "source": [
    "## Built-in Functions\n",
    "\n",
    "There are a number of very useful built-in functions in Python3 that you should become familiar with: <https://docs.python.org/3/library/functions.html>. \n",
    "\n",
    "We have already been using some of these functions in our previous lectures without really understanding what they really were. For example, we have been working with the `print` function since the very first lecture.\n",
    "\n",
    "Understanding the use of these functions will allow you to take advantage of someone else's programming experience. There is no need to ever recreate functions that do the same thing as these built-in functions because they are vetted very carefully by the python maintainers and are likely written in a manner that is more efficient than either you or I could write. "
   ]
  },
  {
   "cell_type": "markdown",
   "metadata": {},
   "source": [
    "## Practice Problem 1\n",
    "Please write a function that greets users. This function will accept one argument, the name of the user, and will use the name provided in a more complex greeting.\n",
    "\n",
    "Example definition:\n",
    "```python\n",
    "def complex_greeting( name ):\n",
    "```\n",
    "\n",
    "Example output:\n",
    "    \n",
    "    Hello ######, Welcome to the Micron Boise Campus!"
   ]
  },
  {
   "cell_type": "markdown",
   "metadata": {},
   "source": [
    "## Practice Problem 2\n",
    "Write a function that takes three parameters: `input1`, `input2`, and `input3`. Return the value `input1*input2+input3`. Please test your funciton with many different combinations of number."
   ]
  },
  {
   "cell_type": "markdown",
   "metadata": {},
   "source": [
    "## Practice Problem 3\n",
    "Write a function that accepts three arguments and creates a list with the arguments in it. Then use the Built-in function `sorted()` to return the sorted version of the created list. Read about the `sorted()` function at the link provided in the Built-in Function section."
   ]
  },
  {
   "cell_type": "markdown",
   "metadata": {},
   "source": [
    "## Practice Problem 4\n",
    "Write a function that accepts a string and returns the number of unique characters in that string. Inside the function print out the unique characters in order as they appear in the string.\n",
    "\n",
    "Example definition:\n",
    "```python\n",
    "def find_unique_letters( string ):\n",
    "```\n",
    "\n",
    "Example Input:\n",
    "\n",
    "    'Dallin Marshall'\n",
    "    \n",
    "Example Output:\n",
    "\n",
    "    Dalin Mrsh\n",
    "    \n",
    "Example Return Value:\n",
    "\n",
    "    10\n",
    "    \n",
    "Remember we are counting the number of unique characters. A space is a character."
   ]
  }
 ],
 "metadata": {
  "kernelspec": {
   "display_name": "Python 3",
   "language": "python",
   "name": "python3"
  },
  "language_info": {
   "codemirror_mode": {
    "name": "ipython",
    "version": 3
   },
   "file_extension": ".py",
   "mimetype": "text/x-python",
   "name": "python",
   "nbconvert_exporter": "python",
   "pygments_lexer": "ipython3",
   "version": "3.6.0"
  }
 },
 "nbformat": 4,
 "nbformat_minor": 0
}
