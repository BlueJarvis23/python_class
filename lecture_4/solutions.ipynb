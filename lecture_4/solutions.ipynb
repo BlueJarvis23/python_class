{
 "cells": [
  {
   "cell_type": "markdown",
   "metadata": {},
   "source": [
    "# Beginning Python Class -- Lecture 4 -- Solutions"
   ]
  },
  {
   "cell_type": "markdown",
   "metadata": {},
   "source": [
    "## Practice Problem 1\n",
    "In a while loop continue asking the user for strings until the user enters an empty string. Each time they give a string add it to the end of a list of strings and print out the list. Make use of the `append` method of the `list` object."
   ]
  },
  {
   "cell_type": "markdown",
   "metadata": {},
   "source": [
    "### Solution 1"
   ]
  },
  {
   "cell_type": "markdown",
   "metadata": {},
   "source": [
    "## Practice Problem 2\n",
    "Create a `class` for one more shape that describes a circle. Allow the user access to the same functions of `get_perimeter` and `get_area`.\n",
    "\n",
    "The perimeter of a circle is `2 * pi * r`, where r is the radius.\n",
    "\n",
    "The area of a circle is `pi * r * r`.\n",
    "\n",
    "By using the math library we can easily get the value for pi."
   ]
  },
  {
   "cell_type": "markdown",
   "metadata": {},
   "source": [
    "### Solution 2"
   ]
  },
  {
   "cell_type": "code",
   "execution_count": 1,
   "metadata": {
    "collapsed": false
   },
   "outputs": [
    {
     "name": "stdout",
     "output_type": "stream",
     "text": [
      "3.141592653589793\n"
     ]
    }
   ],
   "source": [
    "import math\n",
    "print( math.pi )"
   ]
  },
  {
   "cell_type": "markdown",
   "metadata": {},
   "source": [
    "## Challenge Problem\n",
    "I would like you to create a class that could be used to help us model a card game. Create a `class` card that has the attributes: `suit`, `symbol`, and `value`. `value` being the numerical value of the card in Black Jack. `symbol` would be the character in the corner of the card. 'K' would be the symbol for a card representing a King. Create a `class` deck that contains all 52 cards of a standard deck."
   ]
  },
  {
   "cell_type": "markdown",
   "metadata": {},
   "source": [
    "### Solution 3"
   ]
  },
  {
   "cell_type": "code",
   "execution_count": null,
   "metadata": {
    "collapsed": true
   },
   "outputs": [],
   "source": []
  }
 ],
 "metadata": {
  "kernelspec": {
   "display_name": "Python 3",
   "language": "python",
   "name": "python3"
  },
  "language_info": {
   "codemirror_mode": {
    "name": "ipython",
    "version": 3
   },
   "file_extension": ".py",
   "mimetype": "text/x-python",
   "name": "python",
   "nbconvert_exporter": "python",
   "pygments_lexer": "ipython3",
   "version": "3.5.1"
  }
 },
 "nbformat": 4,
 "nbformat_minor": 0
}
