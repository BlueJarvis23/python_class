{
 "cells": [
  {
   "cell_type": "markdown",
   "metadata": {},
   "source": [
    "# Beginning Python Class -- Lecture 3"
   ]
  },
  {
   "cell_type": "markdown",
   "metadata": {},
   "source": [
    "## Expected Understanding\n",
    "At this point in the class it is very important that you have a good understanding of the topics in Lecture_1. The topics today will build directly on the previous topics such as:\n",
    "    - Basic Data Types\n",
    "    - Conditionals\n",
    "    - Loops\n",
    "\n",
    "This week we will begin to talk about Functions. Functions are a way to compartmentalize code that performs a single job/function. Functions are one of the most useful concepts that we will cover in this class. We will spend this entire lecture examining functions and the application of functions in our code.\n",
    "\n",
    "When we talk about functions we will be required to have a discussion about _Scope_. Scope is an important topic because it determines where variable are accessible to our code. Understanding the rules of _Scope_ will help us avoid errors and trouble-shoot problems with our code.\n",
    "\n",
    "Indentation and Syntax will be increasingly important this week and therefore I will leave the sections about `Style` and `Syntax` in this lecture for easy reference."
   ]
  },
  {
   "cell_type": "markdown",
   "metadata": {},
   "source": [
    "### Running Python in the Lab\n",
    "Not everyone has a dedicated Windows machine that they can remote into, and not everyone has their own Linux account. Therefore we are going to use an online Python Interpreter to run our Python code for this class. This way we can practice in the lab and students can practice at home without having to install python on their PC. I will run python from my machine during the lecture so that the process of running python from the command line is understood.\n",
    "\n",
    "Here is the link to the online Python Interpreter -- <https://repl.it/languages/python3>"
   ]
  },
  {
   "cell_type": "markdown",
   "metadata": {},
   "source": [
    "### PEP8 Style Guide\n",
    "PEP8 style guide should be used as a reference for styling decisions. This document (<http://legacy.python.org/dev/peps/pep-0008/>) covers topics like:\n",
    "    - Indentation\n",
    "    - Comments\n",
    "    - Line Length\n",
    "These are a set of standards that allow python developers to easily work on each others code and avoid nasty syntax bugs caused by white space inconsistencies."
   ]
  },
  {
   "cell_type": "markdown",
   "metadata": {},
   "source": [
    "### Syntax\n",
    "Syntax in the context of computer code is the set of rules that defines the combinations of symbols that are considered to be a correctly structured document or fragment in that language.\n",
    "\n",
    "Python was designed to have a very clean look to the code. The compromise is that to correctly interpret the code python elected to use white space as a syntactical character. The last language to use syntactical white space was Fortran which was created by IBM in 1957.\n",
    "\n",
    "Languages such as Perl and C ignore white space and rely on other special characters that often mean different things in different contexts. This allowed the programmer to develop their own style independent of the format of the code.\n",
    "\n",
    "A quick example is shown below:\n",
    "\n",
    "```\n",
    "foreach my $a (@list_of_numbers){\n",
    "    print \"value of a: $a\\n\";\n",
    "}\n",
    "```\n",
    "\n",
    "The exact same Perl code could be written like:\n",
    "\n",
    "```\n",
    "foreach my $a (@list_of_numbers){ print \"value of a: $a\\n\"; }\n",
    "```\n",
    "\n",
    "This is because one of the characters that Perl uses to group instructions are \"{}\" (brackets).\n",
    "\n",
    "Python avoids this type of problem by requiring white space syntax to group sequences of instruction:\n",
    "```python\n",
    "for a in list_of_numbers:\n",
    "    print( \"Value of a: \" + str(a))\n",
    "```\n",
    "\n",
    "Since the 'print' statement is executed during the loop it is nested/grouped inside the loop with 4 spaces. (More on loops later in Lecture 2)\n"
   ]
  },
  {
   "cell_type": "markdown",
   "metadata": {},
   "source": [
    "## Functions\n",
    "A function is a named section of the program that performs a specific task. In general functions take inputs perform actions on them and return a new value to the part of the program that called the function. Functions allow us to write code in a way that can be written one time and execute it whenever we want using the inputs we desire."
   ]
  },
  {
   "cell_type": "markdown",
   "metadata": {},
   "source": [
    "The general form for defining a function is shown below:\n",
    "\n",
    "```python\n",
    "def FUNCTION_NAME(INPUT1,INPUT2): # We can add as many inputs as we would like\n",
    "    STATEMENTS\n",
    "    STATEMENTS\n",
    "    return VALUE # A return value is not required but is optional\n",
    "```\n",
    "\n",
    "Functions, just like variable, can be named almost anything that we would like, `def` is the word we use to start the declaration of a function. Let's look at an example."
   ]
  },
  {
   "cell_type": "code",
   "execution_count": 1,
   "metadata": {
    "collapsed": false
   },
   "outputs": [
    {
     "name": "stdout",
     "output_type": "stream",
     "text": [
      "24\n"
     ]
    }
   ],
   "source": [
    "def multiply_3( x, y, z ): # Take 3 numbers and multiply them all together\n",
    "    return x * y * z # return the solution.\n",
    "\n",
    "print( multiply_3( 2,3,4 ) )"
   ]
  },
  {
   "cell_type": "markdown",
   "metadata": {},
   "source": [
    "In the example above we created a function named `multiply_3`. This function took three values: `x`, `y`, and `z`. In the function definition line `x`, `y`, and `z` are called _parameters_ to the function `multiply_3`. The `2`, `3`, `4` in the line where we call the function are all called _arguments_. There is a slight distinction but if we keep this nomenclature it will make explaining functions quite a bit easier. The _regturn value_ of the function is what the function gives back to us. In our case the function gives us back the product of the 3 arguments that we pass to the function. "
   ]
  },
  {
   "cell_type": "markdown",
   "metadata": {},
   "source": [
    "### Parameters/Arguments"
   ]
  },
  {
   "cell_type": "markdown",
   "metadata": {},
   "source": [
    "### Return Values"
   ]
  },
  {
   "cell_type": "markdown",
   "metadata": {},
   "source": [
    "## Rules of Scope"
   ]
  },
  {
   "cell_type": "markdown",
   "metadata": {},
   "source": [
    "## Builtin Functions\n",
    "\n",
    "There are a number of very useful built-in functions in Python3 that you should become familiar with: <https://docs.python.org/3/library/functions.html>. \n",
    "\n",
    "We have already be using some of these function in our previous lectures without really understanding what they they really were. For example, we have been working with the `print` function since the very first lecture.\n",
    "\n",
    "Understanding the use of these function will allow you to take advantage of someone elses programming experience. There is no need to ever recreate functions that do the same thing as these built-in functions because they are vetted vary carefully by the python maintainers and are likely written in a manner that is more efficient than either you or I could write. "
   ]
  },
  {
   "cell_type": "markdown",
   "metadata": {},
   "source": [
    "## Practice Problem 1"
   ]
  },
  {
   "cell_type": "markdown",
   "metadata": {},
   "source": [
    "## Practice Problem 2"
   ]
  },
  {
   "cell_type": "markdown",
   "metadata": {},
   "source": [
    "## Practice Problem 3"
   ]
  }
 ],
 "metadata": {
  "kernelspec": {
   "display_name": "Python 3",
   "language": "python",
   "name": "python3"
  },
  "language_info": {
   "codemirror_mode": {
    "name": "ipython",
    "version": 3
   },
   "file_extension": ".py",
   "mimetype": "text/x-python",
   "name": "python",
   "nbconvert_exporter": "python",
   "pygments_lexer": "ipython3",
   "version": "3.5.1"
  }
 },
 "nbformat": 4,
 "nbformat_minor": 0
}
