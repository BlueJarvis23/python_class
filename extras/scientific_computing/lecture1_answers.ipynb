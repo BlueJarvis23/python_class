{
 "cells": [
  {
   "cell_type": "markdown",
   "metadata": {},
   "source": [
    "# Schedule\n",
    "* Today - Review & Boring stuff\n",
    "* Tomorrow - Intro. to Numpy/Pandas\n",
    "\n",
    "# Class Expectations\n",
    "\n",
    "* Too much to cover - class materials and exercises will be provided for offline study\n",
    "* * We will stop when we run out of time, and you can review the additional material on your own after class\n",
    "* * **Do the practice exercises!**\n",
    "* Make sure questions are relevant for the whole class\n",
    "* Give feedback afterwards! \n",
    "* Make use of the documentation pages - good engineers use Google!\n",
    "\n",
    "# Acknowledgements"
   ]
  },
  {
   "cell_type": "markdown",
   "metadata": {},
   "source": [
    "# IPython\n",
    "\n",
    "IPython is a custom Python shell (`ipython`, from the command line) that includes rich features like tab-completion, inline documentation, all in the same REPL (Read; Evaluate; Print; Loop) format that the normal `python` shell has. It's configurable, customizable, and overall, the best environment for interactive Python work.\n",
    "\n",
    "IPython *also* has what we're using now - a notebook feature. IPython notebook's are web-based frontends to your Python session that you setup/start from the command line. The notebook is cell-oriented, meaning we execute codes in chunks, and we can go back and re-execute code selectively as needed. This setup provides a great way to work on data - load it in once, and then work on your data iteratively, without re-loading or re-extracting.\n",
    "\n",
    "Finally, IPython has great built-in documentation features for sharing projects - just as we're doing now for this class!\n",
    "\n",
    "\n",
    "## Highlights\n",
    "- Toolbar\n",
    "- Cell-related options\n",
    "- Printed vs. Returned values\n",
    "- Selective re-execution\n",
    "- Help features (?, tab, shift tab)\n",
    "- Magics\n",
    "- Export features\n",
    "\n",
    "### Reference material\n",
    "IPython Home - http://ipython.org/\n",
    "\n",
    "IPython Cheatsheet - https://damontallen.github.io/IPython-quick-ref-sheets/"
   ]
  },
  {
   "cell_type": "code",
   "execution_count": 1,
   "metadata": {
    "collapsed": false
   },
   "outputs": [
    {
     "data": {
      "text/plain": [
       "6"
      ]
     },
     "execution_count": 1,
     "metadata": {},
     "output_type": "execute_result"
    }
   ],
   "source": [
    "1 + 5"
   ]
  },
  {
   "cell_type": "code",
   "execution_count": 2,
   "metadata": {
    "collapsed": false
   },
   "outputs": [
    {
     "name": "stdout",
     "output_type": "stream",
     "text": [
      "10\n"
     ]
    }
   ],
   "source": [
    "print(5 + 5)"
   ]
  },
  {
   "cell_type": "code",
   "execution_count": 4,
   "metadata": {
    "collapsed": false
   },
   "outputs": [
    {
     "name": "stdout",
     "output_type": "stream",
     "text": [
      "3.4.3 |Anaconda 2.0.1 (64-bit)| (default, Mar  6 2015, 12:03:53) \n",
      "[GCC 4.4.7 20120313 (Red Hat 4.4.7-1)]\n"
     ]
    }
   ],
   "source": [
    "import sys\n",
    "print(sys.version)"
   ]
  },
  {
   "cell_type": "markdown",
   "metadata": {
    "collapsed": true
   },
   "source": [
    "# A Brief Note on Python 3\n",
    "\n",
    "Most of the R&D network software uses Python2 by default. This is the default `python` executable in your path. We will be using a distribution of python provided by DEG Soft and primarily use the `python3`/`ipython3` executables. This is Python version 3.4 - the most recent stable release.\n",
    "\n",
    "Python 2 and Python 3 aren't that different for the most part, but Python 3 is not backwards compatible. As a result, we're focusing on Python 3 going forward, because our intention is to use the best tools available to us, and the best tools happen to be developed primarily on Python 3 now.\n",
    "\n",
    "You can find a number of guides and tutorials online about Python 3 differences, but here are a quick few differences people may run into right away:\n",
    "\n",
    "- `print()` needs parantheses - it's a function\n",
    "- iterate over `dict`s using `dict.items()`\n",
    "- strings and bytestrings are explicitly different, and strings by default are typically unicode\n",
    "- different syntax for exception handling\n",
    "- many functions return iterable objects/generators, not lists (map, zip, etc)\n",
    "- `xrange()` has been replaced with `range()`"
   ]
  },
  {
   "cell_type": "markdown",
   "metadata": {},
   "source": [
    "# Quick Syntax Reminder"
   ]
  },
  {
   "cell_type": "code",
   "execution_count": null,
   "metadata": {
    "collapsed": false
   },
   "outputs": [],
   "source": [
    "# variable assignment\n",
    "variable = \"value\"\n",
    "\n",
    "# simple function definition\n",
    "def function(arg1, arg2):    \n",
    "    result = arg1 + arg2\n",
    "    return result\n",
    "\n",
    "# lists + iteration\n",
    "my_list = [1, 2, 3, 4, 5, 6]\n",
    "\n",
    "for i in my_list:\n",
    "    j = i * 2\n",
    "\n",
    "# dicts and sets\n",
    "my_dict = { 'key1': 'value1', 'key2': 'value2' }\n",
    "my_set = {'Design', 'PE', 'Test', 'Apps'}\n",
    "\n",
    "# iterate over a dict\n",
    "for key, value in my_dict.items():\n",
    "    print(key, ' => ', value)\n",
    "\n",
    "# strings and fancy indexing\n",
    "words = 'this is my string made of words'.split(' ')\n",
    "first_word = words[0]\n",
    "even_words = words[::2]\n",
    "odd_words = words[1::2]\n",
    "last_two_words = words[-2:]\n",
    "sentence = ' '.join(words)\n",
    "\n",
    "# write a file\n",
    "with open('/tmp/myfile.txt', 'w') as f:\n",
    "    f.write('my super simple text file string\\n')\n",
    "    print(\" -- this also works\", file=f)\n",
    "    \n",
    "# read a file (slurp)\n",
    "with open('/tmp/myfile.txt') as f:\n",
    "    contents = f.read()\n",
    "    \n",
    "# read a file (line by line)\n",
    "with open('/tmp/myfile.txt') as f:\n",
    "    for line in f:\n",
    "        print(line)"
   ]
  },
  {
   "cell_type": "markdown",
   "metadata": {
    "collapsed": true
   },
   "source": [
    "# Advanced Python Topics\n",
    "\n",
    "Python is a big language, well-equipped for a number of tasks. Introductory courses tend to cover a lot of the basics - data types, simple math operations, defining functions, list basics, and so on. In this session, we'll take a look at a number of 'advanced' Python features and practices targeted at problems that are common with Micron data.\n",
    "\n",
    "We will be skipping between a number of topics, but today's session is just to get everyone familiar with some useful topics and get people caught back up to a reasonable level on Python. The biggest topic of interest to us - for the purposes of working with data - is working with collections of data. There are always more than one way to get things done, but we'll specifically be looking at features and syntax that make these operations expressive and concise.\n",
    "\n",
    "Make sure to refer to the official Python documentation page, specifically for Python version 3.4:\n",
    "\n",
    "https://docs.python.org/3/\n"
   ]
  },
  {
   "cell_type": "markdown",
   "metadata": {},
   "source": [
    "### Collections\n",
    "\n",
    "Lists and dicts are the most core data structures in Python, but there are a number of ways to utilize them in the standard library that tend to get overlooked in a first dive into the language. There are always a number of additional data structures in Python's core that we find useful for a number of purposes.\n",
    "\n",
    "First, let's take a look at what we can do with lists. List comprehensions are a simple way to define or modify a list in an expressive manner."
   ]
  },
  {
   "cell_type": "code",
   "execution_count": 6,
   "metadata": {
    "collapsed": false
   },
   "outputs": [
    {
     "data": {
      "text/plain": [
       "[1, 2, 3, 4, 5, 6]"
      ]
     },
     "execution_count": 6,
     "metadata": {},
     "output_type": "execute_result"
    }
   ],
   "source": [
    "# start by copying a list\n",
    "base_list = [1, 2, 3, 4, 5, 6]\n",
    "copied = [x for x in base_list]\n",
    "copied"
   ]
  },
  {
   "cell_type": "code",
   "execution_count": 7,
   "metadata": {
    "collapsed": false
   },
   "outputs": [
    {
     "data": {
      "text/plain": [
       "([1, 4, 9, 16, 25, 36], [1, 4, 9, 16, 25, 36])"
      ]
     },
     "execution_count": 7,
     "metadata": {},
     "output_type": "execute_result"
    }
   ],
   "source": [
    "# or apply some code element-wise\n",
    "modified = [x ** 2 for x in base_list]\n",
    "\n",
    "# apply a function directly\n",
    "def my_func(x):\n",
    "    return x ** 2\n",
    "\n",
    "applied = [my_func(x) for x in base_list]\n",
    "\n",
    "modified, applied"
   ]
  },
  {
   "cell_type": "code",
   "execution_count": 8,
   "metadata": {
    "collapsed": false
   },
   "outputs": [
    {
     "data": {
      "text/plain": [
       "[2, 4, 6]"
      ]
     },
     "execution_count": 8,
     "metadata": {},
     "output_type": "execute_result"
    }
   ],
   "source": [
    "# apply conditionals inline, performing filtering\n",
    "modified = [x for x in base_list if x % 2 == 0]\n",
    "modified"
   ]
  },
  {
   "cell_type": "code",
   "execution_count": null,
   "metadata": {
    "collapsed": false
   },
   "outputs": [],
   "source": [
    "# common use case: remove items that exist in another list\n",
    "filter_out = [1, 4]\n",
    "filtered = [x for x in base_list if x not in filter_out]\n",
    "filtered"
   ]
  },
  {
   "cell_type": "markdown",
   "metadata": {},
   "source": [
    "List comprehensions typically offer a simple, concise way to express behavior, relative to an iterative approach. They can also get pretty ugly, in which case it's always a question of doing what makes the most sense - whether dictated by performance needs or by readability.\n",
    "\n",
    "Here's a (relatively) simple example of using a list comprehension to repeat every element in a list N times, but note how its intention isn't necessarily immediately clear:"
   ]
  },
  {
   "cell_type": "code",
   "execution_count": 11,
   "metadata": {
    "collapsed": false
   },
   "outputs": [
    {
     "data": {
      "text/plain": [
       "[1, 1, 1, 1, 2, 2, 2, 2, 3, 3, 3, 3, 4, 4, 4, 4, 5, 5, 5, 5, 6, 6, 6, 6]"
      ]
     },
     "execution_count": 11,
     "metadata": {},
     "output_type": "execute_result"
    }
   ],
   "source": [
    "N = 4\n",
    "[x\n",
    " for x in base_list\n",
    "     for i in range(N)]"
   ]
  },
  {
   "cell_type": "markdown",
   "metadata": {},
   "source": [
    "As you can expect, it's easy to start composing more and more complex expressions that descend quickly into uselessness. Who cares how clever you can be with a bit of code if you can never read or understand it? While iteration may be more verbose, it inherently forces you to decompose problems a little bit further, which may help with the debug process."
   ]
  },
  {
   "cell_type": "markdown",
   "metadata": {},
   "source": [
    "\n",
    "In many cases, somewhat manual iteration (read: for loops) may be necessary. Let's take a look at the `enumerate()` function to aid in simple loops over lists."
   ]
  },
  {
   "cell_type": "code",
   "execution_count": 12,
   "metadata": {
    "collapsed": false
   },
   "outputs": [
    {
     "name": "stdout",
     "output_type": "stream",
     "text": [
      "0 2\n",
      "1 4\n",
      "2 6\n",
      "3 8\n",
      "4 10\n",
      "5 12\n"
     ]
    }
   ],
   "source": [
    "# iterating with an index, C-style\n",
    "for i in range(len(base_list)):\n",
    "    elem = base_list[i]\n",
    "    print(i, elem * 2)"
   ]
  },
  {
   "cell_type": "code",
   "execution_count": 13,
   "metadata": {
    "collapsed": false
   },
   "outputs": [
    {
     "name": "stdout",
     "output_type": "stream",
     "text": [
      "0 2\n",
      "1 4\n",
      "2 6\n",
      "3 8\n",
      "4 10\n",
      "5 12\n"
     ]
    }
   ],
   "source": [
    "for i, elem in enumerate(base_list):\n",
    "    print(i, elem * 2)"
   ]
  },
  {
   "cell_type": "markdown",
   "metadata": {},
   "source": [
    "From this simple example, it should be immediately apparent what the `enumerate` function does: for every element in some kind of iterable object, return a tuple of (index, value). This is used very frequently to express a C-style loop with an index. \n",
    "\n",
    "Let's look at another handy function - `zip()` - starting with an example."
   ]
  },
  {
   "cell_type": "code",
   "execution_count": 15,
   "metadata": {
    "collapsed": false
   },
   "outputs": [
    {
     "data": {
      "text/plain": [
       "<zip at 0x2af7bce6df48>"
      ]
     },
     "execution_count": 15,
     "metadata": {},
     "output_type": "execute_result"
    }
   ],
   "source": [
    "indices = [0, 1, 2, 3, 4]\n",
    "my_list = [1, 10, 100, 1000, 10000]\n",
    "\n",
    "zip(indices, my_list)"
   ]
  },
  {
   "cell_type": "markdown",
   "metadata": {},
   "source": [
    "`zip()` takes two N iterable objects and gives us back a series of N-tuples of the elements. So with three lists:"
   ]
  },
  {
   "cell_type": "code",
   "execution_count": 16,
   "metadata": {
    "collapsed": false
   },
   "outputs": [
    {
     "data": {
      "text/plain": [
       "[(0, 1, 2), (1, 10, 20), (2, 100, 200), (3, 1000, 2000), (4, 10000, 20000)]"
      ]
     },
     "execution_count": 16,
     "metadata": {},
     "output_type": "execute_result"
    }
   ],
   "source": [
    "# return a list of 3-tuples\n",
    "zipped = list(zip(indices, my_list, [x * 2 for x in my_list]))\n",
    "zipped"
   ]
  },
  {
   "cell_type": "markdown",
   "metadata": {},
   "source": [
    "Let's look at one more useful application of `zip()`. Say we need a `dict` to use as a replacement for column names in a table. "
   ]
  },
  {
   "cell_type": "code",
   "execution_count": null,
   "metadata": {
    "collapsed": false
   },
   "outputs": [],
   "source": [
    "columns = ['PRB_FID', 'PRB_X', 'PRB_Y', 'PRB_WAFER']\n",
    "fixed = [x.replace('PRB_', '') for x in columns]\n",
    "mapping = dict(zip(columns, fixed))\n",
    "mapping"
   ]
  },
  {
   "cell_type": "markdown",
   "metadata": {},
   "source": [
    "Let's go back and look at comprehensions a little further. We've shown the power of list expressions, but the same syntax exists for both `dicts` and `sets`. Below are some simple examples of each:"
   ]
  },
  {
   "cell_type": "code",
   "execution_count": null,
   "metadata": {
    "collapsed": false
   },
   "outputs": [],
   "source": [
    "# create a dict entry for each element in a list\n",
    "k = { x: x * 2 for x in base_list }\n",
    "\n",
    "print(k)\n",
    "print('----')\n",
    "\n",
    "# replicate the column naming example above\n",
    "columns = ['PRB_FID', 'PRB_X', 'PRB_Y', 'PRB_WAFER']\n",
    "mapping = {x: x.replace('PRB_', '') for x in columns}\n",
    "print(mapping)\n"
   ]
  },
  {
   "cell_type": "code",
   "execution_count": 20,
   "metadata": {
    "collapsed": false
   },
   "outputs": [
    {
     "data": {
      "text/plain": [
       "{1, 2, 3}"
      ]
     },
     "execution_count": 20,
     "metadata": {},
     "output_type": "execute_result"
    }
   ],
   "source": [
    "repeated_list = [1, 1, 1, 2, 3, 4, 5, 5, 5, 8, 9, 10, 10]\n",
    "k = set(repeated_list)\n",
    "\n",
    "l = set([1,2,3])\n",
    "\n",
    "k & l"
   ]
  },
  {
   "cell_type": "code",
   "execution_count": null,
   "metadata": {
    "collapsed": false
   },
   "outputs": [],
   "source": [
    "# note that we can create a set exactly how we perform a \n",
    "# list comprehension - the end result is just a set\n",
    "{x for x in repeated_list}, set([x for x in repeated_list])"
   ]
  },
  {
   "cell_type": "markdown",
   "metadata": {},
   "source": [
    "`dicts` are incredibly valuable in Python, just as they are in Perl, but a common need is to have a default value for keys that don't yet exist. This is in part due to Python's strict handling of this behavior with exceptions. Take the simple example below:"
   ]
  },
  {
   "cell_type": "code",
   "execution_count": 21,
   "metadata": {
    "collapsed": false
   },
   "outputs": [
    {
     "ename": "KeyError",
     "evalue": "'x'",
     "output_type": "error",
     "traceback": [
      "\u001b[1;31m---------------------------------------------------------------------------\u001b[0m",
      "\u001b[1;31mKeyError\u001b[0m                                  Traceback (most recent call last)",
      "\u001b[1;32m<ipython-input-21-ed143e091581>\u001b[0m in \u001b[0;36m<module>\u001b[1;34m()\u001b[0m\n\u001b[0;32m      2\u001b[0m \u001b[1;33m\u001b[0m\u001b[0m\n\u001b[0;32m      3\u001b[0m \u001b[0mfirst\u001b[0m \u001b[1;33m=\u001b[0m \u001b[0mdd\u001b[0m\u001b[1;33m[\u001b[0m\u001b[1;34m'a'\u001b[0m\u001b[1;33m]\u001b[0m\u001b[1;33m\u001b[0m\u001b[0m\n\u001b[1;32m----> 4\u001b[1;33m \u001b[0msecond\u001b[0m \u001b[1;33m=\u001b[0m \u001b[0mdd\u001b[0m\u001b[1;33m[\u001b[0m\u001b[1;34m'x'\u001b[0m\u001b[1;33m]\u001b[0m\u001b[1;33m\u001b[0m\u001b[0m\n\u001b[0m",
      "\u001b[1;31mKeyError\u001b[0m: 'x'"
     ]
    }
   ],
   "source": [
    "dd = {'a': 1, 'b': 2, 'c': 3}\n",
    "\n",
    "first = dd['a']\n",
    "second = dd['x']"
   ]
  },
  {
   "cell_type": "markdown",
   "metadata": {},
   "source": [
    "There are two different ways to address this. One, `dicts` have a `.get()` method that allows you to provide a default value for missing keys (rather than throwing an exception) as shown below:"
   ]
  },
  {
   "cell_type": "code",
   "execution_count": null,
   "metadata": {
    "collapsed": false
   },
   "outputs": [],
   "source": [
    "dd.get('x', 'no value')\n",
    "#dd['x']['y'] = 5\n",
    "\n",
    "if 'x' not in dd.keys():\n",
    "    dd['x'] = {}"
   ]
  },
  {
   "cell_type": "markdown",
   "metadata": {},
   "source": [
    "Another alternative is to start exploring the `collections` module provided in Python which contains a variety of useful variations on existing types. Several of the containers this module provides are intended for easy subclassing of built-in types, but the two most useful objects it contains are **defaultdict** and **OrderedDict**.\n",
    "\n",
    "`defaultdict` is a class which has a 1-argument constructor, expecting a zero-argument function that provides a default behavior for a value when a key is missing. This is kind of confusing at first, so let's see how this looks:"
   ]
  },
  {
   "cell_type": "code",
   "execution_count": 22,
   "metadata": {
    "collapsed": false
   },
   "outputs": [
    {
     "data": {
      "text/plain": [
       "'no value'"
      ]
     },
     "execution_count": 22,
     "metadata": {},
     "output_type": "execute_result"
    }
   ],
   "source": [
    "from collections import defaultdict\n",
    "\n",
    "# 0-argument function\n",
    "def cons():\n",
    "    return 'no value'\n",
    "\n",
    "d = defaultdict(cons)\n",
    "d['a'] = 5\n",
    "\n",
    "value = d['x']\n",
    "value"
   ]
  },
  {
   "cell_type": "markdown",
   "metadata": {},
   "source": [
    "So when do you use which approach? It's mostly a matter of choice - either one provides the same basic behavior. Defaultdict is a bit nicer when you want to use something naiively as a `dict` and just get back a default value, whereas using the normal `dict.get()` method may make your intention more explicit to provide a default value.\n",
    "\n",
    "But there is one more interesting case to consider - what if you want a `dict` where each default value is actually a `defaultdict` as well? We can use recursion to give us a `defaultdict` that can build itself:"
   ]
  },
  {
   "cell_type": "code",
   "execution_count": 27,
   "metadata": {
    "collapsed": false
   },
   "outputs": [
    {
     "name": "stdout",
     "output_type": "stream",
     "text": [
      "defaultdict(<function shane_is_a_loser at 0x2af7bce6a400>, {'x': defaultdict(<function shane_is_a_loser at 0x2af7bce6a400>, {'y': defaultdict(<function shane_is_a_loser at 0x2af7bce6a400>, {'z': 0})})})\n"
     ]
    }
   ],
   "source": [
    "def shane_is_a_loser():\n",
    "    return defaultdict(shane_is_a_loser)\n",
    "\n",
    "d = defaultdict(shane_is_a_loser)\n",
    "d['x']['y']['z'] = 0\n",
    "\n",
    "# the visual representation is pretty ugly, but should still make sense:\n",
    "print(d)"
   ]
  },
  {
   "cell_type": "markdown",
   "metadata": {},
   "source": [
    "In one (admittedly confusing) line, we defined something a little more like what Perl users may be familiar with, regarding hash behavior. Sometimes we need a flexible dict object where we can assign sub-dicts freely without worrying about if certain keys have been initialzied yet. \n",
    "\n",
    "**OrderedDict** is only useful in a handful of cases, but it's useful nonetheless. Remember that dicts are functionally *hash tables* behind the scenes. Whatever key we provide for association is first hashed and then used as an index into a 'raw' array to pull out a value. In a naiive implementation, there's no understanding or bookkeeping of the order in which values are assigned. But there are a number of cases where this may be something we care about. For that purpose, `OrderedDict` is a type provided in the `collections` module that keeps track of the order in which keys are assigned."
   ]
  },
  {
   "cell_type": "code",
   "execution_count": null,
   "metadata": {
    "collapsed": false
   },
   "outputs": [],
   "source": [
    "# first, an example of the randomness of iterating over dicts\n",
    "\n",
    "d = {}\n",
    "d[1] = 0\n",
    "d['200'] = 3\n",
    "d[4] = 10\n",
    "d[100] = 17\n",
    "d[5] = 10\n",
    "\n",
    "for k, v in d.items():\n",
    "    print(k, ' \\t= ', v)"
   ]
  },
  {
   "cell_type": "code",
   "execution_count": null,
   "metadata": {
    "collapsed": false,
    "scrolled": true
   },
   "outputs": [],
   "source": [
    "# now, using an OrderedDict\n",
    "from collections import OrderedDict\n",
    "\n",
    "d = OrderedDict()\n",
    "d[1] = 0\n",
    "d['200'] = 3\n",
    "d[4] = 100\n",
    "d[100] = 17\n",
    "d[5] = 10\n",
    "\n",
    "for k, v in d.items():\n",
    "    print(k, ' \\t= ', v)"
   ]
  },
  {
   "cell_type": "markdown",
   "metadata": {},
   "source": [
    "# Functions\n",
    "\n",
    "There are a number of bits of 'advanced' Python syntax that relate directly how we use and define functions. Let's dive in first by looking at how we deal with complex arguments. First, the arguments list of a function defintion take the form we're used to:\n",
    "\n",
    "function(arg1, arg2)\n",
    "\n",
    "But one of Python's strengths is in its flexibility in arguments that may be more complex (or at least less expressive) in other languages. We can easily define a function that takes any number of arguments, such as a function that prints each of its inputs, no matter how many you give it. Let's see this below:"
   ]
  },
  {
   "cell_type": "code",
   "execution_count": 28,
   "metadata": {
    "collapsed": false
   },
   "outputs": [
    {
     "name": "stdout",
     "output_type": "stream",
     "text": [
      "one\n",
      "two\n",
      "three\n",
      "-----\n",
      "or just one\n"
     ]
    }
   ],
   "source": [
    "def deg(x):\n",
    "    return x + \"is awesome\"\n",
    "\n",
    "def my_func(*args):\n",
    "    for arg in args:\n",
    "        print(arg)\n",
    "        \n",
    "my_func('one', 'two', 'three')\n",
    "print('-----')\n",
    "my_func('or just one')"
   ]
  },
  {
   "cell_type": "markdown",
   "metadata": {},
   "source": [
    "This `*args` syntax allows us to take a flexible number of arguments, which the function basically sees as a list. Conveniently, we can use this to provide some optional arguments and some required ones. In this case, the `*args` must come last."
   ]
  },
  {
   "cell_type": "code",
   "execution_count": 29,
   "metadata": {
    "collapsed": false
   },
   "outputs": [
    {
     "name": "stdout",
     "output_type": "stream",
     "text": [
      "one  and  two\n",
      "But you also gave  0  more arguments!\n",
      "-----\n",
      "or one  and  two\n",
      "But you also gave  2  more arguments!\n"
     ]
    }
   ],
   "source": [
    "def my_func(arg1, arg2, *args):\n",
    "    print(arg1, ' and ', arg2)\n",
    "    print('But you also gave ', len(args), ' more arguments!')\n",
    "\n",
    "my_func('one', 'two')\n",
    "print('-----')\n",
    "my_func('or one', 'two', 'and three', 'maybe a fourth')"
   ]
  },
  {
   "cell_type": "markdown",
   "metadata": {},
   "source": [
    "There's an inverse operation to this, however, called argument unpacking. Say we have a function that takes three arguments, and we have a list of three items. We can use this syntax to intelligently feed each element of the list (or tuple, etc) to the function, as shown below:"
   ]
  },
  {
   "cell_type": "code",
   "execution_count": null,
   "metadata": {
    "collapsed": false
   },
   "outputs": [],
   "source": [
    "def my_func(arg1, arg2, arg3):\n",
    "    return arg1 + arg2 + arg3\n",
    "\n",
    "my_vals = [1, 2, 3]\n",
    "my_func(*my_vals)"
   ]
  },
  {
   "cell_type": "markdown",
   "metadata": {},
   "source": [
    "The syntax, as expected, is basically the same as when we provide optional arguments. This is convenient for a number of reasons, especially when you feed data into a variable-argument function.\n",
    "\n",
    "Remember before when we discussed `zip()` and finding an inverse function? We can use `zip()` as its own inverse function, simply by using this argument unpacking syntax."
   ]
  },
  {
   "cell_type": "code",
   "execution_count": 30,
   "metadata": {
    "collapsed": false,
    "scrolled": true
   },
   "outputs": [
    {
     "name": "stdout",
     "output_type": "stream",
     "text": [
      "[(1, 4), (2, 5), (3, 6), (4, 7)]\n",
      "[(1, 2, 3, 4), (4, 5, 6, 7)]\n"
     ]
    }
   ],
   "source": [
    "l1, l2 = [1,2,3,4], [4,5,6,7]\n",
    "zipped = list(zip(l1, l2))\n",
    "print(zipped)\n",
    "\n",
    "unzipped = list(zip(*zipped))\n",
    "print(unzipped)"
   ]
  },
  {
   "cell_type": "markdown",
   "metadata": {},
   "source": [
    "Similar to how we can provide optional arguments using this `*args` syntax, we can provide optional arguments as key-value pairs using a dict-like syntax. Let's define a function that uses all of these together, and look at some clever ways to take advantage of it."
   ]
  },
  {
   "cell_type": "code",
   "execution_count": 31,
   "metadata": {
    "collapsed": false
   },
   "outputs": [
    {
     "name": "stdout",
     "output_type": "stream",
     "text": [
      "1 2\n",
      "variable length =  (4, 5, 6, 7)\n",
      "keywords =  {'other_var': 'y', 'my_var': 'x'}\n"
     ]
    }
   ],
   "source": [
    "def complex_func(arg1, arg2, *args, **kwargs):\n",
    "    print(arg1, arg2)\n",
    "    print('variable length = ', args)\n",
    "    print('keywords = ', kwargs)\n",
    "\n",
    "complex_func(1, 2, 4, 5, 6, 7, my_var='x', other_var='y')"
   ]
  },
  {
   "cell_type": "markdown",
   "metadata": {},
   "source": [
    "Notice that using `**kwargs` provides a `dict`-like interface to access named parameters of our function. These are inherently optional, and we can iterate over them just as we would in a dict. We can provide default values for keyword arguments in a function definition as well:"
   ]
  },
  {
   "cell_type": "code",
   "execution_count": 32,
   "metadata": {
    "collapsed": false
   },
   "outputs": [
    {
     "name": "stdout",
     "output_type": "stream",
     "text": [
      "5  =  1\n",
      "----\n",
      "1  =  2\n",
      "----\n",
      "10  =  5\n",
      "----\n",
      "10  =  5\n"
     ]
    }
   ],
   "source": [
    "def func_defaults(key=5, value=1):\n",
    "    print(key, ' = ', value)\n",
    "\n",
    "func_defaults()\n",
    "print('----')\n",
    "func_defaults(1, 2)\n",
    "print('----')\n",
    "func_defaults(key=10, value=5)\n",
    "print('----')\n",
    "func_defaults(value=5, key=10)"
   ]
  },
  {
   "cell_type": "markdown",
   "metadata": {},
   "source": [
    "And as expected, argument unpacking works on keyword arguments just the same:"
   ]
  },
  {
   "cell_type": "code",
   "execution_count": 33,
   "metadata": {
    "collapsed": false
   },
   "outputs": [
    {
     "name": "stdout",
     "output_type": "stream",
     "text": [
      "5  =  15\n"
     ]
    }
   ],
   "source": [
    "d = {'key': 5, 'value': 15}\n",
    "func_defaults(**d)"
   ]
  },
  {
   "cell_type": "markdown",
   "metadata": {},
   "source": [
    "Python supports a number of more useful features related to functions. Below we'll look at a few examples. The first note to make is that Python has a concept of first-class function (or higher-order functions) - that is, functions are values just like numbers are, and functions can accept functions as arguments or return functions just as they can values. We saw a simple example of this with `defaultdict` - it required a function as an argument.\n",
    "\n",
    "As a result, there are a number of times we need a quick little function defined without necessarily giving it a name. This concept is known as 'anonymous functions', but Python implements the `lambda` operator to support this. The `lamba` syntax basically provides a quick way to define a 0-N argument anonymous function in-line. Let's use this `map` function for an example: `map()` takes two arguments - a function to apply, and an iterable object on which to apply it."
   ]
  },
  {
   "cell_type": "code",
   "execution_count": 34,
   "metadata": {
    "collapsed": false
   },
   "outputs": [
    {
     "data": {
      "text/plain": [
       "[2, 4, 8, 10, 12]"
      ]
     },
     "execution_count": 34,
     "metadata": {},
     "output_type": "execute_result"
    }
   ],
   "source": [
    "def multiply2(x):\n",
    "    return x * 2\n",
    "\n",
    "data = [1,2,4,5,6]\n",
    "list(map(multiply2, data))"
   ]
  },
  {
   "cell_type": "markdown",
   "metadata": {},
   "source": [
    "Using a `lambda` expression, we can encode this simple behavior in one line:"
   ]
  },
  {
   "cell_type": "code",
   "execution_count": 35,
   "metadata": {
    "collapsed": false
   },
   "outputs": [
    {
     "data": {
      "text/plain": [
       "['this is', 'this is']"
      ]
     },
     "execution_count": 35,
     "metadata": {},
     "output_type": "execute_result"
    }
   ],
   "source": [
    "s = [\"this is my string\", \"this is my other string\"]\n",
    "list(map(lambda x: x[:7], s))"
   ]
  },
  {
   "cell_type": "markdown",
   "metadata": {},
   "source": [
    "Lambda expressions are very useful, but their use can be a little tricky. Lambda expressions consider their scope, so they can lead to some complicated scenarios, for better or worse. Thankfully, you can't assign values from within a lambda expression, so we can't do too much harm, but you have to be mindful of values in scope:\n",
    "    "
   ]
  },
  {
   "cell_type": "code",
   "execution_count": null,
   "metadata": {
    "collapsed": false
   },
   "outputs": [],
   "source": [
    "some_value = 10\n",
    "\n",
    "# pull in a variable from our current scope\n",
    "list(map(lambda x: x + some_value, data))"
   ]
  },
  {
   "cell_type": "markdown",
   "metadata": {},
   "source": [
    "Our long-term goal is to work with tabular data. Do you suppose this approach will be valuable in this context?\n",
    "\n",
    "Lambda functions can be assigned as variables, making them look just like a named function:"
   ]
  },
  {
   "cell_type": "code",
   "execution_count": null,
   "metadata": {
    "collapsed": false
   },
   "outputs": [],
   "source": [
    "multiply = lambda x, y: x * y\n",
    "\n",
    "multiply(5, 10)"
   ]
  },
  {
   "cell_type": "markdown",
   "metadata": {},
   "source": [
    "We will be using `lambda` expressions **very** heavily throughout the rest of the course, so make sure you understand the general idea before moving on.\n",
    "\n",
    "Let's look at a few more topics on functions before moving on. The `functools` module provides us a number of useful function-related functions that we can use to address a lot of common behavior. First, the `partial` function gives us a way to create a new function, based on a provided function, with some of its arguments filled in. "
   ]
  },
  {
   "cell_type": "code",
   "execution_count": null,
   "metadata": {
    "collapsed": false
   },
   "outputs": [],
   "source": [
    "from functools import partial\n",
    "\n",
    "my_func = lambda x, y: x + y\n",
    "add2 = partial(my_func, 2)\n",
    "\n",
    "print(add2(5))\n",
    "\n",
    "# we can also apply keyword arguments)\n",
    "def my_func(x=1, y=2, z=3):\n",
    "    return x * y + z\n",
    "\n",
    "somefunc = partial(my_func, y=10)\n",
    "print(somefunc(x=1, z=5))"
   ]
  },
  {
   "cell_type": "markdown",
   "metadata": {},
   "source": [
    "**Decorators** are a cute syntax for applying some high-level behavior around a function, such as logging its arguments when it's called. Again, this topic goes beyond the scope of this class, but we just want to touch a useful case. The `functools` module provides a handy decorator - **lru_cache** - which can be used as a decorator to a function to cache return values for recently-seen arguments. Let's use this to speed up our naiive fibonacci example, by defining a function for fibonacci, and using the `@` symbol to tell our function to use this decorator."
   ]
  },
  {
   "cell_type": "code",
   "execution_count": null,
   "metadata": {
    "collapsed": false
   },
   "outputs": [],
   "source": [
    "from functools import lru_cache\n",
    "\n",
    "@lru_cache(maxsize=255)\n",
    "def fib(n):\n",
    "    if n < 2:\n",
    "        return 1\n",
    "    return fib(n - 1) + fib(n - 2)"
   ]
  },
  {
   "cell_type": "code",
   "execution_count": null,
   "metadata": {
    "collapsed": false
   },
   "outputs": [],
   "source": [
    "%%timeit\n",
    "fib(100)"
   ]
  },
  {
   "cell_type": "markdown",
   "metadata": {},
   "source": [
    "Effectively, `lru_cache` wraps our function with a look-up table for `{arg: return_value}` to speed up our function. This requires that a function be well-behaved - every time you call the function with a given argument, you always get the same value. Side effects, such as writing to a file, throw a wrench into this."
   ]
  },
  {
   "cell_type": "markdown",
   "metadata": {},
   "source": [
    "# A Quick Note on Concurrency\n",
    "\n",
    "Concurrency is hard. Simultaneous access of multiple actors (threads, processes, etc.) of shared state can lead to race conditions, deadlocks, or starvation, either giving incorrect results or killing a program in its tracks. Managing these effects well is worthy of an entire college course or more, so we'll only look at an easy place to exploit concurrency in our programs.\n",
    "\n",
    "Python's default implementation effectively prevents concurrency of any kind using the Global Interpreter Lock, or GIL. The GIL is necessary for the current Python implementation since the majority of its memory management is not thread safe. So if we can never execute Python code in parallel, how do we take advantage of multiple cores/threads for any performance gains?\n",
    "\n",
    "The simple answer is that, in our workflow in PE, a lot of the work that we may want to speed up is actually done by other programs, meaning our code just sits there waiting for a result much of the time. This applies for data extraction commands, like `tc`, as well as IO-bound operations, or any case where our Python code isn't the bottleneck.\n",
    "\n",
    "Let's look at one very simple example of how to take advantage of simple, \"embarassingly parallel\" problems, using Python's `concurrent.futures` module. The `multiprocessing` and `concurrent` modules provide a lot of flexible solutions for parallelism, but we have two ojects of interest we'll use - `ThreadPoolExecutor` and `ProcessPoolExecutor`.\n",
    "\n",
    "These two objects create resource pools that we can exploit as workers for code we write, but more importantly, they implement a `map()` method that lets us feed functions data and naiively parallelize the work. As always, let's look at a simple example:"
   ]
  },
  {
   "cell_type": "code",
   "execution_count": null,
   "metadata": {
    "collapsed": false
   },
   "outputs": [],
   "source": [
    "from concurrent.futures import ThreadPoolExecutor\n",
    "\n",
    "e = ThreadPoolExecutor(max_workers=7)\n",
    "\n",
    "def my_func(x):\n",
    "    \n",
    "    # let's pretend this function goes and calls a \n",
    "    #   complicated data extraction command, like prbext\n",
    "    \n",
    "    return x + 5\n",
    "\n",
    "data = list(range(10))\n",
    "\n",
    "results = list(e.map(my_func, data))\n",
    "results"
   ]
  },
  {
   "cell_type": "markdown",
   "metadata": {},
   "source": [
    "Just as when we used `map()` before, we can simply feed it a function and some data, and the thread pool goes and parallelized the application of the function. If your function spends most of its time waiting, this can provide a quick speedup for data extraction.\n",
    "\n",
    "One common workflow I personally use is with `prbext`. This command can be very slow if called on an entire lot, to collect die-level probe data, but if you instead call it on each probe log individual (from psums) you can parallelize the extraction and benefit significantly.\n",
    "\n",
    "So my workflow often resembles the following:\n",
    "\n",
    "`psums = get_psums_logs()`\n",
    "\n",
    "`def get_data(log): # go and call prbext`\n",
    "\n",
    "`results = list(e.map(get_data, psums))`\n",
    "\n",
    "`final_data = concatenate(results)`\n",
    "\n",
    "One gotcha: when you write code in a notebook, Python can sometimes have some trouble feeding your code to child threads/processes. It's easier to write your `map`'ed function in a module that your notebook may call - just keep this in mind if you run into any hiccups!\n"
   ]
  },
  {
   "cell_type": "markdown",
   "metadata": {},
   "source": [
    "# StringIO\n",
    "\n",
    "StringIO/BytesIO are useful classes for writing/reading to virtual files. This can be really useful when some kind of API you're given expects a file to write to, but you really want to return a string (to modify before saving)."
   ]
  },
  {
   "cell_type": "code",
   "execution_count": null,
   "metadata": {
    "collapsed": false
   },
   "outputs": [],
   "source": [
    "from io import StringIO\n",
    "\n",
    "# create a \"file\" object from a string\n",
    "s = 'this is my amazing string that should be treated like a file \\n this is a thing'\n",
    "sio = StringIO(s)\n",
    "sio.read()\n",
    "\n",
    "# a number of interfaces return bytes rather than a string\n",
    "from io import BytesIO\n",
    "some_bytes = BytesIO(b'this is a bytestring').read()\n",
    "some_string = some_bytes.decode('utf-8')\n",
    "\n",
    "swrite = StringIO()\n",
    "swrite.write('this is something i wrote to like it was a file')\n",
    "swrite.getvalue()"
   ]
  },
  {
   "cell_type": "markdown",
   "metadata": {},
   "source": [
    "# Regular Expressions\n",
    "\n",
    "Regex is a common tool in Product Engineering given the vast number of data formats we use and its flexibility for parsing. While PE tends to use Regex from Perl (in addition to in our typical data extraction tools), the Python support is comparable, though it has a bit of a different interface. We'll look at an example, starting first from some Perl run through IPython, then look at the Python equivalents.\n",
    "\n",
    "\"Some people, when confronted with a problem, think 'I know, I'll use regular expressions.' Now they have two problems.\" - Jamie Zawinski"
   ]
  },
  {
   "cell_type": "code",
   "execution_count": null,
   "metadata": {
    "collapsed": false
   },
   "outputs": [],
   "source": [
    "%%script perl\n",
    "\n",
    "$line = \"An_example_line_of_complex: Text!.\";\n",
    "if ($line =~ m/([A-z_]+):\\s(.+)/g) {\n",
    "    print($1, \"\\n\");\n",
    "    print($2, \"\\n\");\n",
    "}"
   ]
  },
  {
   "cell_type": "markdown",
   "metadata": {},
   "source": [
    "Here's the quickest, simplest example of comparable matching in Python:"
   ]
  },
  {
   "cell_type": "code",
   "execution_count": null,
   "metadata": {
    "collapsed": false
   },
   "outputs": [],
   "source": [
    "#import regex module\n",
    "import re\n",
    "\n",
    "line = \"An_example_line_of_complex: Text!.\"\n",
    "\n",
    "results = re.findall('([A-z_]+):\\s(.+)', line)[0]\n",
    "\n",
    "if results:\n",
    "    print(results[0])\n",
    "    print(results[1])"
   ]
  },
  {
   "cell_type": "markdown",
   "metadata": {},
   "source": [
    "Non-matches simply produce an empty list. Let's see that by looking for all uppercase characters in our example string:"
   ]
  },
  {
   "cell_type": "code",
   "execution_count": null,
   "metadata": {
    "collapsed": false
   },
   "outputs": [],
   "source": [
    "# non-matches simply produce an empty list\n",
    "re.findall('([A-Z_]+):\\s(.+)', line)"
   ]
  },
  {
   "cell_type": "markdown",
   "metadata": {},
   "source": [
    "### match.search()\n",
    "\n",
    "It's a common use case to re-use a single regular expression multiple times on new input data. While other languages feature the concept of pre-compiling regular expressions, all of the various Python regular expression functions compile and cache the most recently used expressions, giving the same benefit one would otherwise see with compilation.\n",
    "\n",
    "Nonetheless, it's preferable when reusing a single regular expressions repeatedly to use the formal `re.compile()` function and call its `.match()`/`.search()` methods on each new set of data."
   ]
  },
  {
   "cell_type": "code",
   "execution_count": null,
   "metadata": {
    "collapsed": false
   },
   "outputs": [],
   "source": [
    "re_summary = re.compile('([A-z_]+):\\s(.+)')\n",
    "matches = re_summary.search(line)\n",
    "if matches:\n",
    "    # group 0 has full match\n",
    "    print(matches.group(0))\n",
    "    \n",
    "    # other groups have other matches:\n",
    "    print(matches.group(1))\n",
    "    print(matches.group(2))\n",
    "else:\n",
    "    print(\"no match!\")"
   ]
  },
  {
   "cell_type": "markdown",
   "metadata": {},
   "source": [
    "Our `matches` variable contains the result of the applied regular expression, and we can use the `.group()` method to access matched elements directly, or we can use the `.groups()` method to return a tuple of all match groups."
   ]
  },
  {
   "cell_type": "code",
   "execution_count": null,
   "metadata": {
    "collapsed": false
   },
   "outputs": [],
   "source": [
    "match = re_summary.search(\"another_Simple_example_piece: of_text.\")\n",
    "if match:\n",
    "    print(match.groups())\n",
    "else:\n",
    "    print(\"no matches\")"
   ]
  },
  {
   "cell_type": "markdown",
   "metadata": {},
   "source": [
    "### Named Fields\n",
    "\n",
    "One of the best practices for working with regular expressions in Python, however, is to use named fields and access the results using the `groupdict()` method to retrieve a `dict` of all your matches. Remember - regular expressions are hard! Save yourself the cost of maintaining ugly code by making your intentions a little more clear!"
   ]
  },
  {
   "cell_type": "code",
   "execution_count": null,
   "metadata": {
    "collapsed": false
   },
   "outputs": [],
   "source": [
    "data_regex = re.compile('^(?P<FIRST>[A-z-]+):\\s'+\n",
    "                         '(?P<OTHER>.+)$')\n",
    "match = data_regex.search(line)\n",
    "if match:\n",
    "    print(match.groupdict())\n",
    "    print(match.groupdict()['FIRST'])\n",
    "    print(match.groupdict()['OTHER'])"
   ]
  },
  {
   "cell_type": "code",
   "execution_count": null,
   "metadata": {
    "collapsed": true
   },
   "outputs": [],
   "source": [
    "data_regex = re.compile('^(?P<FIRST>[A-z-]+):\\s'+\n",
    "                         '(?P<OTHER>.+)$')\n",
    "match = data_regex.search(line)\n",
    "if match:\n",
    "    print(match.groupdict())\n",
    "    print(match.groupdict()['FIRST'])\n",
    "    print(match.groupdict()['OTHER'])"
   ]
  },
  {
   "cell_type": "code",
   "execution_count": null,
   "metadata": {
    "collapsed": false
   },
   "outputs": [],
   "source": [
    "# compile a long regex, spanning multiple lines\n",
    "# make it readable!\n",
    "data_regex = re.compile('^(?P<FIRST_WORD>[A-z]+)_' +\n",
    "                         '(?P<SECOND_WORD>[A-z]+)_' +\n",
    "                         '(?P<THIRD_WORD>[A-z]+)_' +\n",
    "                         '(?P<FOURTH_WORD>[A-z]+)_' +\n",
    "                         '(?P<FIFTH_WORD>[A-z]+):\\s' +\n",
    "                         '(?P<OTHER>.+)$')\n",
    "match = data_regex.search(line)\n",
    "if match:\n",
    "    print(match.groupdict())"
   ]
  },
  {
   "cell_type": "code",
   "execution_count": null,
   "metadata": {
    "collapsed": true
   },
   "outputs": [],
   "source": []
  },
  {
   "cell_type": "markdown",
   "metadata": {},
   "source": [
    "# End of Lecture 1"
   ]
  },
  {
   "cell_type": "markdown",
   "metadata": {},
   "source": [
    "# Exercises\n",
    "\n",
    "Remember, the intention of the exercises is to get you writing some code and solving some problems for practice. Try your hand at every problem, but don't spend too long on each if you can't come up with a good solution. Any practice you get is beneficial. Instructor solutions will be distributed the following day.\n",
    "\n",
    "Try and avoid the urge to look up a solution to your problem, but feel free to look at the documentation for a particular function or use available resources to work toward your own solution. We want you thinking in Python and solving code problems, but we also want you to learn the standard library of functions available to you that make your job easier!"
   ]
  },
  {
   "cell_type": "markdown",
   "metadata": {},
   "source": [
    "#### Exercise 1\n",
    "\n",
    "Write some code that that prints the numbers from 1 to 50 (inclusive). But for multiples of three print “Fizz” instead of the number and for the multiples of five print “Buzz”. For numbers which are multiples of both three and five print “FizzBuzz”.\n",
    "\n",
    "Note: this is a frequent interview question for programming candidates; it's a little deceptive in terms of difficult."
   ]
  },
  {
   "cell_type": "code",
   "execution_count": null,
   "metadata": {
    "collapsed": true
   },
   "outputs": [],
   "source": [
    "# write your code here!\n"
   ]
  },
  {
   "cell_type": "code",
   "execution_count": null,
   "metadata": {
    "collapsed": false
   },
   "outputs": [],
   "source": [
    "# instructor simple solution\n",
    "# use range(1, 51) for the real solution\n",
    "#  just saving space\n",
    "for i in range(1, 21):\n",
    "    if i % 15 == 0:\n",
    "        print('FizzBuzz')\n",
    "    \n",
    "    elif i % 3 == 0:\n",
    "        print('Fizz')\n",
    "        \n",
    "    elif i % 5 == 0:\n",
    "        print('Buzz')\n",
    "    \n",
    "    else:\n",
    "        print(i)\n",
    "    "
   ]
  },
  {
   "cell_type": "markdown",
   "metadata": {},
   "source": [
    "#### Exercise 2\n",
    "\n",
    "Write a function to reverse the order of words in a string (but don't reverse the letters in the words).\n",
    "\n",
    "Input:\n",
    "\n",
    "```sentence = 'the quick brown fox'```\n",
    "\n",
    "Output:\n",
    "\n",
    "```flipped = 'fox brown quick the'```\n",
    "\n",
    "##### Hints\n",
    "- How would you reverse the elements in a list?\n",
    "- Strings have a `.split()` function that may be of interest\n",
    "- Strings also have a `.join()` function that may be of interest"
   ]
  },
  {
   "cell_type": "code",
   "execution_count": null,
   "metadata": {
    "collapsed": false
   },
   "outputs": [],
   "source": [
    "sentence = 'the quick brown fox jumped over the lazy dog'\n",
    "\n",
    "# write your code here!\n",
    "flipped = ''\n",
    "\n",
    "# return the output\n",
    "flipped"
   ]
  },
  {
   "cell_type": "code",
   "execution_count": null,
   "metadata": {
    "collapsed": false
   },
   "outputs": [],
   "source": [
    "# instructor iterative solution\n",
    "\n",
    "words = sentence.split(' ')\n",
    "flipped = ''\n",
    "\n",
    "# iterate over the list of words\n",
    "for i in range(len(words)):\n",
    "    flipped += words[len(words) - i - 1] + ' '\n",
    "\n",
    "# remove the trailing space\n",
    "flipped = flipped[:-1]\n",
    "print(flipped)\n",
    "\n",
    "# -------\n",
    "# instructor one-line solution\n",
    "flipped = ' '.join(sentence.split(' ')[::-1])\n",
    "print(flipped)\n",
    "\n",
    "# alternative one-line using reversed()\n",
    "flipped = ' '.join(reversed(sentence.split(' ')))\n",
    "print(flipped)"
   ]
  },
  {
   "cell_type": "markdown",
   "metadata": {},
   "source": [
    "#### Exercise 3\n",
    "\n",
    "Given a comma-separated value (CSV) string, generate a list of dictionaries which represents each record, as shown below:\n",
    "\n",
    "Input:\n",
    "\n",
    "```csv = \"\"\"design,quantity,status\n",
    "v80a,1400,on hold\n",
    "v90b,2524,moving\n",
    "v00h,159,on hold\"\"\"```\n",
    "\n",
    "Output:\n",
    "\n",
    "```records = [\n",
    "               {'design': 'v80a', 'quantity': 1400, 'status': 'on hold' },\n",
    "               {'design': 'v90b', 'quantity': 2524, 'status': 'moving'  },\n",
    "               {'design': 'v00h', 'quantity': 159,  'status': 'on hold' },\n",
    "          ]```\n",
    "        \n",
    "##### Hints:\n",
    "- Strings have a `.split()` function that may be of interest\n",
    "- Line separators are still '\\n'\n",
    "\n",
    "##### Hard modes:\n",
    "- Try it without using loops (hint: list or dict comprehensions)\n",
    "- Try it using `zip()` (hint: `dict()` called on a list of tuples is useful)\n",
    "- Can you do it in under 5 lines? Under 3?"
   ]
  },
  {
   "cell_type": "code",
   "execution_count": null,
   "metadata": {
    "collapsed": false
   },
   "outputs": [],
   "source": [
    "# sample input string\n",
    "csv = \"\"\"fid,test,bitcounts\n",
    "089154K:10:P11:26,tWR,15\n",
    "089154K:10:P11:26,Refresh,4\n",
    "089154K:11:P11:26,tWR,19\n",
    "089154K:11:P11:26,Refresh,161\n",
    "089154K:12:P11:26,tWR,2509\n",
    "089154K:12:P11:26,Refresh,97\"\"\"\n",
    "\n",
    "# write your code here!\n",
    "records = {}\n",
    "\n",
    "# return result to display in cell below:\n",
    "records"
   ]
  },
  {
   "cell_type": "code",
   "execution_count": null,
   "metadata": {
    "collapsed": false
   },
   "outputs": [],
   "source": [
    "# instructor verbose solution\n",
    "\n",
    "# split text into a list of lines\n",
    "lines = csv.split('\\n')\n",
    "\n",
    "headers = lines[0].split(',')\n",
    "lines = lines[1:]\n",
    "\n",
    "records = []\n",
    "\n",
    "for line in lines:\n",
    "    \n",
    "    # split each line by comma\n",
    "    tokens = line.split(',')\n",
    "    dd = {}\n",
    "    \n",
    "    for i, token in enumerate(tokens):\n",
    "        dd[ headers[i] ] = token\n",
    "    \n",
    "    records.append(dd)\n",
    "    \n",
    "records\n",
    "    "
   ]
  },
  {
   "cell_type": "code",
   "execution_count": null,
   "metadata": {
    "collapsed": false
   },
   "outputs": [],
   "source": [
    "# instructor short solution\n",
    "lines = [x.split(',') for x in csv.split('\\n')]\n",
    "records = [\n",
    "    dict(zip(lines[0], x))\n",
    "        for x in lines[1:]\n",
    "          ]\n",
    "records"
   ]
  },
  {
   "cell_type": "markdown",
   "metadata": {},
   "source": [
    "#### Exercise 4\n",
    "\n",
    "Write a function that accepts a nested list of strings (between 1 and N levels deep) and returns a flattened version of the string.\n",
    "\n",
    "Input:\n",
    "\n",
    "```nested = [\n",
    "                ['this', 'is', 'a', 'list'],\n",
    "                'but i am a string',\n",
    "                [['extra', 'nested'], ['two', 'levels']]\n",
    "         ]```\n",
    "\n",
    "Output:\n",
    "\n",
    "```flattened = ['this', 'is', 'a', 'list',\n",
    "             'but i am a string', 'extra',\n",
    "             'nested', 'two', 'levels']```\n",
    "\n",
    "\n",
    "##### Hints\n",
    "- Write helper functions if necessary\n",
    "- Recursion can be a useful tool as well\n",
    "- Look through the `itertools` doc pages\n",
    "- You can check if an item is a list or string using the `instanceof()` function\n",
    "- You can add a new element to a list using `mylist.append(value)`\n",
    "- You can concatenate two lists simply using addition: `newlist = firstlist + secondlist`"
   ]
  },
  {
   "cell_type": "code",
   "execution_count": null,
   "metadata": {
    "collapsed": true
   },
   "outputs": [],
   "source": [
    "nested = [\n",
    "                ['this', 'is', 'a', 'list'],\n",
    "                'but i am a string',\n",
    "                [['extra', 'nested'], ['two', 'levels']]\n",
    "         ]\n",
    "\n",
    "def flatten(x):\n",
    "    \n",
    "    # write your code here! \n",
    "    \n",
    "    return \n",
    "\n",
    "flatten(nested)"
   ]
  },
  {
   "cell_type": "code",
   "execution_count": null,
   "metadata": {
    "collapsed": false
   },
   "outputs": [],
   "source": [
    "# instructor recursive solution\n",
    "\n",
    "def flatten(x):\n",
    "\n",
    "    vals = []\n",
    "    \n",
    "    for i in x:\n",
    "        \n",
    "        if isinstance(i, str):\n",
    "            vals.append(i)\n",
    "        else:\n",
    "            vals += flatten(i)\n",
    "    \n",
    "    return vals\n",
    "\n",
    "flatten(nested)"
   ]
  },
  {
   "cell_type": "markdown",
   "metadata": {},
   "source": [
    "#### Exercise 5\n",
    "\n",
    "Write a function `reducel(func, sequence, optional_initial_value)`, that reduces a sequence to a single value, according to a user-provided, 2-argument function. For example, the `sum()` function could be written `reducer(lambda x, y: x + y, [1,2,3,4], 0)`, or the `product()` function could be written `reducel(lambda x, y: x * y, [1,2,3,4], 1)`.\n",
    "\n",
    "The function should be applied left-to-right down the sequence. For the sum case, this should be evaluated as:\n",
    "\n",
    "((((1) + 2) + 3) + 4)\n",
    "\n",
    "**Take note**: would this be different if we applied our function right-to-left? What functions could you provide that would behave differently? When might you use a left-to-right versus a right-to-left function?\n",
    "\n",
    "Note: this is a critical feature in *functional programming languages*, and is referred to as a *fold* or *reduce* operation. Python implements the `reduce()` function for this purpose.\n",
    "\n",
    "Read more: http://en.wikipedia.org/wiki/Fold_(higher-order_function)\n",
    "\n",
    "##### Test cases\n",
    "\n",
    "`reducel(lambda x, y: x + y, [1,2,3,4,5])`\n",
    "\n",
    "`reducel(lambda x, y: x + x * y, [1,2,3,4,5], 1)`\n",
    "\n",
    "`reducel(lambda x, y: x + ' ' + y, ['words', 'become', 'a', 'sentence'], '')`\n",
    "\n",
    "##### Hard modes\n",
    "- Can you make the initial value optional? What do you do if it's optional?\n",
    "- How could you leverage this pattern to rewrite the `string.split()` function? Hint: write a named function to do some work, and think about what values you might return. What if you use an intermediate return value (like a tuple?)"
   ]
  },
  {
   "cell_type": "code",
   "execution_count": 1,
   "metadata": {
    "collapsed": false,
    "scrolled": true
   },
   "outputs": [
    {
     "name": "stdout",
     "output_type": "stream",
     "text": [
      "15\n",
      "15\n"
     ]
    },
    {
     "data": {
      "text/plain": [
       "(['this', 'is', ' my', 'string'], 'this is  my string')"
      ]
     },
     "execution_count": 1,
     "metadata": {},
     "output_type": "execute_result"
    }
   ],
   "source": [
    "# using standard library\n",
    "from functools import reduce\n",
    "print(reduce(lambda x, y: x + y, [1,2,3,4,5], 0))\n",
    "\n",
    "# instructor iterative solution\n",
    "def reducel(func, sequence, *args):\n",
    "    \n",
    "    # handle the optional argument\n",
    "    # if not included, use first val.\n",
    "    if len(args) == 0:\n",
    "        accum = sequence[0]\n",
    "        sequence = sequence[1:]\n",
    "    else:\n",
    "        accum = args[0]\n",
    "    \n",
    "    for i in range(len(sequence)):\n",
    "        accum = func(accum, sequence[i])\n",
    "    return accum\n",
    "\n",
    "print(reduce(lambda x, y: x + y, [1,2,3,4,5], 0))\n",
    "\n",
    "# for the hardmode case #2\n",
    "def split_string(s, x):\n",
    "    \"\"\"\n",
    "    This is a little bit tricky, so pay attention!\n",
    "    At each step, we see two parameters:\n",
    "     what we've calculated so far, and the next\n",
    "     character in the string.\n",
    "    Our in-progress data is simply a list of words\n",
    "    but we'll temporarily store an empty word\n",
    "    to signal that we saw a space.\n",
    "    \"\"\"\n",
    "\n",
    "    if x != ' ' and len(s) == 0:\n",
    "        return [x]\n",
    "    \n",
    "    # create an empty token to hold onto, as long as\n",
    "    #  the last character we saw wasn't a space\n",
    "    elif x == ' ' and len(s) > 0 and len(s[-1]) > 0:\n",
    "        return s + ['']\n",
    "    \n",
    "    # what if our string starts with a space?\n",
    "    #  then start with an empty token\n",
    "    elif x == ' ' and len(s) == 0:\n",
    "        return ['']\n",
    "    \n",
    "    # we saw an empty token; add our current character to it\n",
    "    elif s[-1] == '':\n",
    "        return s[:-1] + [x]\n",
    "    \n",
    "    # we see a valid character and have a partial string\n",
    "    else:\n",
    "        return s[:-1] + [s[-1] + x]\n",
    "    \n",
    "\n",
    "split = reduce(split_string, 'this is  my string', [])\n",
    "recombined = reduce(lambda x, y: x + ' ' + y, split)\n",
    "\n",
    "# we've just written split and join as reduce functions\n",
    "split, recombined"
   ]
  },
  {
   "cell_type": "code",
   "execution_count": 2,
   "metadata": {
    "collapsed": false
   },
   "outputs": [
    {
     "data": {
      "text/plain": [
       "720"
      ]
     },
     "execution_count": 2,
     "metadata": {},
     "output_type": "execute_result"
    }
   ],
   "source": [
    "reducel(lambda x, y: x + x * y, [1,2,3,4,5], 1)"
   ]
  },
  {
   "cell_type": "markdown",
   "metadata": {
    "collapsed": true
   },
   "source": [
    "# \"Good\" Code\n",
    "\n",
    "We're not software engineers, but we have to use our own code, and that means reading code we've written. Follow this short set of best practices for coding for the purposes of this class and exercises:\n",
    "\n",
    "* Give variables sane, expressive names\n",
    "* Write lots of comments!\n",
    "* But comment on why, not how, unless necessary\n",
    "* Never write \"tricky\" code!\n",
    "* Regex should be commented just like any other code\n",
    "* **DRY** (Don't Repeat Yourself) - Decompose things into functions whenever relevant\n",
    "* **YAGNI** (You Ain't Gonna Need It) - Don't abstract things unless you really should\n",
    "\n",
    "**Excerpts From the Zen of Python:**\n",
    "* Beautiful is better than ugly.\n",
    "* Explicit is better than implicit.\n",
    "* Simple is better than complex.\n",
    "* Complex is better than complicated.\n",
    "* Flat is better than nested.\n",
    "* Readability counts.\n",
    "* In the face of ambiguity, refuse the temptation to guess.\n",
    "* There should be one-- and preferably only one --obvious way to do it.\n",
    "* If the implementation is hard to explain, it's a bad idea.\n",
    "* If the implementation is easy to explain, it may be a good idea."
   ]
  },
  {
   "cell_type": "code",
   "execution_count": null,
   "metadata": {
    "collapsed": true
   },
   "outputs": [],
   "source": []
  }
 ],
 "metadata": {
  "kernelspec": {
   "display_name": "Python 3",
   "language": "python",
   "name": "python3"
  },
  "language_info": {
   "codemirror_mode": {
    "name": "ipython",
    "version": 3
   },
   "file_extension": ".py",
   "mimetype": "text/x-python",
   "name": "python",
   "nbconvert_exporter": "python",
   "pygments_lexer": "ipython3",
   "version": "3.5.1"
  }
 },
 "nbformat": 4,
 "nbformat_minor": 0
}
