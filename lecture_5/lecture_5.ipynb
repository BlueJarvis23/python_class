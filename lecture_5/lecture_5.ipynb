{
 "cells": [
  {
   "cell_type": "markdown",
   "metadata": {},
   "source": [
    "# Beginning Python Class -- Lecture 5"
   ]
  },
  {
   "cell_type": "markdown",
   "metadata": {},
   "source": [
    "## Expected Understanding\n",
    "At this point in the class it is very important that you have a good understanding of the topics in Lecture_1 and Lecture_2. The topics today will build directly on the previous topics such as:\n",
    "\n",
    "    - Basic Data Types\n",
    "    - Conditionals\n",
    "    - Loops\n",
    "    - Functions\n",
    "    - User Defined Datatypes -- Classes\n",
    "\n"
   ]
  },
  {
   "cell_type": "markdown",
   "metadata": {},
   "source": [
    "### Running Python in the Lab\n",
    "Not everyone has a dedicated Windows machine that they can remote into, and not everyone has their own Linux account. Therefore we are going to use an online Python Interpreter to run our Python code for this class. This way we can practice in the lab and students can practice at home without having to install python on their PC. I will run python from my machine during the lecture so that the process of running python from the command line is understood.\n",
    "\n",
    "Here is the link to the online Python Interpreter -- <https://repl.it/languages/python3>"
   ]
  },
  {
   "cell_type": "markdown",
   "metadata": {},
   "source": [
    "### PEP8 Style Guide\n",
    "PEP8 style guide should be used as a reference for styling decisions. This document (<http://legacy.python.org/dev/peps/pep-0008/>) covers topics like:\n",
    "    - Indentation\n",
    "    - Comments\n",
    "    - Line Length\n",
    "These are a set of standards that allow python developers to easily work on each others code and avoid nasty syntax bugs caused by white space inconsistencies."
   ]
  },
  {
   "cell_type": "markdown",
   "metadata": {},
   "source": [
    "### Syntax\n",
    "Syntax in the context of computer code is the set of rules that defines the combinations of symbols that are considered to be a correctly structured document or fragment in that language.\n",
    "\n",
    "Python was designed to have a very clean look to the code. The compromise is that to correctly interpret the code python elected to use white space as a syntactical character. The last language to use syntactical white space was Fortran which was created by IBM in 1957.\n",
    "\n",
    "Languages such as Perl and C ignore white space and rely on other special characters that often mean different things in different contexts. This allowed the programmer to develop their own style independent of the format of the code.\n",
    "\n",
    "A quick example is shown below:\n",
    "\n",
    "```\n",
    "foreach my $a (@list_of_numbers){\n",
    "    print \"value of a: $a\\n\";\n",
    "}\n",
    "```\n",
    "\n",
    "The exact same Perl code could be written like:\n",
    "\n",
    "```\n",
    "foreach my $a (@list_of_numbers){ print \"value of a: $a\\n\"; }\n",
    "```\n",
    "\n",
    "This is because one of the characters that Perl uses to group instructions are \"{}\" (brackets).\n",
    "\n",
    "Python avoids this type of problem by requiring white space syntax to group sequences of instruction:\n",
    "```python\n",
    "for a in list_of_numbers:\n",
    "    print( \"Value of a: \" + str(a))\n",
    "```\n",
    "\n",
    "Since the 'print' statement is executed during the loop it is nested/grouped inside the loop with 4 spaces. (More on loops later in Lecture 2)\n"
   ]
  },
  {
   "cell_type": "markdown",
   "metadata": {},
   "source": [
    "# New Topics"
   ]
  },
  {
   "cell_type": "markdown",
   "metadata": {},
   "source": [
    "## Practice Problem 1\n"
   ]
  },
  {
   "cell_type": "markdown",
   "metadata": {},
   "source": [
    "## Practice Problem 2\n"
   ]
  },
  {
   "cell_type": "markdown",
   "metadata": {},
   "source": [
    "## Practice Problem 3\n"
   ]
  },
  {
   "cell_type": "markdown",
   "metadata": {},
   "source": [
    "## Practice Problem 4\n"
   ]
  },
  {
   "cell_type": "code",
   "execution_count": null,
   "metadata": {
    "collapsed": true
   },
   "outputs": [],
   "source": []
  }
 ],
 "metadata": {
  "kernelspec": {
   "display_name": "Python 3",
   "language": "python",
   "name": "python3"
  },
  "language_info": {
   "codemirror_mode": {
    "name": "ipython",
    "version": 3
   },
   "file_extension": ".py",
   "mimetype": "text/x-python",
   "name": "python",
   "nbconvert_exporter": "python",
   "pygments_lexer": "ipython3",
   "version": "3.5.1"
  }
 },
 "nbformat": 4,
 "nbformat_minor": 0
}
