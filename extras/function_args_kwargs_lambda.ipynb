{
 "cells": [
  {
   "cell_type": "markdown",
   "metadata": {},
   "source": [
    "# Functions"
   ]
  },
  {
   "cell_type": "markdown",
   "metadata": {},
   "source": [
    "There are a number of bits of 'advanced' Python syntax that relate directly to how we use and define functions. Let's dive in first by looking at how we deal with complex arguments. First, the arguments list of a function defintion take the form we're used to:\n",
    "\n",
    "function(arg1, arg2)\n",
    "\n",
    "But one of Python's strengths is in its flexibility in arguments that may be more complex (or at least less expressive) in other languages. We can easily define a function that takes any number of arguments, such as a function that prints each of its inputs, no matter how many you give it. Let's see this below:"
   ]
  },
  {
   "cell_type": "code",
   "execution_count": 1,
   "metadata": {
    "collapsed": false
   },
   "outputs": [
    {
     "name": "stdout",
     "output_type": "stream",
     "text": [
      "one\n",
      "two\n",
      "three\n",
      "-----\n",
      "or just one\n"
     ]
    }
   ],
   "source": [
    "def deg(x):\n",
    "    return x + \"is awesome\"\n",
    "\n",
    "def my_func(*args):\n",
    "    for arg in args:\n",
    "        print(arg)\n",
    "        \n",
    "my_func('one', 'two', 'three')\n",
    "print('-----')\n",
    "my_func('or just one')"
   ]
  },
  {
   "cell_type": "markdown",
   "metadata": {},
   "source": [
    "This `*args` syntax allows us to take a flexible number of arguments, which the function basically sees as a list. Conveniently, we can use this to provide some optional arguments and some required ones. In this case, the `*args` must come last."
   ]
  },
  {
   "cell_type": "code",
   "execution_count": 2,
   "metadata": {
    "collapsed": false
   },
   "outputs": [
    {
     "name": "stdout",
     "output_type": "stream",
     "text": [
      "one  and  two\n",
      "But you also gave  0  more arguments!\n",
      "-----\n",
      "or one  and  two\n",
      "But you also gave  2  more arguments!\n"
     ]
    }
   ],
   "source": [
    "def my_func(arg1, arg2, *args):\n",
    "    print(arg1, ' and ', arg2)\n",
    "    print('But you also gave ', len(args), ' more arguments!')\n",
    "\n",
    "my_func('one', 'two')\n",
    "print('-----')\n",
    "my_func('or one', 'two', 'and three', 'maybe a fourth')"
   ]
  },
  {
   "cell_type": "markdown",
   "metadata": {},
   "source": [
    "There's an inverse operation to this, however, called argument unpacking. Say we have a function that takes three arguments, and we have a list of three items. We can use this syntax to intelligently feed each element of the list (or tuple, etc) to the function, as shown below:"
   ]
  },
  {
   "cell_type": "code",
   "execution_count": 3,
   "metadata": {
    "collapsed": false
   },
   "outputs": [
    {
     "data": {
      "text/plain": [
       "6"
      ]
     },
     "execution_count": 3,
     "metadata": {},
     "output_type": "execute_result"
    }
   ],
   "source": [
    "def my_func(arg1, arg2, arg3):\n",
    "    return arg1 + arg2 + arg3\n",
    "\n",
    "my_vals = [1, 2, 3]\n",
    "my_func(*my_vals)"
   ]
  },
  {
   "cell_type": "markdown",
   "metadata": {},
   "source": [
    "The syntax, as expected, is basically the same as when we provide optional arguments. This is convenient for a number of reasons, especially when you feed data into a variable-argument function.\n",
    "\n",
    "We can use `zip()` as its own inverse function, simply by using this argument unpacking syntax."
   ]
  },
  {
   "cell_type": "code",
   "execution_count": 4,
   "metadata": {
    "collapsed": false
   },
   "outputs": [
    {
     "name": "stdout",
     "output_type": "stream",
     "text": [
      "[(1, 4), (2, 5), (3, 6), (4, 7)]\n",
      "[(1, 2, 3, 4), (4, 5, 6, 7)]\n"
     ]
    }
   ],
   "source": [
    "l1, l2 = [1,2,3,4], [4,5,6,7]\n",
    "zipped = list(zip(l1, l2))\n",
    "print(zipped)\n",
    "\n",
    "unzipped = list(zip(*zipped))\n",
    "print(unzipped)"
   ]
  },
  {
   "cell_type": "markdown",
   "metadata": {},
   "source": [
    "Similar to how we can provide optional arguments using this `*args` syntax, we can provide optional arguments as key-value pairs using a dict-like syntax. Let's define a function that uses all of these together, and look at some clever ways to take advantage of it."
   ]
  },
  {
   "cell_type": "code",
   "execution_count": 5,
   "metadata": {
    "collapsed": false
   },
   "outputs": [
    {
     "name": "stdout",
     "output_type": "stream",
     "text": [
      "1 2\n",
      "variable length =  (4, 5, 6, 7)\n",
      "keywords =  {'my_var': 'x', 'other_var': 'y'}\n"
     ]
    }
   ],
   "source": [
    "def complex_func(arg1, arg2, *args, **kwargs):\n",
    "    print(arg1, arg2)\n",
    "    print('variable length = ', args)\n",
    "    print('keywords = ', kwargs)\n",
    "\n",
    "complex_func(1, 2, 4, 5, 6, 7, my_var='x', other_var='y')"
   ]
  },
  {
   "cell_type": "markdown",
   "metadata": {},
   "source": [
    "Notice that using `**kwargs` provides a dict-like interface to access named parameters of our function. These are inherently optional, and we can iterate over them just as we would in a dict. We can provide default values for keyword arguments in a function definition as well:"
   ]
  },
  {
   "cell_type": "code",
   "execution_count": 6,
   "metadata": {
    "collapsed": false
   },
   "outputs": [
    {
     "name": "stdout",
     "output_type": "stream",
     "text": [
      "5  =  1\n",
      "----\n",
      "1  =  2\n",
      "----\n",
      "10  =  5\n",
      "----\n",
      "10  =  5\n"
     ]
    }
   ],
   "source": [
    "def func_defaults(key=5, value=1):\n",
    "    print(key, ' = ', value)\n",
    "\n",
    "func_defaults()\n",
    "print('----')\n",
    "func_defaults(1, 2)\n",
    "print('----')\n",
    "func_defaults(key=10, value=5)\n",
    "print('----')\n",
    "func_defaults(value=5, key=10)"
   ]
  },
  {
   "cell_type": "markdown",
   "metadata": {},
   "source": [
    "And as expected, argument unpacking works on keyword arguments just the same:"
   ]
  },
  {
   "cell_type": "code",
   "execution_count": 7,
   "metadata": {
    "collapsed": false
   },
   "outputs": [
    {
     "name": "stdout",
     "output_type": "stream",
     "text": [
      "5  =  15\n"
     ]
    }
   ],
   "source": [
    "d = {'key': 5, 'value': 15}\n",
    "func_defaults(**d) # key=5, value=15"
   ]
  },
  {
   "cell_type": "markdown",
   "metadata": {},
   "source": [
    "Python supports a number of more useful features related to functions. Below we'll look at a few examples. The first note to make is that Python has a concept of first-class function (or higher-order functions) - that is, functions are values just like numbers are, and functions can accept functions as arguments or return functions just as they can values.\n",
    "\n",
    "As a result, there are a number of times we need a quick little function defined without necessarily giving it a name. This concept is known as 'anonymous functions', but Python implements the `lambda` operator to support this. The `lamba` syntax basically provides a quick way to define a 0-N argument anonymous function in-line. Let's use this `map` function for an example: `map()` takes two arguments - a function to apply, and an iterable object on which to apply it."
   ]
  },
  {
   "cell_type": "code",
   "execution_count": 8,
   "metadata": {
    "collapsed": false
   },
   "outputs": [
    {
     "data": {
      "text/plain": [
       "[2, 4, 8, 10, 12]"
      ]
     },
     "execution_count": 8,
     "metadata": {},
     "output_type": "execute_result"
    }
   ],
   "source": [
    "def multiply2(x):\n",
    "    return x * 2\n",
    "\n",
    "data = [1,2,4,5,6]\n",
    "list(map(multiply2, data))"
   ]
  },
  {
   "cell_type": "markdown",
   "metadata": {},
   "source": [
    "Using a lambda expression, we can encode this simple behavior in one line:"
   ]
  },
  {
   "cell_type": "code",
   "execution_count": 9,
   "metadata": {
    "collapsed": false
   },
   "outputs": [
    {
     "data": {
      "text/plain": [
       "['this is', 'this is']"
      ]
     },
     "execution_count": 9,
     "metadata": {},
     "output_type": "execute_result"
    }
   ],
   "source": [
    "s = [\"this is my string\", \"this is my other string\"]\n",
    "list(map(lambda x: x[:7], s))"
   ]
  },
  {
   "cell_type": "markdown",
   "metadata": {},
   "source": [
    "Lambda expressions are very useful, but their use can be a little tricky. Lambda expressions consider their scope, so they can lead to some complicated scenarios, for better or worse. Thankfully, you can't assign values from within a lambda expression, so you can't do too much harm, but you have to be mindful of values in scope:"
   ]
  },
  {
   "cell_type": "code",
   "execution_count": 10,
   "metadata": {
    "collapsed": false
   },
   "outputs": [
    {
     "data": {
      "text/plain": [
       "[11, 12, 14, 15, 16]"
      ]
     },
     "execution_count": 10,
     "metadata": {},
     "output_type": "execute_result"
    }
   ],
   "source": [
    "some_value = 10\n",
    "\n",
    "# pull in a variable from our current scope\n",
    "list(map(lambda x: x + some_value, data))"
   ]
  }
 ],
 "metadata": {
  "kernelspec": {
   "display_name": "Python 3",
   "language": "python",
   "name": "python3"
  },
  "language_info": {
   "codemirror_mode": {
    "name": "ipython",
    "version": 3
   },
   "file_extension": ".py",
   "mimetype": "text/x-python",
   "name": "python",
   "nbconvert_exporter": "python",
   "pygments_lexer": "ipython3",
   "version": "3.6.0"
  }
 },
 "nbformat": 4,
 "nbformat_minor": 0
}
