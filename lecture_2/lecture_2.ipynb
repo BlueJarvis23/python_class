{
 "cells": [
  {
   "cell_type": "markdown",
   "metadata": {},
   "source": [
    "# Beginning Python Class -- Lecture 2"
   ]
  },
  {
   "cell_type": "markdown",
   "metadata": {},
   "source": [
    "## Expected Understanding\n",
    "At this point in the class it is very important that you have a good understanding of the topics in Lecture_1. The topics today will build directly on the Basic Data Types. \n",
    "    - Int/Float\n",
    "    - Bool\n",
    "    - String\n",
    "    - List/Tuple\n",
    "    - Dictionary\n",
    "Today's topics will allow our code to execute in a way that is not directly linear. We will cover Conditionals and Looping. Conditionals will allow us to make decisions in our code and only execute specific parts. Loops will give us a quick way to execute multiple instructions over and over without having to directly write out every instruction.\n",
    "\n",
    "More information can be found on these topics here: <http://www.openbookproject.net/books/bpp4awd/ch04.html>\n",
    "\n",
    "Indentation and Syntax will be increasingly important this week and therefore I will leave the sections about `Style` and `Syntax` in this lecture for easy reference."
   ]
  },
  {
   "cell_type": "markdown",
   "metadata": {},
   "source": [
    "### Running Python in the Lab\n",
    "Not everyone has a dedicated Windows machine that they can remote into, and not everyone has their own Linux account. Therefore we are going to use an online Python Interpreter to run our Python code for this class. This way we can practice in the lab and students can practice at home without having to install python on their PC. I will run python from my machine during the lecture so that the process of running python from the command line is understood.\n",
    "\n",
    "Here is the link to the online Python Interpreter -- <https://repl.it/languages/python3>"
   ]
  },
  {
   "cell_type": "markdown",
   "metadata": {},
   "source": [
    "### PEP8 Style Guide\n",
    "PEP8 style guide should be used as a reference for styling decisions. This document (<http://legacy.python.org/dev/peps/pep-0008/>) covers topics like:\n",
    "    - Indentation\n",
    "    - Comments\n",
    "    - Line Length\n",
    "These are a set of standards that allow python developers to easily work on each others code and avoid nasty syntax bugs caused by white space inconsistencies."
   ]
  },
  {
   "cell_type": "markdown",
   "metadata": {},
   "source": [
    "### Syntax\n",
    "Syntax in the context of computer code is the set of rules that defines the combinations of symbols that are considered to be a correctly structured document or fragment in that language.\n",
    "\n",
    "Python was designed to have a very clean look to the code. The compromise is that to correctly interpret the code python elected to use white space as a syntactical character. The last language to use syntactical white space was Fortran which was created by IBM in 1957.\n",
    "\n",
    "Languages such as Perl and C ignore white space and rely on other special characters that often mean different things in different contexts. This allowed the programmer to develop their own style independent of the format of the code.\n",
    "\n",
    "A quick example is shown below:\n",
    "\n",
    "```\n",
    "foreach my $a (@list_of_numbers){\n",
    "    print \"value of a: $a\\n\";\n",
    "}\n",
    "```\n",
    "\n",
    "The exact same Perl code could be written like:\n",
    "\n",
    "```\n",
    "foreach my $a (@list_of_numbers){ print \"value of a: $a\\n\"; }\n",
    "```\n",
    "\n",
    "This is because one of the characters that Perl uses to group instructions are \"{}\" (brackets).\n",
    "\n",
    "Python avoids this type of problem by requiring white space syntax to group sequences of instruction:\n",
    "```python\n",
    "for a in list_of_numbers:\n",
    "    print( \"Value of a: \" + str(a))\n",
    "```\n",
    "\n",
    "Since the 'print' statement is executed during the loop it is nested/grouped inside the loop with 4 spaces. (More on loops later in Lecture 2)\n"
   ]
  },
  {
   "cell_type": "markdown",
   "metadata": {},
   "source": [
    "## Conditional Statements\n",
    "At the heart of every `if` statement is an expression that can be evaluated as `True` or `False` and is called a _conditional test_. Python uses the values `True` and `False` to decide whether the code in an `if` statement should be executed. If a conditional test evaluates to `True`, Python executes the code following the `if` statement. If the test evaluates to `False`, Python ignores the code following the `if` statement."
   ]
  },
  {
   "cell_type": "markdown",
   "metadata": {},
   "source": [
    "### Conditional Statements/Boolean Expressions\n",
    "Conditional Statements check a condition and then either return `True` or `False`. These statements can be thought of as a way to ask a question that is either answered 'yes' or 'no'. Conditional Statements are the same as Boolean Expressions and are interchangeable vocabulary. Sometimes the evaluation of Conditional Statements is called Boolean Algebra."
   ]
  },
  {
   "cell_type": "markdown",
   "metadata": {},
   "source": [
    "#### Equality\n",
    "This Conditional statement checks for equality and returns `True` or `False`. To check for equality we use the `==` operator."
   ]
  },
  {
   "cell_type": "code",
   "execution_count": 1,
   "metadata": {
    "collapsed": false
   },
   "outputs": [
    {
     "name": "stdout",
     "output_type": "stream",
     "text": [
      "True\n",
      "False\n",
      "False\n",
      "False\n"
     ]
    }
   ],
   "source": [
    "print( 5 == 5 )\n",
    "print( 5 == 6 )\n",
    "print( 5 == 'a' )\n",
    "print( 5 == [5] )"
   ]
  },
  {
   "cell_type": "markdown",
   "metadata": {},
   "source": [
    "#### Inequality\n",
    "Inequality returns `True` if the values compared are not equal. Inequality can be denoted in two ways. Either by using the inequality operator `!=` pronounced (Bang Equals) or by negating an equality statement."
   ]
  },
  {
   "cell_type": "code",
   "execution_count": 2,
   "metadata": {
    "collapsed": false
   },
   "outputs": [
    {
     "name": "stdout",
     "output_type": "stream",
     "text": [
      "False\n",
      "True\n",
      "True\n",
      "True\n",
      "Now we are using negation\n",
      "False\n",
      "True\n"
     ]
    }
   ],
   "source": [
    "print( 5 != 5 )\n",
    "print( 5 != 6 )\n",
    "print( 5 != 'a' )\n",
    "print( 5 != [5] )\n",
    "# negation turns True to False, and False to True.\n",
    "# the 'not' key word is used to denote negation.\n",
    "print( \"Now we are using negation\")\n",
    "print( not( 5 == 5 ) )\n",
    "print( not( 5 == 6 ) )"
   ]
  },
  {
   "cell_type": "markdown",
   "metadata": {},
   "source": [
    "#### Numerical Comparisons\n",
    "Numerical Comparisons are used to know how a number compares to another number. There are a number of operators that we will be using:\n",
    "    - `>` Greater-than\n",
    "    - `<` Less-than\n",
    "    - `>=` Greater-than-or-Equal-to\n",
    "    - `<=` Less-than-or-Equal-to\n",
    "It should also be noted that some of these operators can be used on strings and characters. But just as `+` works differently on numbers than strings, these operators also work differently."
   ]
  },
  {
   "cell_type": "code",
   "execution_count": 3,
   "metadata": {
    "collapsed": false
   },
   "outputs": [
    {
     "name": "stdout",
     "output_type": "stream",
     "text": [
      "False\n",
      "True\n",
      "False\n",
      "True\n",
      "False\n",
      "True\n"
     ]
    }
   ],
   "source": [
    "print( 5 > 10 )\n",
    "print( 5 < 10 )\n",
    "print( 5 > 5 )\n",
    "print( 5 >= 5 )\n",
    "print( 5 < 5 )\n",
    "print( 5 <= 5 )"
   ]
  },
  {
   "cell_type": "markdown",
   "metadata": {},
   "source": [
    "#### Containment or the `in` Operator\n",
    "The `in` key word checks if an item is contained in a sequential data type (string, list, tuple, dictionary)."
   ]
  },
  {
   "cell_type": "code",
   "execution_count": 4,
   "metadata": {
    "collapsed": false
   },
   "outputs": [
    {
     "name": "stdout",
     "output_type": "stream",
     "text": [
      "True\n",
      "False\n",
      "True\n",
      "False\n"
     ]
    }
   ],
   "source": [
    "print( 'a' in \"Dallin\" )\n",
    "print( 'b' in \"Dallin\" )\n",
    "\n",
    "print( 1 in [0,1,2,3,4,5] )\n",
    "print( -1 in [0,1,2,3,4,5] )"
   ]
  },
  {
   "cell_type": "markdown",
   "metadata": {},
   "source": [
    "#### Multiple Conditions\n",
    "Multiple Conditions can be checked at the same time using the keywords `'and'` and `'or'`. \n",
    "    - `and` gives us `True` if statements on both sides of the `and` are `True` otherwise it gives us `False`\n",
    "    - `or` gives us `True` if the statements on either side of the `or` is `True`"
   ]
  },
  {
   "cell_type": "code",
   "execution_count": 1,
   "metadata": {
    "collapsed": false
   },
   "outputs": [
    {
     "name": "stdout",
     "output_type": "stream",
     "text": [
      "True\n",
      "True\n"
     ]
    }
   ],
   "source": [
    "x = 7\n",
    "print( 5 <= x and x < 10 )\n",
    "\n",
    "x = -100\n",
    "print( x < 0 or x > 10)"
   ]
  },
  {
   "cell_type": "markdown",
   "metadata": {},
   "source": [
    "### If Statements\n",
    "If statements are paired with a conditional statement and do something if the statement is `True` and something different if the statement evaluates to `False`.\n",
    "\n",
    "Pieces of code that are nested together are sometimes called 'blocks'. In order for statements to be included in the `if` statement they must _indented_ by 4 spaces. `if` statements are written in the following form.\n",
    "\n",
    "```python\n",
    "if BOOLEAN EXPRESSION:\n",
    "    STATEMENTS # 4 spaces of white space\n",
    "    STATEMENTS # 4 spaces of white space\n",
    "```\n",
    "\n",
    "Please note the white space that nests the statements inside the `if` statement. This is piece of code could be considered a block."
   ]
  },
  {
   "cell_type": "code",
   "execution_count": 6,
   "metadata": {
    "collapsed": false
   },
   "outputs": [
    {
     "name": "stdout",
     "output_type": "stream",
     "text": [
      "x is a good number\n"
     ]
    }
   ],
   "source": [
    "x = 3\n",
    "if x in [0,1,2,3,4,5]:\n",
    "    print( \"x is a good number\" )\n",
    "    \n",
    "y = 7\n",
    "if y in [0,1,2,3,4,5]:\n",
    "    print( \"y is a good number\") # This will not print"
   ]
  },
  {
   "cell_type": "markdown",
   "metadata": {},
   "source": [
    "A more general form of the `if` statement is shown below. This will be a good way to chain statements together.\n",
    "\n",
    "```python\n",
    "if BOOLEAN EXPRESSION:\n",
    "    TRUE STATEMENTS # 4 spaces of white space\n",
    "    TRUE STATEMENTS # 4 spaces of white space\n",
    "elif DIFFERENT BOOLEAN EXPRESSION:\n",
    "    DIFFERENT TRUE STATEMENTS # 4 spaces of white space\n",
    "    DIFFERENT TRUE STATEMENTS # 4 spaces of white space\n",
    "elif DIFFERENT BOOLEAN EXPRESSION:\n",
    "    DIFFERENT TRUE STATEMENTS # 4 spaces of white space\n",
    "    DIFFERENT TRUE STATEMENTS # 4 spaces of white space\n",
    "else:\n",
    "    FALSE STATEMENTS # 4 spaces of white space\n",
    "    FALSE STATEMENTS # 4 spaces of white space\n",
    "```\n",
    "\n",
    "There is no limit to the number of `elif` statements that can be added to an `if` statement."
   ]
  },
  {
   "cell_type": "code",
   "execution_count": 7,
   "metadata": {
    "collapsed": false,
    "scrolled": true
   },
   "outputs": [
    {
     "name": "stdout",
     "output_type": "stream",
     "text": [
      "You got a B\n"
     ]
    }
   ],
   "source": [
    "score = 88\n",
    "if score >= 90:\n",
    "    print( \"You got an A\" )\n",
    "elif score >= 80:\n",
    "    print( \"You got a B\" )\n",
    "elif score >= 70:\n",
    "    print( \"You got a C\" )\n",
    "elif score >= 60:\n",
    "    print( \"You got a D\" )\n",
    "else:\n",
    "    print( \"You Failed\" )"
   ]
  },
  {
   "cell_type": "markdown",
   "metadata": {},
   "source": [
    "## Looping\n",
    "Looping is a control flow statement for specifying iteration/repetition, this allows code to be executed repeatedly. In other words loops are a way that we can move back up and execute earlier lines of Python. It is possible to write loops that will loop forever. These are called infinite loops. Running the loop below would result in the value 10 being printed forever. Please note the difference between this loop and the first loop in the `while` section. Infinite loops should be avoided except under special conditions.\n",
    "\n",
    "```python\n",
    "x = 10\n",
    "while x != 0:\n",
    "    print( \"x is equal to: \" + str(x) )\n",
    "```"
   ]
  },
  {
   "cell_type": "markdown",
   "metadata": {},
   "source": [
    "### While Loops\n",
    "A `while` loop is the most basic loop structure. It will continue to execute the statements in the `while` loop while the Boolean Expression is `True`. The Boolean Expression is checked each time through the loop.\n",
    "```python\n",
    "while BOOLEAN EXPRESSION:\n",
    "    TRUE STATEMENTS # 4 spaces of white space\n",
    "    TRUE STATEMENTS # 4 spaces of white space\n",
    "```\n",
    "The key with `while` loops is that eventually the Boolean Expression should eventually evaluate to `False` to end the loop. This may require the user to create a situation that will terminate the loop. When writing loops keep in mind the situation that will cause the loop to terminate."
   ]
  },
  {
   "cell_type": "code",
   "execution_count": 8,
   "metadata": {
    "collapsed": false
   },
   "outputs": [
    {
     "name": "stdout",
     "output_type": "stream",
     "text": [
      "x is equal to: 10\n",
      "x is equal to: 9\n",
      "x is equal to: 8\n",
      "x is equal to: 7\n",
      "x is equal to: 6\n",
      "x is equal to: 5\n",
      "x is equal to: 4\n",
      "x is equal to: 3\n",
      "x is equal to: 2\n",
      "x is equal to: 1\n"
     ]
    }
   ],
   "source": [
    "x = 10\n",
    "while x != 0:\n",
    "    print( \"x is equal to: \" + str(x) )\n",
    "    x = x - 1 # Notice that I modify the value of x in the loop"
   ]
  },
  {
   "cell_type": "markdown",
   "metadata": {},
   "source": [
    "### For Loops\n",
    "A `for` loop is the most common loop in Python. It is most commonly used to do something on each item of a Sequential Data Type. Once the last item is reached in the Sequential Data Type the loop is exited and Python executes the next line after the loop. The basic form of the `for` loop is shown below.\n",
    "```python\n",
    "for x in SEQUENTIAL_DATA_TYPE:\n",
    "    STATEMENTS # 4 spaces of white space\n",
    "```\n",
    "In the example below the variable `x` gets assigned to each subsequent value in `[0,1,2,3,4,5]`. Therefore the first time through the loop `x = 0` and the next time through `x = 1`. This will continue until the last time through the loop where `x = 5`."
   ]
  },
  {
   "cell_type": "code",
   "execution_count": 9,
   "metadata": {
    "collapsed": false
   },
   "outputs": [
    {
     "name": "stdout",
     "output_type": "stream",
     "text": [
      "The value of x is: 0\n",
      "The value of x is: 1\n",
      "The value of x is: 2\n",
      "The value of x is: 3\n",
      "The value of x is: 4\n",
      "The value of x is: 5\n"
     ]
    }
   ],
   "source": [
    "for x in [0,1,2,3,4,5]:\n",
    "    print( \"The value of x is: \" + str(x) )"
   ]
  },
  {
   "cell_type": "markdown",
   "metadata": {},
   "source": [
    "## Nested Code Blocks\n",
    "Many of you may have already guessed but blocks of code can be nested as many times as desired in Python. For example you could add an `if` statement inside a `for` loop. This is a very important application of white space syntax. Pay attention to the comments explaining the white space."
   ]
  },
  {
   "cell_type": "code",
   "execution_count": 10,
   "metadata": {
    "collapsed": false
   },
   "outputs": [
    {
     "name": "stdout",
     "output_type": "stream",
     "text": [
      "a is a vowel\n",
      "b is a consonant\n",
      "c is a consonant\n",
      "d is a consonant\n",
      "e is a vowel\n",
      "f is a consonant\n",
      "g is a consonant\n",
      "h is a consonant\n",
      "i is a vowel\n",
      "j is a consonant\n",
      "k is a consonant\n",
      "l is a consonant\n",
      "m is a consonant\n",
      "n is a consonant\n",
      "o is a vowel\n",
      "p is a consonant\n",
      "q is a consonant\n",
      "r is a consonant\n",
      "s is a consonant\n",
      "t is a consonant\n",
      "u is a vowel\n",
      "v is a consonant\n",
      "w is a consonant\n",
      "x is a consonant\n",
      "y is a consonant\n",
      "z is a consonant\n"
     ]
    }
   ],
   "source": [
    "for x in 'abcdefghijklmnopqrstuvwxyz':\n",
    "    if x in 'aeiou': # 4 spaces\n",
    "        print( x + \" is a vowel\") # 8 spaces\n",
    "    else: # 4 spaces\n",
    "        print( x + \" is a consonant\") # 8 spaces"
   ]
  },
  {
   "cell_type": "markdown",
   "metadata": {},
   "source": [
    "## Practice Problem 1\n",
    "For every value from 0 - 19 check whether the number is even or odd and print it out. Use a for-loop to iterate through the values. \n",
    "\n",
    "Example:\n",
    "    - 0 is even\n",
    "    - 1 is odd\n",
    "    - 2 is even\n",
    "    - 3 is odd\n",
    "\n",
    "**Extra Credit**: There is an operator that will help you complete this problem. It is the modulus operator `%`. This operator is similar to division except that it only retains the remainder. See the example below."
   ]
  },
  {
   "cell_type": "code",
   "execution_count": 11,
   "metadata": {
    "collapsed": false
   },
   "outputs": [
    {
     "name": "stdout",
     "output_type": "stream",
     "text": [
      "1\n",
      "75\n"
     ]
    }
   ],
   "source": [
    "print( 10 % 3 ) # 10/3 divides 3 times with 1 remainder \n",
    "print( 1275 % 100 ) # 1275/100 divides 12 times with a remainder of 75"
   ]
  },
  {
   "cell_type": "markdown",
   "metadata": {},
   "source": [
    "## Practice Problem 2\n",
    "Create a loop that will ask the user to guess a number from 1-100, and tell the user if the guess is too low, too high, or correct. When the correct guess is found please end the script.\n",
    "\n",
    "Example:\n",
    "    - Please guess a number (1-100): 65\n",
    "    - 65 is too high\n",
    "    - Please guess a number (1-100): 20\n",
    "    - 20 is too low\n",
    "    - Please guess a number (1-100): 41\n",
    "    - 41 is Correct\n",
    "    \n",
    "**Extra Credit**: You can write the above problem with a hard coded value to guess or you can make use of the following snippet of code to get a different number each time the script is ran."
   ]
  },
  {
   "cell_type": "code",
   "execution_count": 5,
   "metadata": {
    "collapsed": false
   },
   "outputs": [
    {
     "name": "stdout",
     "output_type": "stream",
     "text": [
      "74\n",
      "37\n"
     ]
    }
   ],
   "source": [
    "import random\n",
    "x = random.randint(1,100) # Give me a random integer number from 1 to 100\n",
    "y = random.randint(1,100) # Give me a random integer number from 1 to 100, Likely not the same number.\n",
    "\n",
    "print( x )\n",
    "print( y )"
   ]
  },
  {
   "cell_type": "markdown",
   "metadata": {},
   "source": [
    "## Practice Problem 3\n",
    "Create a program that will allow you to quiz small children on their multiplication tables where the numbers can be from 0-12. This program should ask 5 multiplication questions from the user and keep track of the number right and the number wrong. At the end of the five questions tell the user the overall score. You may use the same `random.randint` function that was introduced in 'Practice Problem 2' to make your script more interesting.\n",
    "\n",
    "Example:\n",
    "    - Problem Number 1. What is the answer to 4*8: 32\n",
    "    - Correct!\n",
    "    - Problem Number 2. What is the answer to 7*1: 8\n",
    "    - Incorrect!\n",
    "    - Problem Number 3. What is the answer to 10*11: 110\n",
    "    - Correct!\n",
    "    - Problem Number 4. What is the answer to 0*2: 0\n",
    "    - Correct!\n",
    "    - Problem Number 5. What is the answer to 3*6: 18\n",
    "    - Correct!\n",
    "    - You got 4 out of 5 correct. Thanks for playing."
   ]
  }
 ],
 "metadata": {
  "kernelspec": {
   "display_name": "Python 3",
   "language": "python",
   "name": "python3"
  },
  "language_info": {
   "codemirror_mode": {
    "name": "ipython",
    "version": 3
   },
   "file_extension": ".py",
   "mimetype": "text/x-python",
   "name": "python",
   "nbconvert_exporter": "python",
   "pygments_lexer": "ipython3",
   "version": "3.6.0"
  }
 },
 "nbformat": 4,
 "nbformat_minor": 0
}
