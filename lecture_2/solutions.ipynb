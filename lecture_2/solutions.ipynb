{
 "cells": [
  {
   "cell_type": "markdown",
   "metadata": {},
   "source": [
    "# Beginning Python Class -- Lecture 2 -- Solutions"
   ]
  },
  {
   "cell_type": "markdown",
   "metadata": {},
   "source": [
    "## Practice Problem 1\n",
    "For every value from 0 - 19 check whether the number is even or odd and print it out. Use a for-loop to iterate through the values. \n",
    "\n",
    "Example:\n",
    "    - 0 is even\n",
    "    - 1 is odd\n",
    "    - 2 is even\n",
    "    - 3 is odd\n",
    "\n",
    "**Extra Credit**: There is an operator that will help you complete this problem. It is the modulus operator `%`. This operator is similar to division except that it only retains the remainder. See the example below."
   ]
  },
  {
   "cell_type": "code",
   "execution_count": 1,
   "metadata": {
    "collapsed": false
   },
   "outputs": [
    {
     "name": "stdout",
     "output_type": "stream",
     "text": [
      "1\n",
      "75\n"
     ]
    }
   ],
   "source": [
    "print( 10 % 3 ) # 10/3 divides 3 times with 1 remainder \n",
    "print( 1275 % 100 ) # 1275/100 divides 12 times with a remainder of 75"
   ]
  },
  {
   "cell_type": "markdown",
   "metadata": {},
   "source": [
    "### Solution 1"
   ]
  },
  {
   "cell_type": "code",
   "execution_count": 2,
   "metadata": {
    "collapsed": false
   },
   "outputs": [
    {
     "name": "stdout",
     "output_type": "stream",
     "text": [
      "0 is even\n",
      "1 is odd\n",
      "2 is even\n",
      "3 is odd\n",
      "4 is even\n",
      "5 is odd\n",
      "6 is even\n",
      "7 is odd\n",
      "8 is even\n",
      "9 is odd\n",
      "10 is even\n",
      "11 is odd\n",
      "12 is even\n",
      "13 is odd\n",
      "14 is even\n",
      "15 is odd\n",
      "16 is even\n",
      "17 is odd\n",
      "18 is even\n",
      "19 is odd\n"
     ]
    }
   ],
   "source": [
    "# We will learn a short-cut for createing lists in lecture_4\n",
    "for x in [0,1,2,3,4,5,6,7,8,9,10,11,12,13,14,15,16,17,18,19]:\n",
    "    if x % 2:\n",
    "        print( str(x) + \" is odd\")\n",
    "    else:\n",
    "        print( str(x) + \" is even\")"
   ]
  },
  {
   "cell_type": "markdown",
   "metadata": {},
   "source": [
    "## Practice Problem 2\n",
    "Create a loop that will ask the user to guess a number from 1-100, and tell the user if the guess is too low, too high, or correct. When the correct guess is found please end the script.\n",
    "\n",
    "Example:\n",
    "    - Please guess a number (1-100): 65\n",
    "    - 65 is too high\n",
    "    - Please guess a number (1-100): 20\n",
    "    - 20 is too low\n",
    "    - Please guess a number (1-100): 41\n",
    "    - 41 is Correct\n",
    "    \n",
    "**Extra Credit**: You can write the above problem with a hard coded value to guess or you can make use of the following snippet of code to get a different number each time the script is ran."
   ]
  },
  {
   "cell_type": "code",
   "execution_count": 3,
   "metadata": {
    "collapsed": false
   },
   "outputs": [
    {
     "name": "stdout",
     "output_type": "stream",
     "text": [
      "46\n",
      "46\n"
     ]
    }
   ],
   "source": [
    "import random\n",
    "x = random.randint(1,100) # Give me a random integer number from 1 to 100\n",
    "y = random.randint(1,100) # Give me a random integer number from 1 to 100, Likely not the same number.\n",
    "\n",
    "print( x )\n",
    "print( y )"
   ]
  },
  {
   "cell_type": "markdown",
   "metadata": {},
   "source": [
    "### Solution 2"
   ]
  },
  {
   "cell_type": "code",
   "execution_count": 4,
   "metadata": {
    "collapsed": false
   },
   "outputs": [
    {
     "name": "stdout",
     "output_type": "stream",
     "text": [
      "Please guess a number (1-100): 50\n",
      "50 is too low\n",
      "Please guess a number (1-100): 75\n",
      "75 is too low\n",
      "Please guess a number (1-100): 87\n",
      "87 is too high\n",
      "Please guess a number (1-100): 81\n",
      "81 is too high\n",
      "Please guess a number (1-100): 78\n",
      "78 is too high\n",
      "Please guess a number (1-100): 76\n",
      "76 is too low\n",
      "Please guess a number (1-100): 77\n",
      "77 is Correct!\n"
     ]
    }
   ],
   "source": [
    "import random\n",
    "\n",
    "target = random.randint(1,100)\n",
    "incorrect = True\n",
    "while ( incorrect ):\n",
    "    guess = int(input( \"Please guess a number (1-100): \" ))\n",
    "    if guess == target:\n",
    "        print( str(guess) + \" is Correct!\" )\n",
    "        incorrect = False\n",
    "    elif guess > target:\n",
    "        print( str(guess) + \" is too high\" )\n",
    "    else:\n",
    "        print( str(guess) + \" is too low\")"
   ]
  },
  {
   "cell_type": "markdown",
   "metadata": {},
   "source": [
    "## Practice Problem 3\n",
    "Create a program that will allow you to quiz small children on their multiplication tables where the numbers can be from 0-12. This program should ask 5 multiplication questions from the user and keep track of the number right and the number wrong. At the end of the five questions tell the user the overall score. You may use the same `random.randint` function that was introduced in 'Practice Problem 2' to make your script more interesting.\n",
    "\n",
    "Example:\n",
    "    - Problem Number 1. What is the answer to 4*8: 32\n",
    "    - Correct!\n",
    "    - Problem Number 2. What is the answer to 7*1: 8\n",
    "    - Incorrect!\n",
    "    - Problem Number 3. What is the answer to 10*11: 110\n",
    "    - Correct!\n",
    "    - Problem Number 4. What is the answer to 0*2: 0\n",
    "    - Correct!\n",
    "    - Problem Number 5. What is the answer to 3*6: 18\n",
    "    - Correct!\n",
    "    - You got 4 out of 5 correct. Thanks for playing."
   ]
  },
  {
   "cell_type": "markdown",
   "metadata": {},
   "source": [
    "### Solution 3"
   ]
  },
  {
   "cell_type": "code",
   "execution_count": 5,
   "metadata": {
    "collapsed": false
   },
   "outputs": [
    {
     "name": "stdout",
     "output_type": "stream",
     "text": [
      "Problem Number 1. What is the answer to 1*0: 0\n",
      "Correct!\n",
      "Problem Number 2. What is the answer to 11*0: 0\n",
      "Correct!\n",
      "Problem Number 3. What is the answer to 6*9: 54\n",
      "Correct!\n",
      "Problem Number 4. What is the answer to 12*8: 96\n",
      "Correct!\n",
      "Problem Number 5. What is the answer to 4*10: 41\n",
      "Incorrect!\n",
      "You got 4 out of 5 correct. Thanks for playing.\n"
     ]
    }
   ],
   "source": [
    "import random\n",
    "\n",
    "num_correct = 0\n",
    "\n",
    "for x in [1,2,3,4,5]:\n",
    "    num1 = random.randint(0,12)\n",
    "    num2 = random.randint(0,12)\n",
    "    answer = int(input(\"Problem Number \" + str(x) + \". What is the answer to \" + str(num1) + \"*\" + str(num2) + \": \"))\n",
    "    if answer == num1*num2:\n",
    "        print( \"Correct!\" )\n",
    "        num_correct = num_correct + 1\n",
    "    else:\n",
    "        print( \"Incorrect!\" )\n",
    "\n",
    "print( \"You got \" + str(num_correct) + \" out of 5 correct. Thanks for playing.\")"
   ]
  }
 ],
 "metadata": {
  "kernelspec": {
   "display_name": "Python 3",
   "language": "python",
   "name": "python3"
  },
  "language_info": {
   "codemirror_mode": {
    "name": "ipython",
    "version": 3
   },
   "file_extension": ".py",
   "mimetype": "text/x-python",
   "name": "python",
   "nbconvert_exporter": "python",
   "pygments_lexer": "ipython3",
   "version": "3.6.0"
  }
 },
 "nbformat": 4,
 "nbformat_minor": 0
}
