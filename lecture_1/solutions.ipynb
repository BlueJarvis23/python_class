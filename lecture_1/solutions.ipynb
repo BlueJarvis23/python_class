{
 "cells": [
  {
   "cell_type": "markdown",
   "metadata": {},
   "source": [
    "# Beginning Python Class -- Lecture 1 -- Solutions"
   ]
  },
  {
   "cell_type": "markdown",
   "metadata": {},
   "source": [
    "## Practice Problem 1\n",
    "Accept input from the user and then reverse the string and print it back to the user."
   ]
  },
  {
   "cell_type": "markdown",
   "metadata": {},
   "source": [
    "### Solution 1"
   ]
  },
  {
   "cell_type": "code",
   "execution_count": 1,
   "metadata": {
    "collapsed": false
   },
   "outputs": [
    {
     "name": "stdout",
     "output_type": "stream",
     "text": [
      "Please give me an input string: Dallin Marshall is Awesome\n",
      "emosewA si llahsraM nillaD\n",
      "emosewA si llahsraM nillaD\n"
     ]
    }
   ],
   "source": [
    "response = input( \"Please give me an input string: \" )\n",
    "print( response[::-1] )\n",
    "print( ''.join(reversed(response)) ) # Alternate version not covered in class"
   ]
  },
  {
   "cell_type": "markdown",
   "metadata": {},
   "source": [
    "## Practice Problem 2\n",
    "Practice making a dictionary of dictionaries that follows the same format as I demonstrated in the dictionary section for each member.\n",
    "\n",
    "```python\n",
    "{'age': 26, \n",
    " 'college_team': 'USU', \n",
    " 'favColor': 'Blue', \n",
    " 'email': 'dmarshall@micron.com'}\n",
    "```\n",
    "\n",
    "Add entries for yourself, me (dallin), and your supervisor.\n",
    "\n",
    "Once the dictionary or dictionaries is complete you should be able to access elements as follows:\n",
    "```python\n",
    "x['dallin']['age']\n",
    "```"
   ]
  },
  {
   "cell_type": "markdown",
   "metadata": {},
   "source": [
    "### Solution 2"
   ]
  },
  {
   "cell_type": "code",
   "execution_count": 2,
   "metadata": {
    "collapsed": false
   },
   "outputs": [
    {
     "name": "stdout",
     "output_type": "stream",
     "text": [
      "USU\n",
      "26\n",
      "Red\n",
      "BSU\n",
      "22\n",
      "hhudson@example.com\n",
      "\n",
      "{'Dallin': {'age': 26, 'college_team': 'USU', 'favColor': 'Blue', 'email': 'dmarshall@micron.com'}, 'Alex': {'age': 27, 'college_team': 'USU', 'favColor': 'Red', 'email': 'awalentine@usu.com'}, 'Haylee': {'age': 22, 'college_team': 'BSU', 'favColor': 'Purple', 'email': 'hhudson@example.com'}}\n"
     ]
    }
   ],
   "source": [
    "people = {'Dallin': {'age': 26, \n",
    "                     'college_team': 'USU', \n",
    "                     'favColor': 'Blue', \n",
    "                     'email': 'dmarshall@micron.com'},\n",
    "          'Alex':   {'age': 27, \n",
    "                     'college_team': 'USU', \n",
    "                     'favColor': 'Red', \n",
    "                     'email': 'awalentine@usu.com'},\n",
    "          'Haylee': {'age': 22, \n",
    "                     'college_team': 'BSU', \n",
    "                     'favColor': 'Purple', \n",
    "                     'email': 'hhudson@example.com'}\n",
    "         }\n",
    "print( people['Dallin']['college_team'] )\n",
    "print( people['Dallin']['age'] )\n",
    "print( people['Alex']['favColor'] )\n",
    "print( people['Haylee']['college_team'] )\n",
    "print( people['Haylee']['age'] )\n",
    "print( people['Haylee']['email'] )\n",
    "print()\n",
    "print( people )"
   ]
  },
  {
   "cell_type": "markdown",
   "metadata": {},
   "source": [
    "## Practice Problem 3\n",
    "An industrious USU freshman wishes to conduct an experiment wherein a 0.065 Kg raw egg is to be launched over the top of Old Main Hall using a slingshot with ideal elastics and delivered to an otherwise preoccupied professor travelling across campus.\n",
    "\n",
    "![title](problem3.png)\n",
    "\n",
    "Create a program that accepts two arguments (inputs) corresponding to Theta(degrees) and D(meters) in the diagram above which will tell us how far we will need to pull back our slingshot to hit our professor with an egg.\n",
    "\n",
    "Hint you can make use of the math library to facilitate solving this problem. Add the ```import math``` line at the top of your file and you will have access to math function. More info on the math module here: <https://docs.python.org/3.5/library/math.html>"
   ]
  },
  {
   "cell_type": "code",
   "execution_count": 3,
   "metadata": {
    "collapsed": false
   },
   "outputs": [
    {
     "name": "stdout",
     "output_type": "stream",
     "text": [
      "10.0 0.7071067811865475\n"
     ]
    }
   ],
   "source": [
    "import math\n",
    "x = math.sqrt(100)\n",
    "# The Sin function requires it's argument to be in radians\n",
    "# Therefore we can use the math.radians function to convert degrees to radians.\n",
    "y = math.sin( math.radians(45) )\n",
    "\n",
    "print( x, y )"
   ]
  },
  {
   "cell_type": "markdown",
   "metadata": {},
   "source": [
    "Please format your result in the following way - \"You need to pull the slingshot back ### meters to hit the Professor.\""
   ]
  },
  {
   "cell_type": "markdown",
   "metadata": {},
   "source": [
    "### Solution 3"
   ]
  },
  {
   "cell_type": "code",
   "execution_count": 4,
   "metadata": {
    "collapsed": false
   },
   "outputs": [
    {
     "name": "stdout",
     "output_type": "stream",
     "text": [
      "How far from the professor are you in meters (d): 60\n",
      "What is the angle over Old Main in degrees (θ): 40\n",
      "\n",
      "You need to pull the slingshot back 1.2459471113377676 meters to hit the Professor.\n"
     ]
    }
   ],
   "source": [
    "import math\n",
    "\n",
    "d = int(input( \"How far from the professor are you in meters (d): \" ))\n",
    "theta = int(input( \"What is the angle over Old Main in degrees (\\u03B8): \" ))\n",
    "\n",
    "m = 0.065\n",
    "k = 25\n",
    "g = 9.8\n",
    "\n",
    "x = math.sqrt( (m * g * d) / (k * math.sin(math.radians(2 * theta))) )\n",
    "\n",
    "print()\n",
    "print( \"You need to pull the slingshot back \" + str(x) + \" meters to hit the Professor.\")"
   ]
  }
 ],
 "metadata": {
  "kernelspec": {
   "display_name": "Python 3",
   "language": "python",
   "name": "python3"
  },
  "language_info": {
   "codemirror_mode": {
    "name": "ipython",
    "version": 3
   },
   "file_extension": ".py",
   "mimetype": "text/x-python",
   "name": "python",
   "nbconvert_exporter": "python",
   "pygments_lexer": "ipython3",
   "version": "3.5.1"
  }
 },
 "nbformat": 4,
 "nbformat_minor": 0
}
