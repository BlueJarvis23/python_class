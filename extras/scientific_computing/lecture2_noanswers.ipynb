<!-- SiteMinder Encoding=ISO-8859-1; -->
<html>
    <head>
        <meta name="viewport" content="width=device-width, initial-scale=1, maximum-scale=1, user-scalable=no">
        <meta http-equiv='Expires' content='NO-CACHE'>
		<meta http-equiv="X-UA-Compatible" content="IE=edge" />
		<link rel="stylesheet" type="text/css" href="./css/bootstrap.min.css">
        <link rel="stylesheet" type="text/css" href="./css/bootstrap-theme.min.css">
        <style>

            body {
                  padding-top: 40px;
                  padding-bottom: 40px;
                  background-color: #eee;
                }

                .form-signin {
                  max-width: 330px;
                  padding: 15px;
                  margin: 0 auto;
                }
                .form-signin .form-signin-heading,
                .form-signin .checkbox {
                  margin-bottom: 20px;
				  margin-top: 5px;
                }
                .form-signin .checkbox {
                  font-weight: normal;
                }
                .form-signin .form-control {
                  position: relative;
                  height: auto;
                  -webkit-box-sizing: border-box;
                     -moz-box-sizing: border-box;
                          box-sizing: border-box;
                  padding: 10px;
                  font-size: 16px;
                }
                .form-signin .form-control:focus {
                  z-index: 2;
                }
                .form-signin input[type="text"] {
                  margin-bottom: -1px;
                  border-bottom-right-radius: 0;
                  border-bottom-left-radius: 0;
                }
                .form-signin input[type="password"] {
                  margin-bottom: 10px;
                  border-top-left-radius: 0;
                  border-top-right-radius: 0;
                }

        </style>
        <title>Micron Web Sign-On</title>
        <script language=javascript>
        <!--
			var placeholderSupported = true;
			if (document.createElement("input").placeholder == undefined) { placeholderSupported = false; }

			var capsLockAlertDisplayed = false;
			
            if (parseInt(navigator.userAgent) >= 4)
                if (top.location != location) top.location.href = location.href;
            
            function getCookieValue(cookieName)
            {
                var cookieInfo, counter;
                cookieInfo = document.cookie.split("; ");
                // Iterate through the name/value pairs looking for a match on the name,
                // element 0. If a match is found, return the value, element 1
                for (counter=0; counter<cookieInfo.length; counter++)
                {
                    if (cookieInfo[counter].split("=")[0] == cookieName)
                        return cookieInfo[counter].split("=")[1];
                }
                return "";
            }
            
			function deleteCookieValue(cookieName)
			{
				document.cookie = cookieName + "=;path=/;domain=.micron.com;expires=Thu, 01-Jan-1970 00:00:01 GMT";
            }
            
			function checkCapsLock( e )
			{
				var currKey=0;
				var shiftKey=false;

				currKey = e.keyCode ? e.keyCode : e.charCode;
				shiftKey = window.event ? event : e;
				shiftKey = shiftKey.shiftKey;				

				// Uppercase letters seen without depressing the Shift key or lowercase letters seen while
				// depressing the shift key indicate Caps Lock is on
				if ((((currKey >= 65 && currKey <= 90) && !shiftKey)
				||   ((currKey >= 97 && currKey <= 122) && shiftKey))
				&&     !capsLockAlertDisplayed)
				{
					document.getElementById('capsLockAlert').style.display = 'block';
					capsLockAlertDisplayed = true;
					setTimeout ("document.getElementById('capsLockAlert').style.display = 'none';capsLockAlertDisplayed = false;",10000);
				}
				// Uppercase letters seen while depressing the Shift key or lowercase letters seen without
				// depressing the shift key indicate Caps Lock is NOT on so remove the alert if it is visible.
				else if ((((currKey >= 65 && currKey <= 90) && shiftKey)
				||        ((currKey >= 97 && currKey <= 122) && !shiftKey))
				&&          capsLockAlertDisplayed)
				{
					document.getElementById('capsLockAlert').style.display = 'none';
					capsLockAlertDisplayed = false;
				}
			}
        //-->
        </script>
    </head>
    <body onload='document.form1.USER.focus();' bgcolor='white' leftmargin='0' rightmargin='0' bottommargin='0' topmargin='0' marginheight='0' marginwidth='0'>
        <div class="container-fluid">
            <form class="form-signin" name='form1' id='form1' method='Post' onsubmit='return validate();'>
                <div class="row text-center">
                    
                </div>
                <div class="row text-center">
					<img alt="Logo" src='Micron logo_blue_RGB.png' width="290" height="79">
                    <h2 class="form-signin-heading">Web Sign-On</h2>
                    <script language=javascript>
						<!--
						//var smtrynovalue = getCookieValue('SMTRYNO');
						//var smusrmsgvalue = getCookieValue('SMUSRMSG');
						//if (smtrynovalue != "" && smusrmsgvalue != "")
						//{
						//	document.writeln('<h5><font color=red>(' + smtrynovalue + ') ' + unescape(smusrmsgvalue) + '</font></h5>');
						//}

						var smusrmsgvalue = getCookieValue('SMUSRMSG');
						if (smusrmsgvalue != "")
						{
							document.writeln('<h5><font color=red>' + unescape(smusrmsgvalue) + '</font></h5>');
							document.writeln('If you recently changed your password, the system may<br>');
							document.writeln('not have been updated yet - try your previous password<br>');
							document.writeln('or wait a while before trying your new password again.<br><br>');
							document.writeln('Also, case-sensitive passwords are now supported, so<br>');
							document.writeln('be sure you are entering your password in the proper case<br>');
							document.writeln('and that your Caps Lock is not enabled.<br><br>');
							document.writeln('If you still encounter problems, contact the Help Desk.<br><br>');
							deleteCookieValue ('SMUSRMSG');
						}
						//-->
                    </script>
                </div>
                <div class="row">
						<script> if (!placeholderSupported) { document.writeln('Username:'); }</script>
                        <input class="form-control" type='text' name='USER' maxlength='32' placeholder="Username">
						<script> if (!placeholderSupported) { document.writeln('Password:'); }</script>
                        <input class="form-control" type='password' name='PASSWORD' maxlength='32' onKeyPress='checkCapsLock(event)' placeholder="Password">
                </div>
                <div class="row text-center">
                    <input class="btn btn-primary btn-lg btn-block" type='submit' value=' Login ' name='Submit'>
					<br>
					<h5><a href="http://reducedlogin/">Manage Your Reduced Login Functionality</a></h5>
                </div>
                <div class="row text-center">
                    <h5>
						<small>
                        For questions and support please contact the <a href="http://it.micron.com">Service Desk</a>.
						</small>
                    </h5>
                </div>
                    <input type=hidden name=smenc value='ISO-8859-1'>
                    <input type=hidden name=smlocale value='US-EN'>
                    <textarea style='display:none;' name= target>http://ceweb.micron.com/MTI/dramsoft/references/python_scientific_computing/lectures/lecture2_noanswers.ipynb</textarea>
                    <input type=hidden name=smauthreason value=''>
                    <input type=hidden name=smagentname value=''>
                    <input type=hidden name=postpreservationdata value=''>
            </form>

            <script language='javascript'>
        <!--
	    function validate()
	    {
		    if(document.form1.USER.value == "" || document.form1.PASSWORD.value == "")
		    {
			    alert('Please enter Username & Password!');
			    return false;
		    }
		    //.replace(/^s/,"").replace(/s*$/,"") <- to trim leading and trailing spaces.
			document.form1.USER.value = document.form1.USER.value.toLowerCase();
			if (document.form1.USER.value.indexOf("@") > 0)
			{
				document.form1.USER.value = document.form1.USER.value.substring(0,document.form1.USER.value.indexOf("@"));
			}
			document.form1.target.value = document.form1.target.value.replace(/%252b/g,'%2b').replace(/%252B/g,'%2B').replace(/%2527/g,'%27');
			if (document.form1.target.value.toLowerCase().indexOf('https://') != 0)
			{
				document.form1.target.value = 'https://' + document.domain + '/siteminderagent/forms/redirect.fcc?target=' + document.form1.target.value;
			}
		    return true;
	    }
        //-->
            </script>
        </div>
</body>
</html>
