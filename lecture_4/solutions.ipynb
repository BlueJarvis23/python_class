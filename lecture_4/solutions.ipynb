{
 "cells": [
  {
   "cell_type": "markdown",
   "metadata": {},
   "source": [
    "# Beginning Python Class -- Lecture 4 -- Solutions"
   ]
  },
  {
   "cell_type": "markdown",
   "metadata": {},
   "source": [
    "## Practice Problem 1\n",
    "In a while loop continue asking the user for strings until the user enters an empty string. Each time they give a string add it to the end of a list of strings and print out the list. Make use of the `append` method of the `list` object."
   ]
  },
  {
   "cell_type": "markdown",
   "metadata": {},
   "source": [
    "### Solution 1"
   ]
  },
  {
   "cell_type": "code",
   "execution_count": 1,
   "metadata": {
    "collapsed": false
   },
   "outputs": [
    {
     "name": "stdout",
     "output_type": "stream",
     "text": [
      "Give me an input string: Dallin\n",
      "['Dallin']\n",
      "Give me an input string: Marshall\n",
      "['Dallin', 'Marshall']\n",
      "Give me an input string: PEQ\n",
      "['Dallin', 'Marshall', 'PEQ']\n",
      "Give me an input string: DEG\n",
      "['Dallin', 'Marshall', 'PEQ', 'DEG']\n",
      "Give me an input string: \n"
     ]
    }
   ],
   "source": [
    "list_strings = []\n",
    "while True:\n",
    "    x = input(\"Give me an input string: \")\n",
    "    if x != '':\n",
    "        list_strings.append(x)\n",
    "        print( list_strings )\n",
    "    else:\n",
    "        break"
   ]
  },
  {
   "cell_type": "markdown",
   "metadata": {},
   "source": [
    "## Practice Problem 2\n",
    "Create a `class` for one more shape that describes a circle. Allow the user access to the same functions of `get_perimeter` and `get_area`.\n",
    "\n",
    "The perimeter of a circle is `2 * pi * r`, where r is the radius.\n",
    "\n",
    "The area of a circle is `pi * r * r`.\n",
    "\n",
    "By using the math library we can easily get the value for pi."
   ]
  },
  {
   "cell_type": "code",
   "execution_count": 1,
   "metadata": {
    "collapsed": false
   },
   "outputs": [
    {
     "name": "stdout",
     "output_type": "stream",
     "text": [
      "3.141592653589793\n"
     ]
    }
   ],
   "source": [
    "import math\n",
    "print( math.pi )"
   ]
  },
  {
   "cell_type": "markdown",
   "metadata": {},
   "source": [
    "### Solution 2"
   ]
  },
  {
   "cell_type": "code",
   "execution_count": 1,
   "metadata": {
    "collapsed": false
   },
   "outputs": [
    {
     "name": "stdout",
     "output_type": "stream",
     "text": [
      "Circle 31.41592653589793 78.53981633974483\n"
     ]
    }
   ],
   "source": [
    "import math\n",
    "class shape:\n",
    "    pass\n",
    "\n",
    "class circle(shape):\n",
    "    name = \"Circle\"\n",
    "    def __init__(self, r):\n",
    "        self.radius = r\n",
    "        self.get_perimeter()\n",
    "        self.get_area()\n",
    "    def get_perimeter(self):\n",
    "        self.perimeter = 2 * math.pi * self.radius\n",
    "        return self.perimeter\n",
    "    def get_area(self):\n",
    "        self.area = math.pi * self.radius * self.radius\n",
    "        return self.area\n",
    "    \n",
    "x = circle( 5 )\n",
    "print( x.name, x.get_perimeter(), x.get_area())"
   ]
  },
  {
   "cell_type": "markdown",
   "metadata": {},
   "source": [
    "## Challenge Problem\n",
    "I would like you to create a class that could be used to help us model a card game. Create a `class` card that has the attributes: `suit`, `symbol`, and `value`. `value` being the numerical value of the card in Black Jack. `symbol` would be the character in the corner of the card. 'K' would be the symbol for a card representing a King. Create a `class` deck that contains all 52 cards of a standard deck."
   ]
  },
  {
   "cell_type": "markdown",
   "metadata": {},
   "source": [
    "### Solution 3"
   ]
  },
  {
   "cell_type": "markdown",
   "metadata": {
    "collapsed": true
   },
   "source": [
    "I am not going to post a solution for this problem at this time. I will be going over this durring the final weeks of this class."
   ]
  }
 ],
 "metadata": {
  "kernelspec": {
   "display_name": "Python 3",
   "language": "python",
   "name": "python3"
  },
  "language_info": {
   "codemirror_mode": {
    "name": "ipython",
    "version": 3
   },
   "file_extension": ".py",
   "mimetype": "text/x-python",
   "name": "python",
   "nbconvert_exporter": "python",
   "pygments_lexer": "ipython3",
   "version": "3.5.1"
  }
 },
 "nbformat": 4,
 "nbformat_minor": 0
}
