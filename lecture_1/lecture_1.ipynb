{
 "cells": [
  {
   "cell_type": "markdown",
   "metadata": {},
   "source": [
    "# Beginning Python Class -- Lecture 1"
   ]
  },
  {
   "cell_type": "markdown",
   "metadata": {},
   "source": [
    "## Class Expectations\n",
    "\n",
    "- There is too much to cover in a class and effort will need to be put in outside of class to master concepts\n",
    "- Do Practice Exercises\n",
    "- If questions are off topic please ask me outside of lecture or during the practice lab time\n",
    "- Google is your friend - Learning to find answers to problems on your own is an essential part of scripting\n",
    "\n",
    "- Making fun of my Typos if not excepted -- :-)\n"
   ]
  },
  {
   "cell_type": "markdown",
   "metadata": {},
   "source": [
    "## Class Setup\n",
    "I will lecture for about 30-40 minutes and allow between 15-25 min for us to practice what we have talked about during lab time. During this time all questions will be accepted and students will be able to get a start on the homework problems.\n"
   ]
  },
  {
   "cell_type": "markdown",
   "metadata": {},
   "source": [
    "## Useful Links"
   ]
  },
  {
   "cell_type": "markdown",
   "metadata": {},
   "source": [
    "### SkillSoft\n",
    "Micron Employees have access to the skillsoft learning website. This can be used as supplemental help if a topic is not understood from my lectures. \n",
    "    - In a browser type: \"skillsoft/\" to go to the skillsoft home page\n",
    "        - I have found that Chrome didn't seem to work for videos and I needed to use Internet Explorer\n",
    "    - Search for \"python\"\n",
    "    - Click on the \"Python: The Basics\"\n",
    "We will be covering many of the same things that are covered in this online lecture."
   ]
  },
  {
   "cell_type": "markdown",
   "metadata": {},
   "source": [
    "### Optional free Textbook\n",
    "The following link is to a free Kindle Python textbook. You can use a free Kindle reader from your amazon account to read this book.\n",
    "<https://www.amazon.com/gp/product/B01N1ZXVPL?ref_=pe_2601450_224568940_em_ti&redirect=true&pldnSite=1>"
   ]
  },
  {
   "cell_type": "markdown",
   "metadata": {},
   "source": [
    "### PEP8 Style Guide\n",
    "PEP8 style guide should be used as a reference for styling decisions. This document (<http://legacy.python.org/dev/peps/pep-0008/>) covers topics like:\n",
    "    - Indentation\n",
    "    - Comments\n",
    "    - Line Length\n",
    "These are a set of standards that allow python developers to easily work on each others code and avoid nasty syntax bugs cause by white space inconsistencies."
   ]
  },
  {
   "cell_type": "markdown",
   "metadata": {},
   "source": [
    "The Zen of Python is a guide line for Python design aphorisms."
   ]
  },
  {
   "cell_type": "code",
   "execution_count": 9,
   "metadata": {
    "collapsed": false
   },
   "outputs": [],
   "source": [
    "import this"
   ]
  },
  {
   "cell_type": "markdown",
   "metadata": {},
   "source": [
    "## Running Python in the Lab\n",
    "Not everyone has a dedicated Windows machine that they can remote into, and not everyone has their own Linux account. Therefore we are going to use an online Python Interpreter to run our Python code for this class. This way we can practice in the lab and students can practice at home without having to install python on their PC. I will run python from my machine during the lecture so that the process of running python from the command line is understood.\n",
    "\n",
    "Here is the link to the online Python Interpreter -- <https://repl.it/languages/python3>"
   ]
  },
  {
   "cell_type": "markdown",
   "metadata": {},
   "source": [
    "## Python and Python3 are Different\n",
    "For the purposes of this class we will be primarily using Python3 version 3.5. Just know that code from python2.X and python3.X are not compatible. They are not super different from a syntax or data structure perspective but are quite different in the way that they internally manage data. Some differences are shown below from Python2.X to Python3.X:\n",
    "    - print() needs parentheses - it's a function\n",
    "    - iterate over dictionaries using dict.items()\n",
    "    - strings and bytestrings are explicitly different, and strings by default are typically Unicode\n",
    "    - different syntax for exception handling\n",
    "    - many functions return iterable objects/generators, not lists (map, zip, etc)\n",
    "    - xrange() has been replaced with range()\n",
    "If you ever need to know what version of python you are currently running you can use the following python snippet.\n",
    "\n",
    "At Micron the version of python that is used as the default is Python version 2.6. To follow along with this class you can launch python3 by typing ```/u/qaeng/anaconda3/bin/python``` into the terminal."
   ]
  },
  {
   "cell_type": "code",
   "execution_count": 10,
   "metadata": {
    "collapsed": false
   },
   "outputs": [
    {
     "name": "stdout",
     "output_type": "stream",
     "text": [
      "3.5.1 |Anaconda 4.0.0 (64-bit)| (default, Dec  7 2015, 11:16:01) \n",
      "[GCC 4.4.7 20120313 (Red Hat 4.4.7-1)]\n"
     ]
    }
   ],
   "source": [
    "import sys\n",
    "print( sys.version )"
   ]
  },
  {
   "cell_type": "markdown",
   "metadata": {},
   "source": [
    "The snippet above says that I am currently running python version 3.5.1 at the time of creating these lecture documents."
   ]
  },
  {
   "cell_type": "markdown",
   "metadata": {},
   "source": [
    "# Motivation\n",
    "Computer are very good and happy to do the same thing over and over. Automation of tasks is the main reason that I started working with computers. I wanted to learn how to make the computer work for me and do things automatically that I needed. "
   ]
  },
  {
   "cell_type": "markdown",
   "metadata": {},
   "source": [
    "# Getting Started with Python\n",
    "\n",
    "Code or Source Code in the context of this class will be defined as a sequence of instructions that computer can interpret/compile into a useable/understandable instruction.\n",
    "\n",
    "## Syntax\n",
    "Syntax in the context of computer code is the set of rules that defines the combinations of symbols that are considered to be a correctly structured document or fragment in that language.\n",
    "\n",
    "Python was designed to have a very clean look to the code. The compromise is that to correctly interpret the code python elected to use whitespace as a syntactical character. The last language to use syntactical whitespace was Fortran which was created by IBM in 1957.\n",
    "\n",
    "Languages such as Perl and C ignore whitespace and rely on other special characters that often mean different things in different contexts. This allowed the programmer to develop their own style independent of the format of the code.\n",
    "\n",
    "A quick example is shown below:\n",
    "\n",
    "```\n",
    "foreach my $a (@list_of_numbers){\n",
    "    print \"value of a: $a\\n\";\n",
    "}\n",
    "```\n",
    "\n",
    "The exact same Perl code could be written like:\n",
    "\n",
    "```\n",
    "foreach my $a (@list_of_numbers){ print \"value of a: $a\\n\"; }\n",
    "```\n",
    "\n",
    "This is because one of characters that Perl uses to group instructions are \"{}\" (brackets).\n",
    "\n",
    "Python avoids this type of problem by requiring whitespace syntax to group sequences of instruction:\n",
    "```python\n",
    "for a in list_of_numbers:\n",
    "    print( \"Value of a: \" + str(a))\n",
    "```\n",
    "\n",
    "Since the 'print' statement is executed during the loop it is nested/grouped inside the loop with 4 spaces. (More on loops later)\n"
   ]
  },
  {
   "cell_type": "markdown",
   "metadata": {},
   "source": [
    "## Read, Evaluate, Print, Loop (REPL) -- Playing directly with the Interpreter\n",
    "The Python Interpreter can be launched from the command line in Linux simply by typing: ```python``` or in our case for python3 ```/u/qaeng/anaconda3/bin/python```. This starts the interpreter which will wait for us to run commands this allows us to play with commands one line at a time. When we press the 'Enter' key the interpreter 'Reads' what we input, 'Evaluates' what we input, and 'Prints' the result, and then waits for the next input."
   ]
  },
  {
   "cell_type": "markdown",
   "metadata": {},
   "source": [
    "## Data Types, Variables, and Comments\n",
    "- A Data Type is a particular kind of data and defines the values that it can take in a program.\n",
    "- A variable is a storage location associated with a symbolic name or identifier.\n",
    "- A comment is text that is added to a program that is not executed in order to add notes to the code.\n",
    "    - Comments are denoted with the ```#``` character.\n",
    "    \n",
    "Mastering the predefined data types is a fundamental part of learning to program because it allows you to take advantage of built in functionality of Python. We will not be covering member functions that are associated with the more complex data types this lecture but I will hint at them."
   ]
  },
  {
   "cell_type": "markdown",
   "metadata": {},
   "source": [
    "### Basic Data Types ( Primitives )\n",
    "\n",
    "There are other data types that will not be covered in this lecture such as 'bytearray' but the Data Types which are covered are by far the most common."
   ]
  },
  {
   "cell_type": "markdown",
   "metadata": {},
   "source": [
    "#### int\n",
    "'int' means integer. A whole number positive or negative including zero. Python defaults most calculations to avoid some interesting behaviors, but it is good to understand what is going on so let's explore those now."
   ]
  },
  {
   "cell_type": "code",
   "execution_count": 11,
   "metadata": {
    "collapsed": false
   },
   "outputs": [
    {
     "name": "stdout",
     "output_type": "stream",
     "text": [
      "5 <class 'int'>\n",
      "2\n"
     ]
    }
   ],
   "source": [
    "x = 5\n",
    "print( x, type(x))\n",
    "print( int(x/2) )"
   ]
  },
  {
   "cell_type": "markdown",
   "metadata": {},
   "source": [
    "We all know that 5 divided by 2 is 2.5 but integers can only store whole numbers and therefore the computer truncates 2.5 to 2 as shown above."
   ]
  },
  {
   "cell_type": "markdown",
   "metadata": {},
   "source": [
    "#### Float\n",
    "'float' means a floating point number. A floating point number is a number with a decimal point. Python tries to smart when determining what kind of data something is as demonstrated below."
   ]
  },
  {
   "cell_type": "code",
   "execution_count": 12,
   "metadata": {
    "collapsed": false
   },
   "outputs": [
    {
     "name": "stdout",
     "output_type": "stream",
     "text": [
      "5 <class 'int'>\n",
      "2.5 <class 'float'>\n"
     ]
    }
   ],
   "source": [
    "x = 5\n",
    "print( x, type( x ))\n",
    "y = x/2\n",
    "print( y, type( y ))"
   ]
  },
  {
   "cell_type": "markdown",
   "metadata": {},
   "source": [
    "#### Bool\n",
    "'bool' is a boolean value, meaning that it can be either true or false. There are keywords in python for True and False that are of type 'bool'. In python 0,the keyword None, and empty sets, are considered to be false and all other values are considered true.\n"
   ]
  },
  {
   "cell_type": "code",
   "execution_count": 13,
   "metadata": {
    "collapsed": false
   },
   "outputs": [
    {
     "name": "stdout",
     "output_type": "stream",
     "text": [
      "<class 'bool'> <class 'bool'>\n",
      "True True True False False False True\n"
     ]
    }
   ],
   "source": [
    "print( type(True), type(False))\n",
    "print( bool(1), bool(2), bool(-1), bool(0), bool(None), bool([]), bool(['a']))\n"
   ]
  },
  {
   "cell_type": "markdown",
   "metadata": {},
   "source": [
    "### Sequence Data Types"
   ]
  },
  {
   "cell_type": "markdown",
   "metadata": {},
   "source": [
    "#### String\n",
    "String is a sequence of characters. This is the common way to store and manipulate text. Strings can contain: letters, numerals, symbols, and punctuation marks. Python can also be used to store Unicode characters. Unicode characters have the ability to encode many more characters that the ones available on the keyboard. \n",
    "\n",
    "Unicode characters can be looked up here: <http://www.rapidtables.com/code/text/unicode-characters.htm>"
   ]
  },
  {
   "cell_type": "code",
   "execution_count": 14,
   "metadata": {
    "collapsed": false
   },
   "outputs": [
    {
     "name": "stdout",
     "output_type": "stream",
     "text": [
      "<class 'str'> Dallin Marshall\n",
      "<class 'str'> This is a sentence with numbers (3.14) and special characters (?.,<>&).\n",
      "<class 'str'> ₩, ₪, α, β\n"
     ]
    }
   ],
   "source": [
    "x = \"Dallin Marshall\"\n",
    "print( type(x), x )\n",
    "y = \"This is a sentence with numbers (3.14) and special characters (?.,<>&).\"\n",
    "print( type(y), y )\n",
    "z = \"\\u20A9, \\u20AA, \\u03B1, \\u03B2\"\n",
    "print( type(z), z )"
   ]
  },
  {
   "cell_type": "markdown",
   "metadata": {},
   "source": [
    "Python uses two characters to denote strings single quotes (```'```) and double quotes (```\"```). There is one more way to denote strings that we will cover in this lecture. Multi-line strings can be denoted in two ways, either by using the ```\\n``` character with regular quotes or with the ```\"\"\"``` multi-line string quotes."
   ]
  },
  {
   "cell_type": "code",
   "execution_count": 15,
   "metadata": {
    "collapsed": false
   },
   "outputs": [
    {
     "name": "stdout",
     "output_type": "stream",
     "text": [
      "Dallin Marshall Dallin Marshall\n",
      "₩, ₪, α, β ₩, ₪, α, β\n",
      "Dallin\n",
      "Marshall\n",
      "Dallin\n",
      "Marshall\n"
     ]
    }
   ],
   "source": [
    "x = \"Dallin Marshall\"\n",
    "x1 = 'Dallin Marshall'\n",
    "print( x, x1 )\n",
    "\n",
    "y = \"\\u20A9, \\u20AA, \\u03B1, \\u03B2\"\n",
    "y1 = '\\u20A9, \\u20AA, \\u03B1, \\u03B2'\n",
    "print( y, y1 )\n",
    "\n",
    "z = \"Dallin\\nMarshall\"\n",
    "z1 = \"\"\"Dallin\n",
    "Marshall\"\"\"\n",
    "print( z )\n",
    "print( z1 )"
   ]
  },
  {
   "cell_type": "markdown",
   "metadata": {},
   "source": [
    "There is a builtin function that can convert builtin data types to strings. This function can come in handy when receiving the input from a user, manipulating the data, and then converting it back to a string. "
   ]
  },
  {
   "cell_type": "code",
   "execution_count": 16,
   "metadata": {
    "collapsed": false
   },
   "outputs": [
    {
     "ename": "TypeError",
     "evalue": "unsupported operand type(s) for /: 'str' and 'int'",
     "output_type": "error",
     "traceback": [
      "\u001b[1;31m---------------------------------------------------------------------------\u001b[0m",
      "\u001b[1;31mTypeError\u001b[0m                                 Traceback (most recent call last)",
      "\u001b[1;32m<ipython-input-16-87ba7c8a6868>\u001b[0m in \u001b[0;36m<module>\u001b[1;34m()\u001b[0m\n\u001b[0;32m      1\u001b[0m \u001b[1;31m# This is what does not work\u001b[0m\u001b[1;33m\u001b[0m\u001b[1;33m\u001b[0m\u001b[0m\n\u001b[0;32m      2\u001b[0m \u001b[0mx\u001b[0m \u001b[1;33m=\u001b[0m \u001b[1;34m\"26\"\u001b[0m\u001b[1;33m\u001b[0m\u001b[0m\n\u001b[1;32m----> 3\u001b[1;33m \u001b[0mprint\u001b[0m\u001b[1;33m(\u001b[0m \u001b[0mx\u001b[0m \u001b[1;33m/\u001b[0m \u001b[1;36m2\u001b[0m \u001b[1;33m)\u001b[0m\u001b[1;33m\u001b[0m\u001b[0m\n\u001b[0m",
      "\u001b[1;31mTypeError\u001b[0m: unsupported operand type(s) for /: 'str' and 'int'"
     ]
    }
   ],
   "source": [
    "# This is what does not work\n",
    "x = \"26\"\n",
    "print( x / 2 )"
   ]
  },
  {
   "cell_type": "code",
   "execution_count": 17,
   "metadata": {
    "collapsed": false
   },
   "outputs": [
    {
     "name": "stdout",
     "output_type": "stream",
     "text": [
      "<class 'str'>\n",
      "<class 'int'>\n",
      "<class 'str'>\n",
      "13.0\n"
     ]
    }
   ],
   "source": [
    "# This is how to convert from a string to a number\n",
    "x = \"26\"\n",
    "print( type(x) )\n",
    "x = int(x)\n",
    "print( type(x) )\n",
    "# This is the string function. It converts things to strings\n",
    "x = str(x/2)\n",
    "print( type( x ) )\n",
    "print( x )"
   ]
  },
  {
   "cell_type": "markdown",
   "metadata": {},
   "source": [
    "The reason that strings are a sequence data type is because the individual elements that make up the string can be referenced independently. Don't worry too much if you don't understand all of what is going on with the indexes. There will be much more on indexing in the list section."
   ]
  },
  {
   "cell_type": "code",
   "execution_count": 18,
   "metadata": {
    "collapsed": false
   },
   "outputs": [
    {
     "name": "stdout",
     "output_type": "stream",
     "text": [
      "D\n",
      "l\n",
      "h\n",
      "Marshall\n",
      "llahsraM nillaD\n",
      "Dli asal\n"
     ]
    }
   ],
   "source": [
    "x = \"Dallin Marshall\"\n",
    "print( x[0] )\n",
    "print( x[3] )\n",
    "print( x[-4] )\n",
    "print( x[7:])\n",
    "print( x[::-1] )\n",
    "print( x[0::2])"
   ]
  },
  {
   "cell_type": "markdown",
   "metadata": {},
   "source": [
    "Strings have many member functions which we will talk about later in the class. Member functions are other functionality that certain data types provide to the user. More information about list can be found here: <https://docs.python.org/3/library/stdtypes.html#string-methods>\n",
    "\n",
    "Strings have the following member functions:"
   ]
  },
  {
   "cell_type": "code",
   "execution_count": 19,
   "metadata": {
    "collapsed": false
   },
   "outputs": [
    {
     "name": "stdout",
     "output_type": "stream",
     "text": [
      "['capitalize', 'casefold', 'center', 'count', 'encode', 'endswith', 'expandtabs', 'find', 'format', 'format_map', 'index', 'isalnum', 'isalpha', 'isdecimal', 'isdigit', 'isidentifier', 'islower', 'isnumeric', 'isprintable', 'isspace', 'istitle', 'isupper', 'join', 'ljust', 'lower', 'lstrip', 'maketrans', 'partition', 'replace', 'rfind', 'rindex', 'rjust', 'rpartition', 'rsplit', 'rstrip', 'split', 'splitlines', 'startswith', 'strip', 'swapcase', 'title', 'translate', 'upper', 'zfill']\n"
     ]
    }
   ],
   "source": [
    "x = str\n",
    "print( [method for method in dir(x) if callable(getattr(x, method)) and not method.startswith( '__' )] )"
   ]
  },
  {
   "cell_type": "markdown",
   "metadata": {},
   "source": [
    "#### List\n",
    "Lists in python are special objects that store groups of items. Keep in mind that python is what is called a zero-based language. Therefore the first item in a list is the 0th element. \n",
    "\n",
    "Lists can also be used to store collections of data that are not of the same data types. "
   ]
  },
  {
   "cell_type": "code",
   "execution_count": 20,
   "metadata": {
    "collapsed": false
   },
   "outputs": [
    {
     "name": "stdout",
     "output_type": "stream",
     "text": [
      "<class 'list'>\n",
      "4\n",
      "8\n",
      "['Dallin Marshall', 26, 'Engineer', [1, 2, 3, 4]]\n"
     ]
    }
   ],
   "source": [
    "x = [1, 2, 3, 4, 5, 6, 7, 8 ,9, 0]\n",
    "print( type( x ) )\n",
    "print( x[3] )\n",
    "print( x[7] )\n",
    "\n",
    "# y could be a structure that stores data about a person:\n",
    "#     Name             age   JobeTitle  favNumbers\n",
    "y = [\"Dallin Marshall\", 26, \"Engineer\", [1,2,3,4]]\n",
    "print( y )"
   ]
  },
  {
   "cell_type": "markdown",
   "metadata": {},
   "source": [
    "Lists can be indexed in many ways: Backwards, Forwards, with a particular increment, or partition.\n",
    "\n",
    "List can also be changed."
   ]
  },
  {
   "cell_type": "code",
   "execution_count": 21,
   "metadata": {
    "collapsed": false
   },
   "outputs": [
    {
     "name": "stdout",
     "output_type": "stream",
     "text": [
      "[0, 1, 2, 3, 4, 5, 6, 7, 8, 9, 10, 11, 12, 13, 14, 15, 16, 17, 18, 19]\n",
      "5\n",
      "9\n",
      "[2, 3, 4, 5, 6, 7]\n",
      "[0, 1, 2, 3, 4, 5, 6, 7, 8, 9]\n",
      "[0, 2, 4, 6, 8, 10, 12, 14, 16, 18]\n",
      "[0, 3, 6, 9, 12, 15, 18]\n",
      "[0, 1, 2, 3, 4, 5, 6, 7, 8, 9, 'Dallin Marshall', 11, 12, 13, 14, 15, 16, 17, 18, 19]\n"
     ]
    }
   ],
   "source": [
    "x = [0,1,2,3,4,5,6,7,8,9,10,11,12,13,14,15,16,17,18,19]\n",
    "print( x )\n",
    "print( x[5] ) # print 5th element\n",
    "print( x[-11] ) # print the negative 11th element\n",
    "# Everything below this point in the lecture is considered a partition of x ( a sub-set of x )\n",
    "print( x[2:8] ) # print element 2 to right before element 8.\n",
    "print( x[:10] ) # print elements 0 to 9\n",
    "print( x[::2] ) # print every other element of x\n",
    "print( x[::3] ) # print every third element of x\n",
    "\n",
    "x[10] = \"Dallin Marshall\"\n",
    "print( x )"
   ]
  },
  {
   "cell_type": "markdown",
   "metadata": {},
   "source": [
    "Lists have many member functions which we will talk about later in the class. Member functions are other functionality that certain data types provide to the user. More information about list can be found here: <https://docs.python.org/3.5/tutorial/datastructures.html#>\n",
    "\n",
    "We will cover more advanced list creation such as list comprehension in a future lecture.\n",
    "\n",
    "Lists have the following member functions:"
   ]
  },
  {
   "cell_type": "code",
   "execution_count": 22,
   "metadata": {
    "collapsed": false
   },
   "outputs": [
    {
     "name": "stdout",
     "output_type": "stream",
     "text": [
      "['append', 'clear', 'copy', 'count', 'extend', 'index', 'insert', 'pop', 'remove', 'reverse', 'sort']\n"
     ]
    }
   ],
   "source": [
    "x = list\n",
    "print( [method for method in dir(x) if callable(getattr(x, method)) and not method.startswith( '__' )] )"
   ]
  },
  {
   "cell_type": "markdown",
   "metadata": {},
   "source": [
    "#### Tuple\n",
    "Tuples are like lists except that they are immutable. This means that you can't change the elements once the tuple is assigned to a variable. "
   ]
  },
  {
   "cell_type": "code",
   "execution_count": 23,
   "metadata": {
    "collapsed": false
   },
   "outputs": [
    {
     "name": "stdout",
     "output_type": "stream",
     "text": [
      "<class 'tuple'>\n"
     ]
    },
    {
     "ename": "TypeError",
     "evalue": "'tuple' object does not support item assignment",
     "output_type": "error",
     "traceback": [
      "\u001b[1;31m---------------------------------------------------------------------------\u001b[0m",
      "\u001b[1;31mTypeError\u001b[0m                                 Traceback (most recent call last)",
      "\u001b[1;32m<ipython-input-23-f4cb124ea3e9>\u001b[0m in \u001b[0;36m<module>\u001b[1;34m()\u001b[0m\n\u001b[0;32m      1\u001b[0m \u001b[0mx\u001b[0m \u001b[1;33m=\u001b[0m \u001b[1;33m(\u001b[0m\u001b[1;36m0\u001b[0m\u001b[1;33m,\u001b[0m\u001b[1;36m1\u001b[0m\u001b[1;33m,\u001b[0m\u001b[1;36m2\u001b[0m\u001b[1;33m,\u001b[0m\u001b[1;36m3\u001b[0m\u001b[1;33m,\u001b[0m\u001b[1;36m4\u001b[0m\u001b[1;33m,\u001b[0m\u001b[1;36m5\u001b[0m\u001b[1;33m,\u001b[0m\u001b[1;36m6\u001b[0m\u001b[1;33m,\u001b[0m\u001b[1;36m7\u001b[0m\u001b[1;33m,\u001b[0m\u001b[1;36m8\u001b[0m\u001b[1;33m,\u001b[0m\u001b[1;36m9\u001b[0m\u001b[1;33m)\u001b[0m\u001b[1;33m\u001b[0m\u001b[0m\n\u001b[0;32m      2\u001b[0m \u001b[0mprint\u001b[0m\u001b[1;33m(\u001b[0m \u001b[0mtype\u001b[0m\u001b[1;33m(\u001b[0m \u001b[0mx\u001b[0m \u001b[1;33m)\u001b[0m \u001b[1;33m)\u001b[0m\u001b[1;33m\u001b[0m\u001b[0m\n\u001b[1;32m----> 3\u001b[1;33m \u001b[0mx\u001b[0m\u001b[1;33m[\u001b[0m\u001b[1;36m4\u001b[0m\u001b[1;33m]\u001b[0m \u001b[1;33m=\u001b[0m \u001b[1;36m100\u001b[0m\u001b[1;33m\u001b[0m\u001b[0m\n\u001b[0m",
      "\u001b[1;31mTypeError\u001b[0m: 'tuple' object does not support item assignment"
     ]
    }
   ],
   "source": [
    "x = (0,1,2,3,4,5,6,7,8,9)\n",
    "print( type( x ) )\n",
    "x[4] = 100"
   ]
  },
  {
   "cell_type": "markdown",
   "metadata": {},
   "source": [
    "Tuples have many member functions which we will talk about later in the class. Member functions are other functionality that certain data types provide to the user. Tuples have relatively few methods associated with them. This is because of their immutable nature.\n",
    "\n",
    "Tuples have the following member functions:"
   ]
  },
  {
   "cell_type": "code",
   "execution_count": 24,
   "metadata": {
    "collapsed": false
   },
   "outputs": [
    {
     "name": "stdout",
     "output_type": "stream",
     "text": [
      "['count', 'index']\n"
     ]
    }
   ],
   "source": [
    "x = tuple\n",
    "print( [method for method in dir(x) if callable(getattr(x, method)) and not method.startswith( '__' )] )"
   ]
  },
  {
   "cell_type": "markdown",
   "metadata": {},
   "source": [
    "### Collection and Mapping Data Types"
   ]
  },
  {
   "cell_type": "markdown",
   "metadata": {
    "collapsed": true
   },
   "source": [
    "#### Dictionary\n",
    "Dictionaries are one of the most useful data types that Python provides to the users. These structures are know by different name in other languages for example in C++ these are maps and in Perl these are Hashes.\n",
    "\n",
    "Essentially a Dictionary is a way to point one value to another. This could be very handy in many applications where data relates to other data. For example where I want to relate some information about myself."
   ]
  },
  {
   "cell_type": "code",
   "execution_count": 25,
   "metadata": {
    "collapsed": false
   },
   "outputs": [
    {
     "name": "stdout",
     "output_type": "stream",
     "text": [
      "<class 'dict'>\n",
      "Dallin's Age is: 26\n",
      "Dallin's Email is: dmarshall@micron.com\n"
     ]
    }
   ],
   "source": [
    "dallin = {'age': 26, 'college_team': 'USU', 'favColor': 'Blue', 'email': 'dmarshall@micron.com'}\n",
    "print( type( dallin ) )\n",
    "print( \"Dallin's Age is: \" + str(dallin['age']))\n",
    "print( \"Dallin's Email is: \" + dallin['email']) # why did I not need to use the str function here."
   ]
  },
  {
   "cell_type": "markdown",
   "metadata": {},
   "source": [
    "Dictionaries have many member functions which we will talk about later in the class. Member functions are other functionality that certain data types provide to the user. More information about list can be found here: <https://docs.python.org/3/tutorial/datastructures.html#dictionaries>\n",
    "\n",
    "Dictionaries have the following member functions:"
   ]
  },
  {
   "cell_type": "code",
   "execution_count": 26,
   "metadata": {
    "collapsed": false
   },
   "outputs": [
    {
     "name": "stdout",
     "output_type": "stream",
     "text": [
      "['clear', 'copy', 'fromkeys', 'get', 'items', 'keys', 'pop', 'popitem', 'setdefault', 'update', 'values']\n"
     ]
    }
   ],
   "source": [
    "x = dict\n",
    "print( [method for method in dir(x) if callable(getattr(x, method)) and not method.startswith( '__' )] )"
   ]
  },
  {
   "cell_type": "markdown",
   "metadata": {},
   "source": [
    "# Practice Problems\n",
    "There is one more function that I will introduce this week that will allow your programs to be a little more flexible and accept user input. The input function stores a string of the value input by the user into the assigned variable."
   ]
  },
  {
   "cell_type": "code",
   "execution_count": 27,
   "metadata": {
    "collapsed": false
   },
   "outputs": [
    {
     "name": "stdout",
     "output_type": "stream",
     "text": [
      "Please give me a number: 3.1415\n",
      "<class 'str'>\n",
      "The number that you gave me is: 3.1415\n"
     ]
    }
   ],
   "source": [
    "x = input( \"Please give me a number: \")\n",
    "print( type( x ) )\n",
    "print( \"The number that you gave me is: \" + x )"
   ]
  },
  {
   "cell_type": "markdown",
   "metadata": {},
   "source": [
    "## Practice Problem 1\n",
    "Accept input from the user and then reveres the string and print it back to the user.\n"
   ]
  },
  {
   "cell_type": "markdown",
   "metadata": {},
   "source": [
    "## Practice Problem 2\n",
    "Practice making a dictionary of dictionaries that follows the same format as I demonstrated in the dictionary section.\n",
    "\n",
    "```python\n",
    "{'age': 26, 'college_team': 'USU', 'favColor': 'Blue', 'email': 'dmarshall@micron.com'}\n",
    "```\n",
    "\n",
    "Add entries for yourself, me (dallin), and your supervisor.\n",
    "\n",
    "Once the dictionary or dictionaries is complete you should be able to access elements as follows:\n",
    "```python\n",
    "x['dallin']['age']\n",
    "```"
   ]
  },
  {
   "cell_type": "markdown",
   "metadata": {},
   "source": [
    "## Practice Problem 3\n",
    "An industrious USU freshman wishes to conduct and ad-hoc experiment wherein a 0.065 Kg raw egg is to be launched over the top of Old Main Hall using a slingshot with ideal elastics and delivered to an otherwise preoccupied professor travelling across campus.\n",
    "\n",
    "![title](problem3.png)\n",
    "\n",
    "Create a program that accepts two arguments (inputs) corresponding to Theta(degrees) and D(meters) in the diagram below which will tell us how far we will need to pull back our slingshot to hit our professor with an egg.\n",
    "\n",
    "Hint you can make use of the math library to facilitate solving this problem. Add the ```import math``` line at the top of your file and you will have access to math function. More info on the math module here: <https://docs.python.org/3.5/library/math.html>"
   ]
  },
  {
   "cell_type": "code",
   "execution_count": 28,
   "metadata": {
    "collapsed": false
   },
   "outputs": [
    {
     "name": "stdout",
     "output_type": "stream",
     "text": [
      "10.0 0.7071067811865475\n"
     ]
    }
   ],
   "source": [
    "import math\n",
    "x = math.sqrt(100)\n",
    "# The Sin function requires it's argument to be in radians\n",
    "# Therefore we can use the math.radians function to convert degrees to radians.\n",
    "y = math.sin( math.radians(45) )\n",
    "\n",
    "print( x, y )"
   ]
  },
  {
   "cell_type": "markdown",
   "metadata": {},
   "source": [
    "Please format your result in the following way - \"You need to pull the slingshot back ### meters to hit the Professor.\""
   ]
  }
 ],
 "metadata": {
  "kernelspec": {
   "display_name": "Python 3",
   "language": "python",
   "name": "python3"
  },
  "language_info": {
   "codemirror_mode": {
    "name": "ipython",
    "version": 3
   },
   "file_extension": ".py",
   "mimetype": "text/x-python",
   "name": "python",
   "nbconvert_exporter": "python",
   "pygments_lexer": "ipython3",
   "version": "3.5.1"
  }
 },
 "nbformat": 4,
 "nbformat_minor": 0
}
