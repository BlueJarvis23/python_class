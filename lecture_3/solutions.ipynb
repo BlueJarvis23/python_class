{
 "cells": [
  {
   "cell_type": "markdown",
   "metadata": {},
   "source": [
    "# Beginning Python Class -- Lecture 3 -- Solutions"
   ]
  },
  {
   "cell_type": "markdown",
   "metadata": {},
   "source": [
    "## Practice Problem 1\n",
    "Please write a function that greets users. This function will accept one argument, the name of the user, and will use the name provided in a more complex greeting.\n",
    "\n",
    "Example definition:\n",
    "```python\n",
    "def complex_greeting( name ):\n",
    "```\n",
    "\n",
    "Example output:\n",
    "    \n",
    "    Hello ######, Welcome to the Micron Boise Campus!"
   ]
  },
  {
   "cell_type": "markdown",
   "metadata": {},
   "source": [
    "### Solution 1"
   ]
  },
  {
   "cell_type": "code",
   "execution_count": 1,
   "metadata": {
    "collapsed": false
   },
   "outputs": [
    {
     "name": "stdout",
     "output_type": "stream",
     "text": [
      "Hello Dallin, Welcome to the Micron boise Campus!\n",
      "Hello Josh, Welcome to the Micron boise Campus!\n",
      "Hello Dave, Welcome to the Micron boise Campus!\n"
     ]
    }
   ],
   "source": [
    "def complex_greeting( name ):\n",
    "    print( \"Hello \" + name + \", Welcome to the Micron boise Campus!\" )\n",
    "    \n",
    "complex_greeting( \"Dallin\" )\n",
    "complex_greeting( \"Josh\" )\n",
    "complex_greeting( \"Dave\" )"
   ]
  },
  {
   "cell_type": "markdown",
   "metadata": {},
   "source": [
    "## Practice Problem 2\n",
    "Write a function that takes three parameters: `input1`, `input2`, and `input3`. Return the value `input1*input2+input3`. Please test your funciton with many different combinations of number."
   ]
  },
  {
   "cell_type": "markdown",
   "metadata": {},
   "source": [
    "### Solution 2"
   ]
  },
  {
   "cell_type": "code",
   "execution_count": 2,
   "metadata": {
    "collapsed": false
   },
   "outputs": [
    {
     "name": "stdout",
     "output_type": "stream",
     "text": [
      "10\n",
      "42\n",
      "57\n"
     ]
    }
   ],
   "source": [
    "def math_function( input1, input2, input3):\n",
    "    return input1*input2+input3\n",
    "\n",
    "print( math_function(2,3,4) )\n",
    "print( math_function(5,8,2) )\n",
    "print( math_function(9,5,12))"
   ]
  },
  {
   "cell_type": "markdown",
   "metadata": {},
   "source": [
    "## Practice Problem 3\n",
    "Write a function that accepts three arguments and creates a list with the arguments in it. Then use the Built-in function `sorted()` to return the sorted version of the created list. Read about the `sorted()` function at the link provided in the Built-in Function section."
   ]
  },
  {
   "cell_type": "markdown",
   "metadata": {},
   "source": [
    "### Solution 3"
   ]
  },
  {
   "cell_type": "code",
   "execution_count": 3,
   "metadata": {
    "collapsed": false
   },
   "outputs": [
    {
     "name": "stdout",
     "output_type": "stream",
     "text": [
      "[3, 5, 7]\n",
      "[0, 7, 8]\n",
      "[-12343, -100, 57]\n",
      "[-40, 34, 675]\n"
     ]
    }
   ],
   "source": [
    "def get_sorted_list( x, y, z ):\n",
    "    return sorted( [x,y,z] )\n",
    "\n",
    "print( get_sorted_list( 5,3,7 ))\n",
    "print( get_sorted_list( 8,7,0 ))\n",
    "print( get_sorted_list( -100,57,-12343 ))\n",
    "print( get_sorted_list( -40,675,34 ))"
   ]
  },
  {
   "cell_type": "markdown",
   "metadata": {},
   "source": [
    "## Practice Problem 4\n",
    "Write a function that accepts a string and returns the number of unique characters in that string. Inside the function print out the unique characters in order as they appear in the string.\n",
    "\n",
    "Example definition:\n",
    "```python\n",
    "def find_unique_letters( string ):\n",
    "```\n",
    "\n",
    "Example Input:\n",
    "\n",
    "    'Dallin Marshall'\n",
    "    \n",
    "Example Output:\n",
    "\n",
    "    Dalin Mrsh\n",
    "    \n",
    "Example Return Value:\n",
    "\n",
    "    10\n",
    "    \n",
    "Remember we are counting the number of unique characters. A space is a character."
   ]
  },
  {
   "cell_type": "markdown",
   "metadata": {},
   "source": [
    "### Solution 4"
   ]
  },
  {
   "cell_type": "code",
   "execution_count": 4,
   "metadata": {
    "collapsed": false
   },
   "outputs": [
    {
     "name": "stdout",
     "output_type": "stream",
     "text": [
      "Dalin Mrsh\n",
      "10\n",
      "Micron Tehlgy\n",
      "13\n",
      "Product Engie\n",
      "13\n"
     ]
    }
   ],
   "source": [
    "def find_unique_letters( string ):\n",
    "    unique = ''\n",
    "    for x in string:\n",
    "        if x not in unique:\n",
    "            unique = unique + x\n",
    "    print( unique )\n",
    "    return len( unique )\n",
    "\n",
    "print( find_unique_letters( \"Dallin Marshall\" ) )\n",
    "print( find_unique_letters( \"Micron Technology\" ) )\n",
    "print( find_unique_letters( \"Product Engineering\" ) )"
   ]
  }
 ],
 "metadata": {
  "kernelspec": {
   "display_name": "Python 3",
   "language": "python",
   "name": "python3"
  },
  "language_info": {
   "codemirror_mode": {
    "name": "ipython",
    "version": 3
   },
   "file_extension": ".py",
   "mimetype": "text/x-python",
   "name": "python",
   "nbconvert_exporter": "python",
   "pygments_lexer": "ipython3",
   "version": "3.6.0"
  }
 },
 "nbformat": 4,
 "nbformat_minor": 0
}
